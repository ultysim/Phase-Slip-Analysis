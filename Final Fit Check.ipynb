{
 "cells": [
  {
   "cell_type": "code",
   "execution_count": 1,
   "metadata": {},
   "outputs": [
    {
     "name": "stdout",
     "output_type": "stream",
     "text": [
      "Using matplotlib backend: TkAgg\n"
     ]
    }
   ],
   "source": [
    "import Analysis\n",
    "import matplotlib as mpl\n",
    "from matplotlib import pyplot as plt\n",
    "import numpy as np\n",
    "%matplotlib"
   ]
  },
  {
   "cell_type": "code",
   "execution_count": 21,
   "metadata": {
    "collapsed": true
   },
   "outputs": [],
   "source": [
    "from scipy.optimize import curve_fit"
   ]
  },
  {
   "cell_type": "code",
   "execution_count": 20,
   "metadata": {
    "collapsed": true
   },
   "outputs": [],
   "source": [
    "def search(data, t):\n",
    "    seq = data\n",
    "    min = 0\n",
    "    max = len(seq) - 1\n",
    "    while True:        \n",
    "        m = (min + max) // 2\n",
    "        if max < min:\n",
    "            if np.abs(t-seq[m]) < np.abs(t-seq[m-1]):          \n",
    "                return m\n",
    "            else:\n",
    "                return m-1        \n",
    "        if seq[m] < t:\n",
    "            min = m + 1\n",
    "        elif seq[m] > t:\n",
    "            max = m - 1\n",
    "        else:\n",
    "            return m"
   ]
  },
  {
   "cell_type": "code",
   "execution_count": 27,
   "metadata": {
    "collapsed": true
   },
   "outputs": [],
   "source": [
    "def data_partition(data_x,data_y,sections):\n",
    "    x = list()\n",
    "    y = list()\n",
    "    for i in sections:\n",
    "        i_min = search(data_x,i[0])\n",
    "        i_max = search(data_x,i[1])+1\n",
    "        x.extend(data_x[i_min:i_max])\n",
    "        y.extend(data_y[i_min:i_max])\n",
    "    return np.array(x), np.array(y)"
   ]
  },
  {
   "cell_type": "code",
   "execution_count": 19,
   "metadata": {
    "collapsed": true
   },
   "outputs": [],
   "source": [
    "def func(x,freq,amp,phase_l,height,slope,v0):\n",
    "    return height + amp * np.sin(freq * x + phase_l) + slope * (x - v0)\n",
    "    \n",
    "    \n",
    "def gen_func(fit):\n",
    "    def fitting_func(x, phase_r):\n",
    "        return func(x,fit[0],fit[1],phase_r,fit[3],fit[4],fit[5])\n",
    "    return fitting_func\n",
    "\n",
    "\n",
    "def make_fit(popt,popt2,left,right):\n",
    "    d_phi = ((popt2[0] - popt[2])/np.pi)%2\n",
    "    return Analysis.Fit([popt[0],popt[1],popt2[0],popt[2],popt[3],popt[4],1,left,right,d_phi,1,popt[5]])"
   ]
  },
  {
   "cell_type": "code",
   "execution_count": 2,
   "metadata": {
    "collapsed": true
   },
   "outputs": [],
   "source": [
    "run_2014 = Analysis.generate_2014()\n",
    "run_2011 = Analysis.generate_2011()"
   ]
  },
  {
   "cell_type": "code",
   "execution_count": 5,
   "metadata": {
    "collapsed": true
   },
   "outputs": [],
   "source": [
    "for i in run_2014.prune_data:\n",
    "    plt.figure()\n",
    "    i.plot()\n",
    "    for j in i.fits:\n",
    "        j.plot(False)\n",
    "    "
   ]
  },
  {
   "cell_type": "code",
   "execution_count": 52,
   "metadata": {
    "collapsed": true
   },
   "outputs": [],
   "source": [
    "def regression(filenum,edge_list):\n",
    "\n",
    "    x_temp, y_temp = data_partition(run_2014.prune_data[filenum].x,run_2014.prune_data[filenum].y,edge_list)\n",
    "    \n",
    "    if len(run_2014.prune_data[filenum].fits) > 0:\n",
    "\n",
    "        guess = [run_2014.prune_data[filenum].fits[0].freq,run_2014.prune_data[filenum].fits[0].amp,run_2014.prune_data[filenum].fits[0].phase_l,run_2014.prune_data[filenum].fits[0].height,run_2014.prune_data[filenum].fits[0].slope,run_2014.prune_data[filenum].fits[0].v0]\n",
    "        popt, pcov = curve_fit(func, x_temp, y_temp, p0 = guess)\n",
    "    \n",
    "    else:\n",
    "        popt, pcov = curve_fit(func, x_temp, y_temp)\n",
    "\n",
    "    return popt"
   ]
  },
  {
   "cell_type": "code",
   "execution_count": 57,
   "metadata": {
    "collapsed": true
   },
   "outputs": [],
   "source": [
    "def regression_2(filenum,popt,edge_list):\n",
    "    slip_func = gen_func(popt)\n",
    "    x_temp, y_temp = data_partition(run_2014.prune_data[filenum].x,run_2014.prune_data[filenum].y,edge_list)\n",
    "    temp = (popt[2]%(2*np.pi))\n",
    "    guess = temp - 0.25 * np.pi\n",
    "    popt2, pcov2 = curve_fit(slip_func, x_temp, y_temp,p0=[guess],bounds = ([-2*np.pi],[2*np.pi]))\n",
    "    return slip_func, popt2"
   ]
  },
  {
   "cell_type": "code",
   "execution_count": 49,
   "metadata": {
    "collapsed": true
   },
   "outputs": [],
   "source": [
    "filenum = 12"
   ]
  },
  {
   "cell_type": "code",
   "execution_count": 65,
   "metadata": {},
   "outputs": [],
   "source": [
    "run_2014.prune_data[filenum].plot()\n",
    "for i in run_2014.prune_data[filenum].fits:\n",
    "    i.plot(False)"
   ]
  },
  {
   "cell_type": "code",
   "execution_count": 40,
   "metadata": {
    "collapsed": true
   },
   "outputs": [],
   "source": [
    "run_2014.prune_data[filenum].plot_fit(0)"
   ]
  },
  {
   "cell_type": "code",
   "execution_count": 55,
   "metadata": {},
   "outputs": [],
   "source": [
    "out = regression(filenum,[[-30.719,-21.09]])"
   ]
  },
  {
   "cell_type": "code",
   "execution_count": 58,
   "metadata": {},
   "outputs": [
    {
     "data": {
      "text/plain": [
       "[<matplotlib.lines.Line2D at 0x20fd34a8>]"
      ]
     },
     "execution_count": 58,
     "metadata": {},
     "output_type": "execute_result"
    }
   ],
   "source": [
    "run_2014.prune_data[filenum].plot()\n",
    "plt.plot(run_2014.prune_data[filenum].x,func(run_2014.prune_data[filenum].x,*out),lw=3)"
   ]
  },
  {
   "cell_type": "code",
   "execution_count": 59,
   "metadata": {
    "collapsed": true
   },
   "outputs": [],
   "source": [
    "f, out2 = regression_2(filenum, out, [[-27.1543,-26.8537],[-26.7075,-26.5547],[-24.3996,-24.3357]])"
   ]
  },
  {
   "cell_type": "code",
   "execution_count": 60,
   "metadata": {},
   "outputs": [
    {
     "data": {
      "text/plain": [
       "[<matplotlib.lines.Line2D at 0x22769e80>]"
      ]
     },
     "execution_count": 60,
     "metadata": {},
     "output_type": "execute_result"
    }
   ],
   "source": [
    "run_2014.prune_data[filenum].plot()\n",
    "plt.plot(run_2014.prune_data[filenum].x,f(run_2014.prune_data[filenum].x,*out2),lw=3)"
   ]
  },
  {
   "cell_type": "code",
   "execution_count": 63,
   "metadata": {},
   "outputs": [
    {
     "data": {
      "text/plain": [
       "0.23075031465534224"
      ]
     },
     "execution_count": 63,
     "metadata": {},
     "output_type": "execute_result"
    }
   ],
   "source": [
    "2 - (out[2]-out2[0])/np.pi%2"
   ]
  },
  {
   "cell_type": "code",
   "execution_count": 67,
   "metadata": {},
   "outputs": [
    {
     "data": {
      "text/plain": [
       "[<matplotlib.lines.Line2D at 0x2b49add8>]"
      ]
     },
     "execution_count": 67,
     "metadata": {},
     "output_type": "execute_result"
    }
   ],
   "source": [
    "run_2014.prune_data[filenum].plot()\n",
    "plt.plot(run_2014.prune_data[filenum].x,func(run_2014.prune_data[filenum].x,*out),lw=3,c='k')\n",
    "plt.plot(run_2014.prune_data[filenum].x,f(run_2014.prune_data[filenum].x,*out2),lw=3,c='r')"
   ]
  },
  {
   "cell_type": "code",
   "execution_count": 68,
   "metadata": {
    "collapsed": true
   },
   "outputs": [],
   "source": [
    "f2, out3 = regression_2(filenum, out, [[-30.2696,-30.2331],[-29.9777,-29.901],[-29.5775,-294785]])"
   ]
  },
  {
   "cell_type": "code",
   "execution_count": 100,
   "metadata": {},
   "outputs": [],
   "source": [
    "filenum = 0\n",
    "run_2014.prune_data[filenum].plot()\n",
    "for i in run_2014.prune_data[filenum].fits:\n",
    "    i.plot(False)"
   ]
  },
  {
   "cell_type": "code",
   "execution_count": 93,
   "metadata": {
    "collapsed": true
   },
   "outputs": [],
   "source": [
    "run_2014.prune_data[filenum].plot()"
   ]
  },
  {
   "cell_type": "code",
   "execution_count": null,
   "metadata": {
    "collapsed": true
   },
   "outputs": [],
   "source": []
  }
 ],
 "metadata": {
  "kernelspec": {
   "display_name": "Python 2",
   "language": "python",
   "name": "python2"
  },
  "language_info": {
   "codemirror_mode": {
    "name": "ipython",
    "version": 2
   },
   "file_extension": ".py",
   "mimetype": "text/x-python",
   "name": "python",
   "nbconvert_exporter": "python",
   "pygments_lexer": "ipython2",
   "version": "2.7.10"
  }
 },
 "nbformat": 4,
 "nbformat_minor": 2
}

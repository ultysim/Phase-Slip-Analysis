{
 "cells": [
  {
   "cell_type": "code",
   "execution_count": 1,
   "metadata": {
    "collapsed": true
   },
   "outputs": [],
   "source": [
    "bval52 = [5.5845,5.5840,5.5835,5.5830,5.5825,5.5820,5.5815,5.5810,5.5805,5.5800,5.5795,5.5790,5.5785,5.5780,5.5775]\n",
    "bval73 = [5.7485,5.7480,5.7475,5.7470,5.7465,5.7460,5.7455,5.7450,5.7445,5.7440,5.7435,5.7430,5.7425,5.7420,5.7415,5.7410,5.7405]\n",
    "bval2011 = [5.536,5.5355,5.535,5.5345,5.534,5.5335,5.533,5.5325,5.532,5.5315,5.531,5.5305,5.53,5.5295,5.529,5.5285,5.528,5.5275,5.527,5.5265,5.526,5.5255]\n"
   ]
  },
  {
   "cell_type": "code",
   "execution_count": 2,
   "metadata": {},
   "outputs": [
    {
     "name": "stdout",
     "output_type": "stream",
     "text": [
      "Using matplotlib backend: TkAgg\n"
     ]
    }
   ],
   "source": [
    "import numpy as np\n",
    "import matplotlib as mpl\n",
    "from matplotlib import pyplot as plt\n",
    "import CompleteHist as ch\n",
    "import pylab\n",
    "from matplotlib.gridspec import GridSpec\n",
    "%matplotlib "
   ]
  },
  {
   "cell_type": "code",
   "execution_count": 15,
   "metadata": {},
   "outputs": [],
   "source": [
    "se52 = np.load('52se.npy')\n",
    "se2011 = np.load('2011se.npy')\n",
    "ch.parsePrune('soft')\n",
    "ch.parseData()"
   ]
  },
  {
   "cell_type": "code",
   "execution_count": 4,
   "metadata": {
    "collapsed": true
   },
   "outputs": [],
   "source": [
    "import SG\n",
    "from scipy import interpolate"
   ]
  },
  {
   "cell_type": "code",
   "execution_count": 5,
   "metadata": {
    "collapsed": true
   },
   "outputs": [],
   "source": [
    "def search(data, t):\n",
    "    seq = data[0]    \n",
    "    min = 0\n",
    "    max = len(seq) - 1\n",
    "    while True:        \n",
    "        m = (min + max) // 2\n",
    "        if max < min:\n",
    "            if np.abs(t-seq[m]) < np.abs(t-seq[m-1]):          \n",
    "                return m\n",
    "            else:\n",
    "                return m-1        \n",
    "        if seq[m] < t:\n",
    "            min = m + 1\n",
    "        elif seq[m] > t:\n",
    "            max = m - 1\n",
    "        else:\n",
    "            return m\n",
    "            \n",
    "\n",
    "def clip(d,min,max):\n",
    "    data = np.array(d)\n",
    "    li = search(data,min)\n",
    "    ri = search(data,max)\n",
    "    return data[:,li:ri+1]\n",
    "    "
   ]
  },
  {
   "cell_type": "code",
   "execution_count": 6,
   "metadata": {
    "collapsed": true
   },
   "outputs": [],
   "source": [
    "def normalize(data):\n",
    "    minv = min(data)\n",
    "    maxv = max(data)\n",
    "    hold = np.array(data)\n",
    "    for i in range(len(hold)):\n",
    "        hold[i] = (hold[i]-minv)/(maxv-minv)\n",
    "    return hold"
   ]
  },
  {
   "cell_type": "code",
   "execution_count": 10,
   "metadata": {
    "collapsed": true
   },
   "outputs": [],
   "source": [
    "bfieldval = bval52\n",
    "n = 1024\n",
    "smoothval = 51\n",
    "poly = 1\n",
    "interpdim = 2 \n",
    "data = ch.getData()\n",
    "cmlabel = 'Normalized $\\Delta$R$_D$ (k$\\Omega$)'\n",
    "data = [x for (y,x) in sorted(zip(bfieldval,data), key=lambda pair: pair[0])]\n",
    "bval = sorted(bfieldval)    \n",
    "xmin = None\n",
    "xmax = 0\n",
    "for i in data:\n",
    "    if i[0][0] > xmin:\n",
    "        xmin = i[0][0]\n",
    "    if i[0][-1] < xmax:\n",
    "        xmax = i[0][-1]\n",
    "xmin += 0.5\n",
    "xmax -= 0.5\n",
    "xv = np.linspace(xmin,xmax,n)\n",
    "intv = list()\n",
    "for i in data:\n",
    "    #Try flipping filtering and interp\n",
    "    dataclip = clip(i,xmin,xmax)\n",
    "    dataclip[1] = SG.savitzky_golay(dataclip[1],smoothval,poly)\n",
    "    tck = interpolate.splrep(dataclip[0], dataclip[1])\n",
    "    y = interpolate.splev(xv,tck)\n",
    "    intv.append(normalize(y))\n",
    "xb = np.linspace(bval[0],bval[-1],n)\n",
    "b = list()\n",
    "for i in range(len(intv[0])):\n",
    "    hold = list()\n",
    "    for j in range(len(intv)):\n",
    "        hold.append(intv[j][i])\n",
    "    b.append(hold)\n",
    "intb = list()\n",
    "for i in b:\n",
    "    tck = interpolate.splrep(bval,i,k=interpdim)\n",
    "    y = interpolate.splev(xb,tck)\n",
    "    intb.append(y)\n",
    "Z = np.array(intb)\n",
    "X,Y = pylab.meshgrid(xb,xv)\n",
    "\n"
   ]
  },
  {
   "cell_type": "code",
   "execution_count": 11,
   "metadata": {
    "collapsed": true
   },
   "outputs": [],
   "source": [
    "colortype = ch.yellowredblue\n",
    "f, ax = plt.subplots()\n",
    "plt.pcolormesh(X,Y,Z,vmin=0,vmax=1,cmap=colortype)\n",
    "plt.ylim(xmin,xmax)\n",
    "plt.xlim(bval[0],bval[-1])\n",
    "plt.ylabel('Gate Voltage (mV)')\n",
    "plt.xlabel('B Field (T)')\n",
    "cbar = plt.colorbar()\n",
    "cbar.set_label(cmlabel)\n",
    "ax.get_xaxis().get_major_formatter().set_useOffset(False)\n",
    "\n",
    "plt.show()"
   ]
  },
  {
   "cell_type": "code",
   "execution_count": 12,
   "metadata": {
    "collapsed": true
   },
   "outputs": [],
   "source": [
    "def percentile_normalize(data,p=1):\n",
    "    minv = np.percentile(data,p)\n",
    "    maxv = np.percentile(data,100-p)\n",
    "    hold = np.array(data)\n",
    "    for i in range(len(hold)):\n",
    "        hold[i] = (hold[i]-minv)/(maxv-minv)\n",
    "    return hold"
   ]
  },
  {
   "cell_type": "code",
   "execution_count": 16,
   "metadata": {},
   "outputs": [],
   "source": [
    "bfieldval = bval52\n",
    "n = 1024\n",
    "smoothval = 51\n",
    "poly = 2\n",
    "interpdim = 2\n",
    "data = ch.getPrune()\n",
    "cmlabel = 'R$_D$ (k$\\Omega$)'\n",
    "data = [x for (y,x) in sorted(zip(bfieldval,data), key=lambda pair: pair[0])]\n",
    "bval = sorted(bfieldval)    \n",
    "xmin = -100\n",
    "xmax = 0\n",
    "for i in data:\n",
    "    if i[0][0] > xmin:\n",
    "        xmin = i[0][0]\n",
    "    if i[0][-1] < xmax:\n",
    "        xmax = i[0][-1]\n",
    "xmin += 0.5\n",
    "xmax -= 0.5\n",
    "xv = np.linspace(xmin,xmax,n)\n",
    "intv = list()\n",
    "for i in data:\n",
    "    #Try flipping filtering and interp\n",
    "    dataclip = clip(i,xmin,xmax)\n",
    "    dataclip[1] = SG.savitzky_golay(dataclip[1],smoothval,poly)\n",
    "    tck = interpolate.splrep(dataclip[0], dataclip[1],k=1)\n",
    "    y = interpolate.splev(xv,tck)\n",
    "    intv.append(percentile_normalize(y,1))\n",
    "xb = np.linspace(bval[0],bval[-1],n)\n",
    "b = list()\n",
    "for i in range(len(intv[0])):\n",
    "    hold = list()\n",
    "    for j in range(len(intv)):\n",
    "        hold.append(intv[j][i])\n",
    "    b.append(hold)\n",
    "intb = list()\n",
    "for i in b:\n",
    "    tck = interpolate.splrep(bval,i,k=interpdim)\n",
    "    y = interpolate.splev(xb,tck)\n",
    "    intb.append(y)\n",
    "Z = np.array(intb)\n",
    "X,Y = pylab.meshgrid(xb,xv)\n",
    "\n"
   ]
  },
  {
   "cell_type": "code",
   "execution_count": 18,
   "metadata": {
    "collapsed": true
   },
   "outputs": [],
   "source": [
    "gs = GridSpec(1000,1000)\n"
   ]
  },
  {
   "cell_type": "code",
   "execution_count": 39,
   "metadata": {},
   "outputs": [],
   "source": [
    "#Has Vertical Scale\n",
    "xin = 3.1\n",
    "yin = 3.1\n",
    "img = xin*0.9\n",
    "y_len = int(img/yin*1000)\n",
    "colortype = ch.yellowredblue\n",
    "f= plt.figure(figsize=[3.1,3.3])\n",
    "ax = f.add_subplot(gs[100:y_len,100:])\n",
    "im = ax.pcolormesh(X,Y,Z,vmin=0,vmax=1,cmap=colortype)\n",
    "ax.get_xaxis().get_major_formatter().set_useOffset(False)\n",
    "plt.xticks([5.578,5.581,5.584])\n",
    "plt.yticks([-30,-20,-10])\n",
    "ax.set_ylim(xmin,xmax)\n",
    "ax.set_xlim(bval[0],bval[-1])\n",
    "plt.ylabel('V$_{p}$ (mV)',labelpad=-1)\n",
    "\n",
    "plt.xlabel('B (T)')\n",
    "cax = f.add_subplot(gs[65:90,400:700])\n",
    "\n",
    "cbar = plt.colorbar(im,cax=cax,ticks=[0.0,1.0],orientation='horizontal')\n",
    "cax.xaxis.set_label_position('top')\n",
    "cax.set_xlabel('R$_D$ (k$\\Omega$)')\n",
    "cax.set_xticklabels([10.8,11.5])\n",
    "cax.xaxis.labelpad = 2\n",
    "cax.tick_params(axis='x',which='both',bottom='on',top='on',labelbottom='off',labeltop='on',labelsize=8,pad=0)"
   ]
  },
  {
   "cell_type": "code",
   "execution_count": 42,
   "metadata": {
    "collapsed": true
   },
   "outputs": [],
   "source": [
    "#V2\n",
    "#Has Vertical Scale\n",
    "#Default is 12\n",
    "mpl.rcParams.update({'font.size': 8})\n",
    "xin = 3.1\n",
    "yin = 3.1\n",
    "img = xin*0.9\n",
    "y_len = int(img/yin*1000)\n",
    "colortype = ch.yellowredblue\n",
    "\n",
    "f = plt.figure(figsize=[3.1,3.3])\n",
    "ax = f.add_subplot(gs[100:y_len,100:])\n",
    "im = ax.pcolormesh(X,Y,Z,vmin=0,vmax=1,cmap=colortype)\n",
    "ax.get_xaxis().get_major_formatter().set_useOffset(False)\n",
    "plt.xticks([5.579,5.583])\n",
    "plt.yticks([-30,-20,-10])\n",
    "ax.set_ylim(xmin,xmax)\n",
    "ax.set_xlim(bval[0],bval[-1])\n",
    "plt.ylabel('V$_{p}$ (mV)',size = 12)\n",
    "plt.xlabel('B (T)',size = 12)\n",
    "ax.tick_params(axis='y',pad = 2)\n",
    "\n",
    "cax = f.add_subplot(gs[55:80,400:700])\n",
    "cbar = plt.colorbar(im,cax=cax,ticks=[0.0,1.0],orientation='horizontal')\n",
    "cax.xaxis.set_label_position('top')\n",
    "cax.set_xlabel('R$_D$ (k$\\Omega$)',size=9)\n",
    "cax.set_xticklabels([10.8,11.5])\n",
    "cax.xaxis.labelpad = 1\n",
    "cax.tick_params(axis='x',which='both',bottom='on',top='on',labelbottom='off',labeltop='on',labelsize=7,pad=1)"
   ]
  },
  {
   "cell_type": "code",
   "execution_count": 43,
   "metadata": {
    "collapsed": true
   },
   "outputs": [],
   "source": [
    "f.savefig('Color Map v2',dpi=1200)"
   ]
  },
  {
   "cell_type": "code",
   "execution_count": 169,
   "metadata": {
    "collapsed": true
   },
   "outputs": [],
   "source": [
    "colortype = ch.yellowredblue\n",
    "f, ax = plt.subplots()\n",
    "plt.pcolormesh(X,Y,Z,vmin=0,vmax=1,cmap=colortype)\n",
    "plt.ylim(xmin,xmax)\n",
    "plt.xlim(bval[0],bval[-1])\n",
    "plt.ylabel('V$_{p}$ (mV)')\n",
    "plt.xlabel('B (T)')\n",
    "cbar = plt.colorbar(shrink=0.5,ticks=[0,1])\n",
    "cbar.set_label('R$_D$ (k$\\Omega$)')\n",
    "cbar.set_ticklabels([10.8,11.5])\n",
    "ax.get_xaxis().get_major_formatter().set_useOffset(False)\n",
    "plt.xticks([5.578,5.581,5.584])\n",
    "plt.yticks([-30,-20,-10])\n",
    "plt.show()"
   ]
  },
  {
   "cell_type": "code",
   "execution_count": 159,
   "metadata": {
    "collapsed": true
   },
   "outputs": [],
   "source": [
    "f.savefig('Vertical Scale UnNormalized Larger Labels',dpi=1200)"
   ]
  },
  {
   "cell_type": "code",
   "execution_count": 168,
   "metadata": {
    "collapsed": true
   },
   "outputs": [],
   "source": [
    "#Default is 12\n",
    "mpl.rcParams.update({'font.size': 10})"
   ]
  },
  {
   "cell_type": "code",
   "execution_count": 17,
   "metadata": {
    "collapsed": true
   },
   "outputs": [],
   "source": [
    "ch.parsePrune('soft')"
   ]
  },
  {
   "cell_type": "markdown",
   "metadata": {},
   "source": [
    "Use 2011 data:"
   ]
  },
  {
   "cell_type": "code",
   "execution_count": 252,
   "metadata": {
    "collapsed": true
   },
   "outputs": [],
   "source": [
    "ch.parsePrune('soft')"
   ]
  },
  {
   "cell_type": "code",
   "execution_count": 291,
   "metadata": {
    "collapsed": true
   },
   "outputs": [],
   "source": [
    "bfieldval = bval2011\n",
    "n = 1024\n",
    "smoothval = 51\n",
    "poly = 2\n",
    "interpdim = 2\n",
    "data = ch.getPrune()\n",
    "cmlabel = 'Normalized $\\Delta$R$_D$ (k$\\Omega$)'\n",
    "data = [x for (y,x) in sorted(zip(bfieldval,data), key=lambda pair: pair[0])]\n",
    "bval = sorted(bfieldval)    \n",
    "xmin = None\n",
    "xmax = 0\n",
    "for i in data:\n",
    "    if i[0][0] > xmin:\n",
    "        xmin = i[0][0]\n",
    "    if i[0][-1] < xmax:\n",
    "        xmax = i[0][-1]\n",
    "xmin += 0.5\n",
    "xmax -= 0.5\n",
    "xv = np.linspace(xmin,xmax,n)\n",
    "intv = list()\n",
    "count = 0\n",
    "for i in data:\n",
    "    if count == 21:\n",
    "        xmin += 1\n",
    "    #Try flipping filtering and interp\n",
    "    dataclip = clip(i,xmin,xmax)\n",
    "    dataclip[1] = SG.savitzky_golay(dataclip[1],smoothval,poly)\n",
    "    tck = interpolate.splrep(dataclip[0], dataclip[1],k=1)\n",
    "    y = interpolate.splev(xv,tck)\n",
    "    intv.append(percentile_normalize(y,1))\n",
    "    count += 1\n",
    "xb = np.linspace(bval[0],bval[-1],n)\n",
    "b = list()\n",
    "for i in range(len(intv[0])):\n",
    "    hold = list()\n",
    "    for j in range(len(intv)):\n",
    "        hold.append(intv[j][i])\n",
    "    b.append(hold)\n",
    "intb = list()\n",
    "for i in b:\n",
    "    tck = interpolate.splrep(bval,i,k=interpdim)\n",
    "    y = interpolate.splev(xb,tck)\n",
    "    intb.append(y)\n",
    "Z = np.array(intb)\n",
    "X,Y = pylab.meshgrid(xb,xv)\n"
   ]
  },
  {
   "cell_type": "code",
   "execution_count": 293,
   "metadata": {
    "collapsed": true
   },
   "outputs": [],
   "source": [
    "colortype = ch.yellowredblue\n",
    "f, ax = plt.subplots()\n",
    "plt.pcolormesh(X,Y,Z,vmin=0,vmax=1,cmap=colortype)\n",
    "plt.ylim(xmin,xmax)\n",
    "plt.xlim(bval[0],bval[-1])\n",
    "plt.ylabel('Gate Voltage (mV)')\n",
    "plt.xlabel('B Field (T)')\n",
    "cbar = plt.colorbar()\n",
    "cbar.set_label(cmlabel)\n",
    "ax.get_xaxis().get_major_formatter().set_useOffset(False)\n",
    "plt.savefig('ColorMap52_2011',dpi=1200)"
   ]
  },
  {
   "cell_type": "code",
   "execution_count": 296,
   "metadata": {},
   "outputs": [
    {
     "data": {
      "text/plain": [
       "<matplotlib.collections.PathCollection at 0x55e639e8>"
      ]
     },
     "execution_count": 296,
     "metadata": {},
     "output_type": "execute_result"
    }
   ],
   "source": [
    "plt.scatter((se2011[1][:,1]),se2011[1][:,0],s=50,color='w',edgecolor='k')\n",
    "plt.scatter((se2011[0][:,1]),se2011[0][:,0],s=50,color='#00FFFF',marker='d',edgecolor='k')"
   ]
  },
  {
   "cell_type": "markdown",
   "metadata": {},
   "source": [
    "7/3 data"
   ]
  },
  {
   "cell_type": "code",
   "execution_count": 300,
   "metadata": {
    "collapsed": true
   },
   "outputs": [],
   "source": [
    "ch.parsePrune('soft')\n",
    "ch.parseData()"
   ]
  },
  {
   "cell_type": "code",
   "execution_count": 392,
   "metadata": {
    "collapsed": true
   },
   "outputs": [],
   "source": [
    "bfieldval = bval73\n",
    "n = 2048\n",
    "smoothval = 311\n",
    "poly = 1\n",
    "interpdim = 2\n",
    "data = ch.getPrune()\n",
    "cmlabel = 'Normalized $\\Delta$R$_D$ (k$\\Omega$)'\n",
    "data = [x for (y,x) in sorted(zip(bfieldval,data), key=lambda pair: pair[0])]\n",
    "bval = sorted(bfieldval)    \n",
    "xmin = None\n",
    "xmax = 0\n",
    "for i in data:\n",
    "    if i[0][0] > xmin:\n",
    "        xmin = i[0][0]\n",
    "    if i[0][-1] < xmax:\n",
    "        xmax = i[0][-1]\n",
    "xmin += 0.5\n",
    "xmax -= 0.5\n",
    "xv = np.linspace(xmin,xmax,n)\n",
    "intv = list()\n",
    "count = 0\n",
    "for i in data:\n",
    "    if count == 21:\n",
    "        xmin += 1\n",
    "    #Try flipping filtering and interp\n",
    "    dataclip = clip(i,xmin,xmax)\n",
    "    dataclip[1] = SG.savitzky_golay(dataclip[1],smoothval,poly)\n",
    "    tck = interpolate.splrep(dataclip[0], dataclip[1],k=1)\n",
    "    y = interpolate.splev(xv,tck)\n",
    "    intv.append(percentile_normalize(y,0.25))\n",
    "    count += 1\n",
    "xb = np.linspace(bval[0],bval[-1],n)\n",
    "b = list()\n",
    "for i in range(len(intv[0])):\n",
    "    hold = list()\n",
    "    for j in range(len(intv)):\n",
    "        hold.append(intv[j][i])\n",
    "    b.append(hold)\n",
    "intb = list()\n",
    "for i in b:\n",
    "    tck = interpolate.splrep(bval,i,k=interpdim)\n",
    "    y = interpolate.splev(xb,tck)\n",
    "    intb.append(y)\n",
    "Z = np.array(intb)\n",
    "X,Y = pylab.meshgrid(xb,xv)\n"
   ]
  },
  {
   "cell_type": "code",
   "execution_count": 393,
   "metadata": {
    "collapsed": true
   },
   "outputs": [],
   "source": [
    "colortype = ch.yellowredblue\n",
    "f, ax = plt.subplots()\n",
    "plt.pcolormesh(X,Y,Z,vmin=0,vmax=1,cmap=colortype)\n",
    "plt.ylim(xmin,xmax)\n",
    "plt.xlim(bval[0],bval[-1])\n",
    "plt.ylabel('Gate Voltage (mV)')\n",
    "plt.xlabel('B Field (T)')\n",
    "cbar = plt.colorbar()\n",
    "cbar.set_label(cmlabel)\n",
    "ax.get_xaxis().get_major_formatter().set_useOffset(False)\n"
   ]
  },
  {
   "cell_type": "code",
   "execution_count": 305,
   "metadata": {
    "collapsed": true
   },
   "outputs": [],
   "source": [
    "se73 = np.load('73se.npy')"
   ]
  },
  {
   "cell_type": "code",
   "execution_count": 361,
   "metadata": {
    "collapsed": true
   },
   "outputs": [],
   "source": [
    "x = []\n",
    "y = []\n",
    "for i in range(len(se73)):\n",
    "    if len(se73[i])==0:\n",
    "        continue\n",
    "    x.extend(se73[i][:,1])\n",
    "    y.extend(se73[i][:,0])"
   ]
  },
  {
   "cell_type": "code",
   "execution_count": 363,
   "metadata": {},
   "outputs": [
    {
     "data": {
      "text/plain": [
       "<matplotlib.collections.PathCollection at 0x4d20c208>"
      ]
     },
     "execution_count": 363,
     "metadata": {},
     "output_type": "execute_result"
    }
   ],
   "source": [
    "plt.scatter(x,y,s=50,color='w',edgecolor='k')"
   ]
  },
  {
   "cell_type": "code",
   "execution_count": 367,
   "metadata": {
    "collapsed": true
   },
   "outputs": [],
   "source": [
    "ch.interp2D(bval73)\n",
    "ax.get_xaxis().get_major_formatter().set_useOffset(False)"
   ]
  },
  {
   "cell_type": "code",
   "execution_count": 404,
   "metadata": {
    "collapsed": true
   },
   "outputs": [],
   "source": [
    "n=2048\n",
    "xv = np.linspace(xmin,xmax,n)\n",
    "for i in data:\n",
    "    if count == 21:\n",
    "        xmin += 1\n",
    "    #Try flipping filtering and interp\n",
    "    plt.figure()\n",
    "    dataclip = clip(i,xmin,xmax)\n",
    "    plt.plot(dataclip[0],dataclip[1])\n",
    "    dataclip[1] = SG.savitzky_golay(dataclip[1],51,1)\n",
    "    plt.plot(dataclip[0],dataclip[1],c='r')\n",
    "    tck = interpolate.splrep(dataclip[0], dataclip[1],k=1)\n",
    "    y = interpolate.splev(xv,tck)\n",
    "    plt.plot(xv,y)\n",
    "    plt.ylim(12,12.4)\n",
    "    count += 1\n",
    "    plt.plot()"
   ]
  },
  {
   "cell_type": "code",
   "execution_count": 403,
   "metadata": {
    "collapsed": true
   },
   "outputs": [],
   "source": [
    "for i in intv:\n",
    "    plt.figure()\n",
    "    plt.plot(xv,i)\n",
    "    plt.ylim(0,1)"
   ]
  },
  {
   "cell_type": "code",
   "execution_count": 396,
   "metadata": {
    "collapsed": true
   },
   "outputs": [],
   "source": [
    "hist73 = np.load('73hist.npy')"
   ]
  }
 ],
 "metadata": {
  "kernelspec": {
   "display_name": "Python 2",
   "language": "python",
   "name": "python2"
  },
  "language_info": {
   "codemirror_mode": {
    "name": "ipython",
    "version": 2
   },
   "file_extension": ".py",
   "mimetype": "text/x-python",
   "name": "python",
   "nbconvert_exporter": "python",
   "pygments_lexer": "ipython2",
   "version": "2.7.10"
  }
 },
 "nbformat": 4,
 "nbformat_minor": 2
}

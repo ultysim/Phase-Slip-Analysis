{
 "cells": [
  {
   "cell_type": "code",
   "execution_count": 1,
   "metadata": {},
   "outputs": [
    {
     "name": "stdout",
     "output_type": "stream",
     "text": [
      "Using matplotlib backend: TkAgg\n"
     ]
    }
   ],
   "source": [
    "import numpy as np\n",
    "import matplotlib as mpl\n",
    "from matplotlib import pyplot as plt\n",
    "from matplotlib.gridspec import GridSpec\n",
    "import CompleteHist as ch\n",
    "%matplotlib"
   ]
  },
  {
   "cell_type": "code",
   "execution_count": 2,
   "metadata": {
    "collapsed": true
   },
   "outputs": [],
   "source": [
    "def plotSlips(data,fit,slips):\n",
    "    ch.plotFig(data,fit)\n",
    "    holdx = list()\n",
    "    holdy = list()\n",
    "    for i in slips:\n",
    "        holdx.append(i[0])\n",
    "    for i in holdx:\n",
    "        holdy.append(data[1][ch.search(data,i)])\n",
    "    plt.scatter(holdx,holdy,s=50,color='k')"
   ]
  },
  {
   "cell_type": "code",
   "execution_count": 3,
   "metadata": {
    "collapsed": true
   },
   "outputs": [],
   "source": [
    "bf = np.load('73bf.npy')\n",
    "ch.parsePrune('soft')\n",
    "d = ch.getPrune()"
   ]
  },
  {
   "cell_type": "code",
   "execution_count": 5,
   "metadata": {
    "collapsed": true
   },
   "outputs": [],
   "source": [
    "ch.plotFig(d[0],bf[0][0])"
   ]
  },
  {
   "cell_type": "code",
   "execution_count": 7,
   "metadata": {
    "collapsed": true
   },
   "outputs": [],
   "source": [
    "ch.bestFits = bf"
   ]
  },
  {
   "cell_type": "code",
   "execution_count": 8,
   "metadata": {},
   "outputs": [],
   "source": [
    "hists = ch.mainRun(dV=0.02)"
   ]
  },
  {
   "cell_type": "code",
   "execution_count": 307,
   "metadata": {
    "collapsed": true
   },
   "outputs": [],
   "source": [
    "np.save('73hist',hists)"
   ]
  },
  {
   "cell_type": "code",
   "execution_count": 11,
   "metadata": {},
   "outputs": [
    {
     "data": {
      "text/plain": [
       "(array([ 14.,  51.,  19.,  12.,  27.,  64.,   0.,  40.,   0.,  14.]),\n",
       " array([ 1.15849272,  1.19288834,  1.22728397,  1.26167959,  1.29607521,\n",
       "         1.33047083,  1.36486646,  1.39926208,  1.4336577 ,  1.46805333,\n",
       "         1.50244895]),\n",
       " <a list of 10 Patch objects>)"
      ]
     },
     "execution_count": 11,
     "metadata": {},
     "output_type": "execute_result"
    }
   ],
   "source": [
    "plt.hist(hists)"
   ]
  },
  {
   "cell_type": "code",
   "execution_count": 8,
   "metadata": {
    "collapsed": true
   },
   "outputs": [],
   "source": [
    "ch.plotFig(d[2],bf[2][0])"
   ]
  },
  {
   "cell_type": "code",
   "execution_count": 291,
   "metadata": {
    "collapsed": true
   },
   "outputs": [],
   "source": [
    "plotSlips(d[16],bf[16][0],a)"
   ]
  },
  {
   "cell_type": "code",
   "execution_count": 282,
   "metadata": {},
   "outputs": [
    {
     "data": {
      "text/plain": [
       "array([[-25.1047    ,   5.741     ,   0.96294139],\n",
       "       [-24.98083   ,   5.741     ,   0.96294139],\n",
       "       [-24.41924   ,   5.741     ,   0.96294139],\n",
       "       [-14.976075  ,   5.741     ,   1.1162834 ],\n",
       "       [-14.91024   ,   5.741     ,   1.1162834 ],\n",
       "       [-14.760315  ,   5.741     ,   1.1162834 ],\n",
       "       [-14.722375  ,   5.741     ,   1.1162834 ],\n",
       "       [-14.53818   ,   5.741     ,   1.1162834 ],\n",
       "       [-14.4913    ,   5.741     ,   1.1162834 ],\n",
       "       [-14.46399   ,   5.741     ,   1.1162834 ],\n",
       "       [-14.23288   ,   5.741     ,   1.1162834 ],\n",
       "       [-14.162015  ,   5.741     ,   1.1162834 ],\n",
       "       [-14.060865  ,   5.741     ,   1.1162834 ],\n",
       "       [-13.93628   ,   5.741     ,   1.1162834 ],\n",
       "       [-13.74929   ,   5.741     ,   1.1162834 ],\n",
       "       [-13.701825  ,   5.741     ,   1.1162834 ],\n",
       "       [-13.57985   ,   5.741     ,   1.1162834 ],\n",
       "       [-13.55446   ,   5.741     ,   1.1162834 ],\n",
       "       [-13.52056   ,   5.741     ,   1.1162834 ],\n",
       "       [-13.428695  ,   5.741     ,   1.1162834 ],\n",
       "       [-12.84091   ,   5.741     ,   1.1162834 ],\n",
       "       [-12.720785  ,   5.741     ,   1.1162834 ],\n",
       "       [-12.688225  ,   5.741     ,   1.1162834 ],\n",
       "       [-12.61077   ,   5.741     ,   1.1162834 ],\n",
       "       [-12.488555  ,   5.741     ,   1.1162834 ],\n",
       "       [-12.29593   ,   5.741     ,   1.1162834 ],\n",
       "       [-12.254935  ,   5.741     ,   1.1162834 ]])"
      ]
     },
     "execution_count": 282,
     "metadata": {},
     "output_type": "execute_result"
    }
   ],
   "source": [
    "a"
   ]
  },
  {
   "cell_type": "code",
   "execution_count": 265,
   "metadata": {},
   "outputs": [
    {
     "data": {
      "text/plain": [
       "1.2769099633689405"
      ]
     },
     "execution_count": 265,
     "metadata": {},
     "output_type": "execute_result"
    }
   ],
   "source": [
    "bf[13][5][9]"
   ]
  },
  {
   "cell_type": "code",
   "execution_count": 292,
   "metadata": {
    "collapsed": true
   },
   "outputs": [],
   "source": [
    "bf73.append(bf[16][0])"
   ]
  },
  {
   "cell_type": "code",
   "execution_count": 293,
   "metadata": {
    "collapsed": true
   },
   "outputs": [],
   "source": [
    "bf[16] = [np.array(bf73[16])]"
   ]
  },
  {
   "cell_type": "code",
   "execution_count": 304,
   "metadata": {
    "collapsed": true
   },
   "outputs": [],
   "source": [
    "np.save('73se',np.array(se73))"
   ]
  },
  {
   "cell_type": "code",
   "execution_count": 286,
   "metadata": {
    "collapsed": true
   },
   "outputs": [],
   "source": [
    "bf[15][1][0] -= 0.5\n",
    "ch.plotFig(d[15],bf[15][1])"
   ]
  },
  {
   "cell_type": "code",
   "execution_count": 287,
   "metadata": {
    "collapsed": true
   },
   "outputs": [],
   "source": [
    "bf73.append(np.zeros(12))\n",
    "bf[15] = [np.array(bf73[15])]"
   ]
  },
  {
   "cell_type": "code",
   "execution_count": 300,
   "metadata": {
    "collapsed": true
   },
   "outputs": [],
   "source": [
    "se73 = list()\n",
    "for i in range(17):\n",
    "    hold = ch.countEdge(i,dtype='73',dV=0.02)\n",
    "    se73.append(np.array(hold))\n",
    "se73 = np.array(se73)"
   ]
  },
  {
   "cell_type": "code",
   "execution_count": 302,
   "metadata": {},
   "outputs": [
    {
     "data": {
      "text/plain": [
       "array([[-26.302665  ,   5.7485    ,   1.50244895],\n",
       "       [-25.47433   ,   5.7485    ,   1.50244895],\n",
       "       [-25.20787   ,   5.7485    ,   1.50244895],\n",
       "       [-25.136515  ,   5.7485    ,   1.50244895],\n",
       "       [-24.96162   ,   5.7485    ,   1.50244895],\n",
       "       [-24.832775  ,   5.7485    ,   1.50244895],\n",
       "       [-24.381755  ,   5.7485    ,   1.50244895],\n",
       "       [-23.87108   ,   5.7485    ,   1.50244895],\n",
       "       [-23.53994   ,   5.7485    ,   1.50244895],\n",
       "       [-23.418455  ,   5.7485    ,   1.50244895],\n",
       "       [-23.328765  ,   5.7485    ,   1.50244895],\n",
       "       [-22.641185  ,   5.7485    ,   1.50244895],\n",
       "       [-22.53995   ,   5.7485    ,   1.48249462],\n",
       "       [-20.771625  ,   5.7485    ,   1.48249462]])"
      ]
     },
     "execution_count": 302,
     "metadata": {},
     "output_type": "execute_result"
    }
   ],
   "source": [
    "se73[0]"
   ]
  },
  {
   "cell_type": "code",
   "execution_count": null,
   "metadata": {
    "collapsed": true
   },
   "outputs": [],
   "source": []
  }
 ],
 "metadata": {
  "kernelspec": {
   "display_name": "Python 2",
   "language": "python",
   "name": "python2"
  },
  "language_info": {
   "codemirror_mode": {
    "name": "ipython",
    "version": 2
   },
   "file_extension": ".py",
   "mimetype": "text/x-python",
   "name": "python",
   "nbconvert_exporter": "python",
   "pygments_lexer": "ipython2",
   "version": "2.7.10"
  }
 },
 "nbformat": 4,
 "nbformat_minor": 1
}

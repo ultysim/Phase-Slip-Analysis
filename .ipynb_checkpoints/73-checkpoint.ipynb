{
 "cells": [
  {
   "cell_type": "code",
   "execution_count": 2,
   "metadata": {
    "collapsed": false
   },
   "outputs": [],
   "source": [
    "import numpy as np\n",
    "import matplotlib as mpl\n",
    "from matplotlib import pyplot as plt\n",
    "from matplotlib.gridspec import GridSpec\n",
    "import CompleteHist as ch\n"
   ]
  },
  {
   "cell_type": "code",
   "execution_count": 5,
   "metadata": {
    "collapsed": false
   },
   "outputs": [],
   "source": [
    "def plotSlips(data,fit,slips):\n",
    "    ch.plotFig(data,fit)\n",
    "    holdx = list()\n",
    "    holdy = list()\n",
    "    for i in slips:\n",
    "        holdx.append(i[0])\n",
    "    for i in holdx:\n",
    "        holdy.append(data[1][ch.search(data,i)])\n",
    "    plt.scatter(holdx,holdy,s=50,color='k')"
   ]
  },
  {
   "cell_type": "code",
   "execution_count": 3,
   "metadata": {
    "collapsed": false
   },
   "outputs": [],
   "source": [
    "bf = np.load('73bf.npy')\n",
    "ch.parsePrune('soft')\n",
    "d = ch.getPrune()"
   ]
  },
  {
   "cell_type": "code",
   "execution_count": 4,
   "metadata": {
    "collapsed": false
   },
   "outputs": [],
   "source": [
    "ch.plotFig(d[0],bf[0][0])"
   ]
  },
  {
   "cell_type": "code",
   "execution_count": 229,
   "metadata": {
    "collapsed": true
   },
   "outputs": [],
   "source": [
    "ch.bestFits = bf"
   ]
  },
  {
   "cell_type": "code",
   "execution_count": 180,
   "metadata": {
    "collapsed": false
   },
   "outputs": [],
   "source": [
    "hists = ch.mainRun(dV=0.02)"
   ]
  },
  {
   "cell_type": "code",
   "execution_count": 17,
   "metadata": {
    "collapsed": false
   },
   "outputs": [
    {
     "data": {
      "text/plain": [
       "1.5024489486115975"
      ]
     },
     "execution_count": 17,
     "metadata": {},
     "output_type": "execute_result"
    }
   ],
   "source": [
    "hists[0]"
   ]
  },
  {
   "cell_type": "code",
   "execution_count": 246,
   "metadata": {
    "collapsed": false
   },
   "outputs": [],
   "source": [
    "a = ch.countEdge(12,dtype='73',dV=0.02)"
   ]
  },
  {
   "cell_type": "code",
   "execution_count": 128,
   "metadata": {
    "collapsed": false
   },
   "outputs": [],
   "source": [
    "ch.plotFig(d[2],bf[2][0])"
   ]
  },
  {
   "cell_type": "code",
   "execution_count": 251,
   "metadata": {
    "collapsed": false
   },
   "outputs": [],
   "source": [
    "plotSlips(d[12],bf[12][0],a)"
   ]
  },
  {
   "cell_type": "code",
   "execution_count": 241,
   "metadata": {
    "collapsed": false
   },
   "outputs": [
    {
     "data": {
      "text/plain": [
       "array([[-16.424845  ,   5.7435    ,   1.30344303],\n",
       "       [-16.398275  ,   5.7435    ,   1.30344303],\n",
       "       [-16.3574    ,   5.7435    ,   1.30344303],\n",
       "       [-16.15163   ,   5.7435    ,   1.30344303],\n",
       "       [-16.03083   ,   5.7435    ,   1.30344303],\n",
       "       [-16.00675   ,   5.7435    ,   1.30344303],\n",
       "       [-15.55162   ,   5.7435    ,   1.30344303],\n",
       "       [-15.322605  ,   5.7435    ,   1.30344303],\n",
       "       [-15.169625  ,   5.7435    ,   1.30344303],\n",
       "       [-14.966615  ,   5.7435    ,   1.30344303],\n",
       "       [-14.80369   ,   5.7435    ,   1.30344303],\n",
       "       [-14.4422    ,   5.7435    ,   1.30344303],\n",
       "       [-14.157595  ,   5.7435    ,   1.30344303],\n",
       "       [-14.050835  ,   5.7435    ,   1.30344303],\n",
       "       [-13.82268   ,   5.7435    ,   1.30344303],\n",
       "       [-13.74626   ,   5.7435    ,   1.30344303],\n",
       "       [-13.710165  ,   5.7435    ,   1.30344303],\n",
       "       [-13.487155  ,   5.7435    ,   1.30344303],\n",
       "       [-13.2261    ,   5.7435    ,   1.21269746]])"
      ]
     },
     "execution_count": 241,
     "metadata": {},
     "output_type": "execute_result"
    }
   ],
   "source": [
    "a"
   ]
  },
  {
   "cell_type": "code",
   "execution_count": 243,
   "metadata": {
    "collapsed": false
   },
   "outputs": [
    {
     "data": {
      "text/plain": [
       "1.3034430279954932"
      ]
     },
     "execution_count": 243,
     "metadata": {},
     "output_type": "execute_result"
    }
   ],
   "source": [
    "bf[10][0][9]"
   ]
  },
  {
   "cell_type": "code",
   "execution_count": 249,
   "metadata": {
    "collapsed": true
   },
   "outputs": [],
   "source": [
    "bf73.append(bf[11][0])"
   ]
  },
  {
   "cell_type": "code",
   "execution_count": 250,
   "metadata": {
    "collapsed": true
   },
   "outputs": [],
   "source": [
    "bf[11] = [np.array(bf73[11])]"
   ]
  },
  {
   "cell_type": "code",
   "execution_count": 238,
   "metadata": {
    "collapsed": false
   },
   "outputs": [],
   "source": [
    "np.save('se73',np.array(se73))"
   ]
  },
  {
   "cell_type": "code",
   "execution_count": 201,
   "metadata": {
    "collapsed": false
   },
   "outputs": [],
   "source": [
    "bf[6][0][7] = -27\n",
    "ch.plotFig(d[6],bf[6][0])"
   ]
  },
  {
   "cell_type": "code",
   "execution_count": null,
   "metadata": {
    "collapsed": true
   },
   "outputs": [],
   "source": []
  }
 ],
 "metadata": {
  "kernelspec": {
   "display_name": "Python 2",
   "language": "python",
   "name": "python2"
  },
  "language_info": {
   "codemirror_mode": {
    "name": "ipython",
    "version": 2
   },
   "file_extension": ".py",
   "mimetype": "text/x-python",
   "name": "python",
   "nbconvert_exporter": "python",
   "pygments_lexer": "ipython2",
   "version": "2.7.10"
  }
 },
 "nbformat": 4,
 "nbformat_minor": 0
}

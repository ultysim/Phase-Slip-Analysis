{
 "cells": [
  {
   "cell_type": "code",
   "execution_count": 3,
   "metadata": {
    "collapsed": false
   },
   "outputs": [],
   "source": [
    "import numpy as np\n",
    "import matplotlib as mpl\n",
    "from matplotlib import pyplot as plt\n",
    "from scipy.interpolate import spline\n",
    "import scipy\n",
    "\n"
   ]
  },
  {
   "cell_type": "code",
   "execution_count": 4,
   "metadata": {
    "collapsed": true
   },
   "outputs": [],
   "source": [
    "'''\n",
    "The following function removes events that we do not want to look at, for e.g. \n",
    "if we want to do a gaussian fit for a certain range of values.\n",
    "'''\n",
    "def remove_events(array, start, stop):\n",
    "    new_array = []\n",
    "    for i in range(0, len(array)):\n",
    "        if (start <= array[i] <= stop):\n",
    "            new_array.append(array[i])\n",
    "    return new_array"
   ]
  },
  {
   "cell_type": "code",
   "execution_count": 6,
   "metadata": {
    "collapsed": false
   },
   "outputs": [],
   "source": [
    "se2011 = np.load('2011se.npy')\n",
    "se52 = np.load('52se.npy')\n",
    "b1 = np.mean(se52[1][:,1])\n",
    "b2 = np.mean(se2011[1][:,1])\n",
    "\n",
    "fig1 = plt.figure(1)\n",
    "\n",
    "s5p = plt.scatter((se52[1][:,1]-b1)*1000,se52[1][:,0],s=50,edgecolor='k')\n",
    "s5q = plt.scatter((se52[0][:,1]-b1)*1000,se52[0][:,0],s=50,color='r',marker='d',edgecolor='k')\n",
    "s2q = plt.scatter((se2011[0][:,1]-b2)*1000,se2011[0][:,0],color='r',s=50,marker='d',edgecolor='k')\n",
    "s2p = plt.scatter((se2011[1][:,1]-b2)*1000,se2011[1][:,0],s=50)\n",
    "s2pq = plt.scatter((se2011[2][:,1]-b2)*1000,se2011[2][:,0],s=50,color='m',marker='s',edgecolor='k')\n",
    "\n",
    "plt.xlim(-5.3,5.8)\n",
    "plt.ylim(-41,-3)\n",
    "plt.xlabel('$\\Delta$B (mT)')\n",
    "plt.ylabel('V$_P$(mV)')\n",
    "\n",
    "plt.legend((s2q,s2p,s2pq),\n",
    "           ('$\\Delta\\phi = \\\\frac{\\pi}{4}$', '$\\Delta\\phi = \\pi$', '$\\Delta\\phi = \\\\frac{5\\pi}{4}$'),\n",
    "           scatterpoints=1,\n",
    "           loc='upper left',\n",
    "           ncol=1,\n",
    "           fontsize=10)\n",
    "plt.show()"
   ]
  },
  {
   "cell_type": "code",
   "execution_count": 3,
   "metadata": {
    "collapsed": false
   },
   "outputs": [],
   "source": [
    "'''\n",
    "Just defining parameters in this section\n",
    "Naming convention:\n",
    "p     -> pi\n",
    "q     -> quarter\n",
    "_2014 -> 2014 data\n",
    "_2011 -> 2011 data\n",
    "V     -> Voltage\n",
    "B     -> B_field in mT\n",
    "Data stored with mean b1 and b2 subtracted from B-field\n",
    "'''\n",
    "\n",
    "V_p_2011 = (se52[1][:,0])\n",
    "B_p_2011 = (se52[1][:,1]-b1)*1000\n",
    "V_p_2014 = (se2011[1][:,0])\n",
    "B_p_2014 = (se2011[1][:,1]-b2)*1000\n",
    "\n",
    "Merged_Vp = np.concatenate([V_p_2011, V_p_2014])\n",
    "Merged_Bp = np.concatenate([B_p_2011, B_p_2014])\n",
    "Merged_Vp_abs = np.array(abs(Merged_Vp))\n",
    "\n",
    "V_pq_2011 = (se52[0][:,0])\n",
    "B_pq_2011 = (se52[0][:,1]-b1)*1000\n",
    "V_pq_2014 = (se2011[0][:,0])\n",
    "B_pq_2014 = (se2011[0][:,1]-b2)*1000\n",
    "\n",
    "Merged_Vpq = np.concatenate([V_pq_2011, V_pq_2014])\n",
    "Merged_Bpq = np.concatenate([B_pq_2011, B_pq_2014])\n",
    "Merged_Vpq_abs = np.array(abs(Merged_Vpq))\n",
    "\n",
    "# Removed random pi/4 events at ~-5mV\n",
    "Merged_Vpq_abs_5V_removed = []\n",
    "Merged_Bpq_5V_removed = []\n",
    "for i in range(0, len(Merged_Vpq_abs)):\n",
    "    if (Merged_Vpq_abs[i] < 6):\n",
    "        continue\n",
    "    else:\n",
    "        Merged_Vpq_abs_5V_removed.append(Merged_Vpq_abs[i])\n",
    "        Merged_Bpq_5V_removed.append(Merged_Bpq[i])\n"
   ]
  },
  {
   "cell_type": "code",
   "execution_count": 4,
   "metadata": {
    "collapsed": true
   },
   "outputs": [],
   "source": [
    "'''\n",
    "This is where we find the counts for the Vp's. This function will return two arrays that have the \n",
    "same length, i.e. it will return the midddle value for the Vp's. There is another function below\n",
    "that returns a counts array of length that is one greater than the Vp's\n",
    "'''\n",
    "# Returns the Counts and Voltages to plot histogram with\n",
    "def counts_V_array(voltage_array, N_bins):\n",
    "    # To store the counts for the voltages\n",
    "    counts_array = []\n",
    "    # We'll use positive voltages to simplify calculations\n",
    "    # Create linearly spaced Vp array to find counts in the range V_bins[i] and V_bins[i+1]\n",
    "    V_bins = np.linspace(voltage_array.min(), voltage_array.max(), N_bins)\n",
    "    \n",
    "    '''\n",
    "    To find the counts across the whole range, we find the counts in each bin range of\n",
    "    i*[(max(Vp) - min(Vp))/bin_size], where i varies from 0 to len(V_bins). We find the counts\n",
    "    for each of these ranges and store the value in the counts array. We use those to then plot the histogram.\n",
    "    '''\n",
    "    for i in range(0, len(V_bins)):\n",
    "        # break so as not to generate error in calculations below\n",
    "        if (i == len(V_bins) - 1):\n",
    "            break\n",
    "        else:\n",
    "            counts = 0\n",
    "        for j in range(0, len(voltage_array)):\n",
    "            # Make sure that points that are equal to the minimum are found\n",
    "            if (i == 0):\n",
    "                if (V_bins[i] <= voltage_array[j] <= V_bins[i+1]):\n",
    "                    counts += 1\n",
    "            else:\n",
    "                if (V_bins[i] < voltage_array[j] <= V_bins[i+1]):\n",
    "                    counts += 1\n",
    "        counts_array.append(counts)\n",
    "    \n",
    "    # This centers the V_bins\n",
    "    V_bins_updated = []\n",
    "    \n",
    "    for i in range(0, len(V_bins)):\n",
    "        if (i == len(V_bins) -1):\n",
    "            break\n",
    "        else:\n",
    "            V_bins_updated.append((V_bins[i] + V_bins[i+1])/2)\n",
    "        \n",
    "    return counts_array, V_bins_updated                "
   ]
  },
  {
   "cell_type": "code",
   "execution_count": 5,
   "metadata": {
    "collapsed": false
   },
   "outputs": [],
   "source": [
    "'''\n",
    "Use function above to find counts for pi and pi/4\n",
    "'''\n",
    "counts_Vp, Vp = counts_V_array(Merged_Vp_abs, 60) \n",
    "counts_Vpq, Vpq = counts_V_array(np.array(Merged_Vpq_abs_5V_removed), 60)"
   ]
  },
  {
   "cell_type": "code",
   "execution_count": 7,
   "metadata": {
    "collapsed": false
   },
   "outputs": [
    {
     "data": {
      "image/png": "[encoded data removed]",
      "text/plain": [
       "<matplotlib.figure.Figure at 0x1107cb450>"
      ]
     },
     "metadata": {},
     "output_type": "display_data"
    }
   ],
   "source": [
    "plt.bar(Vp, counts_Vp, align='center', width = (1.0*(Vp[1] - Vp[0])), label = '$\\Delta \\phi =\\pi$', color = 'r')\n",
    "#plt.bar(Vpq, counts_Vpq, align='edge', width = (1.0*(Vpq[1] - Vpq[0])), label = '$\\Delta \\phi =\\pi/4$', color = 'b')\n",
    "plt.legend(loc = 'upper left')\n",
    "plt.ylim(0, max(counts_Vp) + 2)\n",
    "plt.xlabel('|V$_p$| (mV)')\n",
    "plt.ylabel('Counts')\n",
    "plt.show()"
   ]
  },
  {
   "cell_type": "code",
   "execution_count": 30,
   "metadata": {
    "collapsed": false
   },
   "outputs": [
    {
     "data": {
      "image/png": "[encoded data removed]",
      "text/plain": [
       "<matplotlib.figure.Figure at 0x11336aad0>"
      ]
     },
     "metadata": {},
     "output_type": "display_data"
    }
   ],
   "source": [
    "#plt.bar(Vp, counts_Vp, align='center', width = (1.0*(Vp[1] - Vp[0])), label = '$\\Delta \\phi =\\pi$', color = 'r')\n",
    "plt.bar(Vpq, counts_Vpq, align='center', width = (1.0*(Vpq[1] - Vpq[0])), label = '$\\Delta \\phi =\\pi/4$', color = 'b')\n",
    "plt.legend(loc = 'upper left')\n",
    "plt.ylim(0, max(counts_Vpq) + 2)\n",
    "plt.xlabel('|V$_p$| (mV)')\n",
    "plt.ylabel('Counts')\n",
    "plt.show()"
   ]
  },
  {
   "cell_type": "code",
   "execution_count": 9,
   "metadata": {
    "collapsed": false,
    "scrolled": true
   },
   "outputs": [
    {
     "data": {
      "image/png": "[encoded data removed]",
      "text/plain": [
       "<matplotlib.figure.Figure at 0x111e37510>"
      ]
     },
     "metadata": {},
     "output_type": "display_data"
    }
   ],
   "source": [
    "plt.bar(Vp, counts_Vp, align='center', width = (1.0*(Vp[1] - Vp[0])), label = '$\\Delta \\phi =\\pi$', color = 'r')\n",
    "plt.bar(Vpq, counts_Vpq, align='center', width = (1.0*(Vpq[1] - Vpq[0])), label = '$\\Delta \\phi =\\pi/4$', color = 'b')\n",
    "plt.legend(loc = 'upper left')\n",
    "plt.ylim(0, max(counts_Vp) + 2)\n",
    "plt.xlabel('|V$_p$| (mV)')\n",
    "plt.ylabel('Counts')\n",
    "plt.show()"
   ]
  },
  {
   "cell_type": "code",
   "execution_count": 11,
   "metadata": {
    "collapsed": true
   },
   "outputs": [],
   "source": [
    "'''\n",
    "This function will return a counts array that is greater by one. Just for completeness sake.\n",
    "'''\n",
    "# Returns the Counts and Voltages to plot histogram with\n",
    "def counts_array(some_array, N_bins):\n",
    "    # To store the counts for the voltages\n",
    "    counts_array = []\n",
    "    # We'll use positive voltages to simplify calculations\n",
    "    # Create linearly spaced Vp array to find counts in the range V_bins[i] and V_bins[i+1]\n",
    "    V_bins = np.linspace(some_array.min(), some_array.max(), N_bins)\n",
    "    \n",
    "    '''\n",
    "    To find the counts across the whole range, we find the counts in each bin range of\n",
    "    i*[(max(Vp) - min(Vp))/bin_size], where i varies from 0 to len(V_bins). We find the counts\n",
    "    for each of these ranges and store the value in the counts array. We use those to then plot the histogram.\n",
    "    '''\n",
    "    for i in range(0, len(V_bins)):\n",
    "        # break so as not to generate error in calculations below\n",
    "        if (i == len(V_bins) - 1):\n",
    "            break\n",
    "        else:\n",
    "            counts = 0\n",
    "        for j in range(0, len(some_array)):\n",
    "            # Make sure that points that are equal to the minimum are found\n",
    "            if (i == 0):\n",
    "                if (V_bins[i] <= some_array[j] <= V_bins[i+1]):\n",
    "                    counts += 1\n",
    "            else:\n",
    "                if (V_bins[i] < some_array[j] <= V_bins[i+1]):\n",
    "                    counts += 1\n",
    "        counts_array.append(counts)\n",
    "    return counts_array, V_bins"
   ]
  },
  {
   "cell_type": "code",
   "execution_count": 12,
   "metadata": {
    "collapsed": false
   },
   "outputs": [],
   "source": [
    "Bp_counts, Bp_bins = counts_array(Merged_Bp, 40)\n",
    "Bpq_counts, Bpq_bins = counts_array(np.array(Merged_Bpq_5V_removed), 40)"
   ]
  },
  {
   "cell_type": "code",
   "execution_count": 13,
   "metadata": {
    "collapsed": false
   },
   "outputs": [],
   "source": [
    "'''\n",
    "This function finds the Vp's in a specific bin range. This helps us for the \"time\" to next event plots.\n",
    "'''\n",
    "def Vs_in_bins(Merged_V, Merged_B, B_bins, B_counts, index):\n",
    "    Vs_in_bin = []\n",
    "    \n",
    "    if (B_counts[index] == 0):\n",
    "        return Vs_in_bin\n",
    "    else:\n",
    "        for i in range(0, len(Merged_B)):\n",
    "            if (index == 0):\n",
    "                if (B_bins[index] <= Merged_B[i] <= B_bins[index + 1]):\n",
    "                    Vs_in_bin.append(Merged_V[i]) # There's 1-1 relationship between Merged_B[i] and Merged_V[i]\n",
    "            else:\n",
    "                if (B_bins[index] < Merged_B[i] <= B_bins[index + 1]):\n",
    "                    Vs_in_bin.append(Merged_V[i])\n",
    "    return Vs_in_bin"
   ]
  },
  {
   "cell_type": "code",
   "execution_count": 14,
   "metadata": {
    "collapsed": false
   },
   "outputs": [],
   "source": [
    "'''\n",
    "We can now use the above function to find the the Vp's in each B-bins\n",
    "'''\n",
    "Vp_array_per_Bp_bins = []\n",
    "\n",
    "for i in range(0, len(Bp_bins)-1):\n",
    "    Vp_array_per_Bp_bins.append(Vs_in_bins(Merged_Vp_abs, Merged_Bp, Bp_bins, Bp_counts, i))\n",
    "\n",
    "Vpq_array_per_Bpq_bins = []\n",
    "\n",
    "for j in range(0, len(Bpq_bins) - 1):\n",
    "    Vpq_array_per_Bpq_bins.append(Vs_in_bins(Merged_Vpq_abs_5V_removed, Merged_Bpq_5V_removed, Bpq_bins, Bpq_counts, j))"
   ]
  },
  {
   "cell_type": "code",
   "execution_count": 15,
   "metadata": {
    "collapsed": false
   },
   "outputs": [],
   "source": [
    "# This function finds the difference between the elements of the array and does the reciprocal of that \n",
    "# to account for single events (= 0)\n",
    "def diff_func_inv(some_array):\n",
    "    one_over_dV_array = []\n",
    "    for i in range(0, len(some_array)):\n",
    "        if (len(some_array[i]) == 0):\n",
    "            continue\n",
    "        elif (len(some_array[i]) == 1):\n",
    "            one_over_dV_array.append(0)\n",
    "        else: # i.e len(array[i]) > 1\n",
    "            sorted_array = np.sort(some_array[i])\n",
    "            for j in range(0, len(sorted_array) - 1):\n",
    "                diff = sorted_array[j+1] - sorted_array[j]\n",
    "                one_over_dV_array.append(1.0/diff)\n",
    "    return one_over_dV_array"
   ]
  },
  {
   "cell_type": "code",
   "execution_count": 16,
   "metadata": {
    "collapsed": true
   },
   "outputs": [],
   "source": [
    "# This function does the same as above except that it does not do the reciprocal\n",
    "# Single events are not taken into account\n",
    "def diff_func(some_array):\n",
    "    dV_array = []\n",
    "    for i in range(0, len(some_array)):\n",
    "        if (len(some_array[i]) <= 1):\n",
    "            continue\n",
    "        else: # i.e len(array[i]) > 1\n",
    "            sorted_array = np.sort(some_array[i])\n",
    "            for j in range(0, len(sorted_array) - 1):\n",
    "                diff = sorted_array[j+1] - sorted_array[j]\n",
    "                dV_array.append(1.0*diff) # to create floating points\n",
    "    return dV_array"
   ]
  },
  {
   "cell_type": "code",
   "execution_count": 17,
   "metadata": {
    "collapsed": false
   },
   "outputs": [],
   "source": [
    "reciprocal_dVp = diff_func_inv(Vp_array_per_Bp_bins)\n",
    "reciprocal_dVpq = diff_func_inv(Vpq_array_per_Bpq_bins)\n",
    "\n",
    "normal_dVp = diff_func(Vp_array_per_Bp_bins)\n",
    "normal_dVpq = diff_func(Vpq_array_per_Bpq_bins)\n",
    "\n",
    "counts_delta_Vp, delta_Vp = counts_V_array(np.array(reciprocal_dVp), 60)\n",
    "counts_delta_Vpq, delta_Vpq = counts_V_array(np.array(reciprocal_dVpq), 60)\n",
    "counts_normal_delta_Vp, delta_normal_Vp = counts_V_array(np.array(normal_dVp), 60)\n",
    "counts_normal_delta_Vpq, delta_normal_Vpq = counts_V_array(np.array(normal_dVpq), 60)"
   ]
  },
  {
   "cell_type": "code",
   "execution_count": 18,
   "metadata": {
    "collapsed": false
   },
   "outputs": [
    {
     "data": {
      "image/png": "[encoded data removed]",
      "text/plain": [
       "<matplotlib.figure.Figure at 0x112b5e690>"
      ]
     },
     "metadata": {},
     "output_type": "display_data"
    }
   ],
   "source": [
    "'''\n",
    "This plot is for the reciprocal dV (1/dV_pi). The next one is for the normal differences with single events removed \n",
    "(i.e dV_pi and not 1/dV_pi)\n",
    "'''\n",
    "plt.bar(delta_Vp, counts_delta_Vp, align='center', width = (1.0*(delta_Vp[1] - delta_Vp[0])), label = '$\\Delta \\phi =\\pi$', color = 'r')\n",
    "#plt.bar(dVpq, counts_dVpq, align='center', width = (1.0*(dVpq[1] - dVpq[0])), label = '$\\Delta \\phi =\\pi/4$', color = 'b')\n",
    "plt.legend(loc = 'upper left')\n",
    "plt.ylim(0, max(counts_delta_Vp) + 5)\n",
    "plt.xlabel('|$1/\\Delta$V$_p$| ($mV)^{-1}$')\n",
    "plt.ylabel('Counts')\n",
    "plt.show()"
   ]
  },
  {
   "cell_type": "code",
   "execution_count": 20,
   "metadata": {
    "collapsed": true
   },
   "outputs": [],
   "source": [
    "removed_reciprocal_dVp = remove_events(reciprocal_dVp, 0, 1)\n",
    "counts_removed_delta_Vp, removed_delta_Vp = counts_V_array(np.array(removed_reciprocal_dVp), 60)"
   ]
  },
  {
   "cell_type": "code",
   "execution_count": 39,
   "metadata": {
    "collapsed": false
   },
   "outputs": [
    {
     "data": {
      "image/png": "[encoded data removed]",
      "text/plain": [
       "<matplotlib.figure.Figure at 0x112dabc50>"
      ]
     },
     "metadata": {},
     "output_type": "display_data"
    }
   ],
   "source": [
    "plt.bar(removed_delta_Vp, counts_removed_delta_Vp, align='center', width = (1.0*(removed_delta_Vp[1] - removed_delta_Vp[0])), label = '$\\Delta \\phi =\\pi$', color = 'r')\n",
    "#plt.bar(dVpq, counts_dVpq, align='center', width = (1.0*(dVpq[1] - dVpq[0])), label = '$\\Delta \\phi =\\pi/4$', color = 'b')\n",
    "plt.legend(loc = 'upper left')\n",
    "plt.ylim(0, max(counts_normal_delta_Vp) + 5)\n",
    "plt.xlabel('|$1/\\Delta$V$_p$| (mV)')\n",
    "plt.ylabel('Counts')\n",
    "plt.show()\n",
    "\n",
    "# There doesn't seem to be much to go on here, let's look at the non-reciprocal plot below this one"
   ]
  },
  {
   "cell_type": "code",
   "execution_count": 22,
   "metadata": {
    "collapsed": false
   },
   "outputs": [
    {
     "data": {
      "image/png": "[encoded data removed]",
      "text/plain": [
       "<matplotlib.figure.Figure at 0x1117c7110>"
      ]
     },
     "metadata": {},
     "output_type": "display_data"
    }
   ],
   "source": [
    "plt.bar(delta_normal_Vp, counts_normal_delta_Vp, align='center', width = (1.0*(delta_normal_Vp[1] - delta_normal_Vp[0])), label = '$\\Delta \\phi =\\pi$', color = 'r')\n",
    "#plt.bar(dVpq, counts_dVpq, align='center', width = (1.0*(dVpq[1] - dVpq[0])), label = '$\\Delta \\phi =\\pi/4$', color = 'b')\n",
    "plt.legend(loc = 'upper left')\n",
    "plt.ylim(0, max(counts_normal_delta_Vp) + 5)\n",
    "plt.xlabel('|$\\Delta$V$_p$| (mV)')\n",
    "plt.ylabel('Counts')\n",
    "plt.show()\n",
    "\n",
    "# This plot shows some promise in the dVp = 0~2.5 region, let's use our remove events function to see what we can get"
   ]
  },
  {
   "cell_type": "code",
   "execution_count": 23,
   "metadata": {
    "collapsed": true
   },
   "outputs": [],
   "source": [
    "removed_normal_dVp = remove_events(normal_dVp, 0, 1.0)\n",
    "counts_removed_normal_Vp, removed_normal_Vp = counts_V_array(np.array(removed_normal_dVp), 60)"
   ]
  },
  {
   "cell_type": "code",
   "execution_count": 38,
   "metadata": {
    "collapsed": false
   },
   "outputs": [
    {
     "data": {
      "image/png": "[encoded data removed]",
      "text/plain": [
       "<matplotlib.figure.Figure at 0x112e8e590>"
      ]
     },
     "metadata": {},
     "output_type": "display_data"
    }
   ],
   "source": [
    "'''\n",
    "We now try to fit a gaussian to the above data. I have been testing the waters to find where the \n",
    "curve \"looks\" gaussian. This seems to be the case in the 0~1 mV range.\n",
    "'''\n",
    "\n",
    "x = np.array(removed_normal_Vp)\n",
    "y = np.array(counts_removed_normal_Vp)\n",
    "n = len(x)                          \n",
    "mean = sum(x*y)/n                   \n",
    "sigma = sum(y*(x-mean)**2)/n        \n",
    "\n",
    "def gaus(x,a,x0,sigma):\n",
    "    return a*exp(-(x-x0)**2/(2*sigma**2))\n",
    "\n",
    "popt,pcov = curve_fit(gaus,x,y,p0=[1,mean,sigma])\n",
    "\n",
    "plt.plot(x,y,'b+:',label='data')\n",
    "plt.plot(x,gaus(x,*popt),'r-',label='fit')\n",
    "plt.legend()\n",
    "plt.title('Fit for $\\Delta \\phi =\\pi$')\n",
    "plt.xlabel('|$\\Delta$V$_p$| (mV)')\n",
    "plt.ylabel('Counts')\n",
    "plt.show()"
   ]
  },
  {
   "cell_type": "code",
   "execution_count": 26,
   "metadata": {
    "collapsed": false
   },
   "outputs": [
    {
     "data": {
      "image/png": "[encoded data removed]",
      "text/plain": [
       "<matplotlib.figure.Figure at 0x11381ce90>"
      ]
     },
     "metadata": {},
     "output_type": "display_data"
    }
   ],
   "source": [
    "#plt.bar(dVp, counts_dVp, align='center', width = (1.0*(dVp[1] - dVp[0])), label = '$\\Delta \\phi =\\pi$', color = 'r')\n",
    "plt.bar(delta_Vpq, counts_delta_Vpq, align='center', width = (1.0*(delta_Vpq[1] - delta_Vpq[0])), label = '$\\Delta \\phi =\\pi/4$', color = 'b')\n",
    "plt.legend(loc = 'upper left')\n",
    "plt.ylim(0, max(counts_delta_Vp) + 2)\n",
    "plt.xlabel('|$1/\\Delta$V$_p$| $(1/mV)^{-1}$')\n",
    "plt.ylabel('Counts')\n",
    "plt.show()"
   ]
  },
  {
   "cell_type": "code",
   "execution_count": 27,
   "metadata": {
    "collapsed": false
   },
   "outputs": [
    {
     "data": {
      "image/png": "[encoded data removed]",
      "text/plain": [
       "<matplotlib.figure.Figure at 0x113816e10>"
      ]
     },
     "metadata": {},
     "output_type": "display_data"
    }
   ],
   "source": [
    "#plt.bar(dVp, counts_dVp, align='center', width = (1.0*(dVp[1] - dVp[0])), label = '$\\Delta \\phi =\\pi$', color = 'r')\n",
    "plt.bar(delta_normal_Vpq, counts_normal_delta_Vpq, align='center', width = (1.0*(delta_normal_Vpq[1] - delta_normal_Vpq[0])), label = '$\\Delta \\phi =\\pi/4$', color = 'b')\n",
    "plt.legend(loc = 'upper left')\n",
    "plt.ylim(0, max(counts_normal_delta_Vp) + 2)\n",
    "plt.xlabel('|$\\Delta$V$_p$| (mV)')\n",
    "plt.ylabel('Counts')\n",
    "plt.show()\n",
    "\n",
    "# We'll do the same as we did above with 0~2.5 mV range"
   ]
  },
  {
   "cell_type": "code",
   "execution_count": 28,
   "metadata": {
    "collapsed": true
   },
   "outputs": [],
   "source": [
    "removed_normal_dVpq = remove_events(normal_dVpq, 0, 0.5)\n",
    "counts_removed_normal_Vpq, removed_normal_Vpq = counts_V_array(np.array(removed_normal_dVpq), 30)"
   ]
  },
  {
   "cell_type": "code",
   "execution_count": 29,
   "metadata": {
    "collapsed": false
   },
   "outputs": [
    {
     "data": {
      "image/png": "[encoded data removed]",
      "text/plain": [
       "<matplotlib.figure.Figure at 0x113844110>"
      ]
     },
     "metadata": {},
     "output_type": "display_data"
    }
   ],
   "source": [
    "#plt.bar(dVp, counts_dVp, align='center', width = (1.0*(dVp[1] - dVp[0])), label = '$\\Delta \\phi =\\pi$', color = 'r')\n",
    "plt.bar(removed_normal_Vpq, counts_removed_normal_Vpq, align='center', width = (1.0*(removed_normal_Vpq[1] - removed_normal_Vpq[0])), label = '$\\Delta \\phi =\\pi/4$', color = 'b')\n",
    "plt.legend(loc = 'upper left')\n",
    "plt.ylim(0, max(counts_removed_normal_Vp) + 2)\n",
    "plt.xlabel('|$\\Delta$V$_p$| (mV)')\n",
    "plt.ylabel('Counts')\n",
    "plt.show()"
   ]
  },
  {
   "cell_type": "code",
   "execution_count": null,
   "metadata": {
    "collapsed": true
   },
   "outputs": [],
   "source": [
    "'''\n",
    "I have tried to masssage the normal and reciprocal curve for the \"time\" to next events for pi/4 but the gaussian does\n",
    "not return convergence parameters. I think we'll have to play with the bin size for this.\n",
    "'''"
   ]
  }
 ],
 "metadata": {
  "kernelspec": {
   "display_name": "Python 2",
   "language": "python",
   "name": "python2"
  },
  "language_info": {
   "codemirror_mode": {
    "name": "ipython",
    "version": 2
   },
   "file_extension": ".py",
   "mimetype": "text/x-python",
   "name": "python",
   "nbconvert_exporter": "python",
   "pygments_lexer": "ipython2",
   "version": "2.7.10"
  }
 },
 "nbformat": 4,
 "nbformat_minor": 0
}

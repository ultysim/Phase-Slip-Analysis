{
 "cells": [
  {
   "cell_type": "code",
   "execution_count": 1,
   "metadata": {},
   "outputs": [
    {
     "name": "stdout",
     "output_type": "stream",
     "text": [
      "Using matplotlib backend: TkAgg\n"
     ]
    }
   ],
   "source": [
    "import numpy as np\n",
    "import matplotlib as mpl\n",
    "from matplotlib import pyplot as plt\n",
    "from matplotlib.gridspec import GridSpec\n",
    "import CompleteHist as ch\n",
    "%matplotlib\n",
    "se2011 = np.load('2011se.npy')\n",
    "se52 = np.load('52se.npy')"
   ]
  },
  {
   "cell_type": "code",
   "execution_count": 2,
   "metadata": {
    "collapsed": true
   },
   "outputs": [],
   "source": [
    "from matplotlib.colors import LinearSegmentedColormap"
   ]
  },
  {
   "cell_type": "code",
   "execution_count": 3,
   "metadata": {
    "collapsed": true
   },
   "outputs": [],
   "source": [
    "from matplotlib.gridspec import GridSpec\n",
    "gs = GridSpec(1000,1000)"
   ]
  },
  {
   "cell_type": "code",
   "execution_count": 4,
   "metadata": {
    "collapsed": true
   },
   "outputs": [],
   "source": [
    "def plotColorizedHist(items,colors):\n",
    "    a = np.array([-40.14929  , -39.5625245, -38.975759 , -38.3889935, -37.802228 ,\n",
    "       -37.2154625, -36.628697 , -36.0419315, -35.455166 , -34.8684005,\n",
    "       -34.281635 , -33.6948695, -33.108104 , -32.5213385, -31.934573 ,\n",
    "       -31.3478075, -30.761042 , -30.1742765, -29.587511 , -29.0007455,\n",
    "       -28.41398  , -27.8272145, -27.240449 , -26.6536835, -26.066918 ,\n",
    "       -25.4801525, -24.893387 , -24.3066215, -23.719856 , -23.1330905,\n",
    "       -22.546325 , -21.9595595, -21.372794 , -20.7860285, -20.199263 ,\n",
    "       -19.6124975, -19.025732 , -18.4389665, -17.852201 , -17.2654355,\n",
    "       -16.67867  , -16.0919045, -15.505139 , -14.9183735, -14.331608 ,\n",
    "       -13.7448425, -13.158077 , -12.5713115, -11.984546 , -11.3977805,\n",
    "       -10.811015 , -10.2242495,  -9.637484 ,  -9.0507185,  -8.463953 ,\n",
    "        -7.8771875,  -7.290422 ,  -6.7036565,  -6.116891 ])\n",
    "    hold = list()\n",
    "    for i in items:\n",
    "        colorindex = int((i[2])/0.03)\n",
    "        hold.append([i[0],colorindex])\n",
    "    colorhold = [[] for i in range(len(colors))]\n",
    "    for i in hold:\n",
    "        colorhold[i[1]].append(i[0])\n",
    "    temp = np.zeros(len(a)-1)\n",
    "    for i in range(len(colorhold)):\n",
    "        if len(colorhold[i]) == 0:\n",
    "            continue\n",
    "        x,_ = np.histogram(colorhold[i],a)\n",
    "        plt.bar(a[:-1],x,bottom=temp,width=0.58676,color=colors[i])\n",
    "        temp+=x"
   ]
  },
  {
   "cell_type": "code",
   "execution_count": 5,
   "metadata": {
    "collapsed": true
   },
   "outputs": [],
   "source": [
    "cdict = {'red':   ((0.0, 0.0, 0.0),\n",
    "                   (0.125, 0.0, 0.0),\n",
    "                   (0.17, 0.2, 0.2),\n",
    "                   (0.4, 1, 1),\n",
    "                   (0.5, 1.0, 1.0),\n",
    "                   (0.7, 1.0, 1.0),\n",
    "                   (0.8, 0.0, 0.0),\n",
    "                  (1.0, 0.5, 0.5)),\n",
    "\n",
    "         'green': ((0.0, 1, 1),\n",
    "                   (0.1, 0.5, 0.5),\n",
    "                   (0.135, 0.0, 0.0),\n",
    "                   (0.4, 0.0, 0.0),\n",
    "                   (0.5,0.0,0.0),\n",
    "                   (0.65, 0.65, 0.65),\n",
    "                   (0.8, 0.8, .8),\n",
    "                  (1.0, 1, 1)),\n",
    "\n",
    "         'blue':  ((0.0, 0.2, 0.2),\n",
    "                   (0.13, 1.0, 1),\n",
    "                   (0.135, .8, .8),\n",
    "                   (0.17, 0.6, 0.6),\n",
    "                   (0.35, 0.8, 0.8),\n",
    "                   (0.5, 0.0, 0.0),\n",
    "                   (0.85, 0, 0),\n",
    "                   (1.0, 0.2, 0.2)),\n",
    "        }\n",
    "        \n",
    "fullC = LinearSegmentedColormap('fullC', cdict)\n"
   ]
  },
  {
   "cell_type": "code",
   "execution_count": 6,
   "metadata": {
    "collapsed": true
   },
   "outputs": [],
   "source": [
    "nice_height =  4.6/4*3 *440/1000"
   ]
  },
  {
   "cell_type": "code",
   "execution_count": 7,
   "metadata": {
    "collapsed": true
   },
   "outputs": [],
   "source": [
    "x = np.arange(0.825,1.245,0.03)\n",
    "normedp = x/2.\n",
    "x = np.arange(0.255,0.4,.03)\n",
    "normedq = x/2.\n",
    "\n",
    "#Get color bars:\n",
    "cmap = fullC\n",
    "\n",
    "norm = mpl.colors.Normalize(vmin=0, vmax=2)\n",
    "colorsq = cmap(normedq)\n",
    "colorsp = cmap(normedp)\n",
    "\n",
    "x = np.arange(0.015,2.015,0.03)\n",
    "normed = x/2.\n",
    "\n",
    "norm = mpl.colors.Normalize(vmin=0, vmax=2)\n",
    "colors = cmap(normed)\n"
   ]
  },
  {
   "cell_type": "code",
   "execution_count": 25,
   "metadata": {},
   "outputs": [
    {
     "data": {
      "text/plain": [
       "<matplotlib.text.Text at 0x25c2a668>"
      ]
     },
     "execution_count": 25,
     "metadata": {},
     "output_type": "execute_result"
    }
   ],
   "source": [
    "#Fig 1\n",
    "bins = np.arange(0,2.0,.03)\n",
    "pi = list(se52[1][:,2])\n",
    "pi.extend(list(se2011[1][:,2]))\n",
    "q = list(se52[0][:,2])\n",
    "q.extend(list(se2011[0][:,2]))\n",
    "pihist, pibins = np.histogram(pi,np.arange(0.81,1.23,.03))\n",
    "qhist, qbins = np.histogram(q,np.arange(0.24,0.39,.03))\n",
    "\n",
    "#Get number of bars:\n",
    "dp = max(pi)-min(pi)\n",
    "lenp = 13.0\n",
    "\n",
    "#Get color bars:\n",
    "cmap = fullC\n",
    "\n",
    "norm = mpl.colors.Normalize(vmin=0, vmax=2)\n",
    "colorsq = cmap(normedq)\n",
    "colorsp = cmap(normedp)\n",
    "\n",
    "fig = plt.figure()\n",
    "ax = fig.add_axes([0.075, 0.2, 0.9, 0.75])\n",
    "ax1 = fig.add_axes([0.075, 0.08, 0.9, 0.03])\n",
    "\n",
    "\n",
    "cbq = mpl.colorbar.ColorbarBase(ax1, cmap=cmap, norm=norm, orientation='horizontal',ticks=[0.0, 1.0, 2.0])\n",
    "\n",
    "ax.bar(pibins[:-1], pihist, width=0.03, color=colorsp, alpha=0.8)\n",
    "ax.bar(qbins[:-1], qhist, width=0.03, color=colorsq, alpha=0.8)\n",
    "\n",
    "\n",
    "ax.set_xlim((0., 2.))\n",
    "ax.set_xlabel('$\\Delta \\phi$ ($\\pi$)')\n",
    "ax.set_ylabel('Count')"
   ]
  },
  {
   "cell_type": "code",
   "execution_count": 111,
   "metadata": {},
   "outputs": [
    {
     "data": {
      "text/plain": [
       "([<matplotlib.axis.XTick at 0x3f424f60>,\n",
       "  <matplotlib.axis.XTick at 0x3f2b62e8>,\n",
       "  <matplotlib.axis.XTick at 0x3e1d5048>,\n",
       "  <matplotlib.axis.XTick at 0x3e1d5668>],\n",
       " <a list of 4 Text xticklabel objects>)"
      ]
     },
     "execution_count": 111,
     "metadata": {},
     "output_type": "execute_result"
    }
   ],
   "source": [
    "#Version 1\n",
    "gs = GridSpec(1000,1000)\n",
    "\n",
    "bins = np.arange(0,2.0,.03)\n",
    "pi14 = list(se52[1][:,2])\n",
    "pi11 = list(se2011[1][:,2])\n",
    "q14 = list(se52[0][:,2])\n",
    "q11 = list(se2011[0][:,2])\n",
    "pihist11, pibins11 = np.histogram(pi11,np.arange(0.81,1.23,.03))\n",
    "qhist11, qbins11 = np.histogram(q11,np.arange(0.24,0.39,.03))\n",
    "pihist14, pibins14 = np.histogram(pi14,np.arange(0.81,1.23,.03))\n",
    "qhist14, qbins14 = np.histogram(q14,np.arange(0.24,0.39,.03))\n",
    "\n",
    "mpl.rcParams.update({'font.size': 8})\n",
    "fig = plt.figure(figsize=[4.6,4.6])\n",
    "right_space = 50\n",
    "bot_space = 80\n",
    "y_len = (1000-3*bot_space)/4\n",
    "\n",
    "ax1 = fig.add_subplot(gs[:y_len,right_space:])\n",
    "ax1.bar(pibins14[:-1], pihist14, width=0.03, color=colorsp, alpha=0.8)\n",
    "ax1.bar(qbins14[:-1], qhist14, width=0.03, color=colorsq, alpha=0.8)\n",
    "plt.ylim(0,7)\n",
    "plt.yticks([0,3,6], ([0,3,6]))\n",
    "plt.xlim(0,2)\n",
    "plt.xlabel('$\\Delta\\phi$ ($\\pi$)',size=10,labelpad = -1.5)\n",
    "\n",
    "ax2 = fig.add_subplot(gs[y_len+bot_space:2*y_len+bot_space,right_space:])\n",
    "plotColorizedHist(se52[1],colors)\n",
    "plotColorizedHist(se52[0],colors)\n",
    "plt.xlim(-30,-5)\n",
    "plt.ylim(0,6)\n",
    "plt.yticks([0,2,4], ([0,2,4]))\n",
    "plt.ylabel('Count',size=10)\n",
    "ax2.yaxis.set_label_coords(-0.07, -0.155)\n",
    "plt.xlabel('$V_p$ (mV)',size=10,labelpad = -2)\n",
    "plt.xticks([-30,-20,-10])\n",
    "\n",
    "ax3 = fig.add_subplot(gs[2*y_len+2*bot_space:3*y_len+2*bot_space,right_space:])\n",
    "ax3.bar(pibins11[:-1], pihist11, width=0.03, color=colorsp, alpha=0.8)\n",
    "ax3.bar(qbins11[:-1], qhist11, width=0.03, color=colorsq, alpha=0.8)\n",
    "plt.ylim(0,11)\n",
    "plt.yticks([0,5,10], ([0,5,10]))\n",
    "plt.xlim(0,2)\n",
    "plt.xlabel('$\\Delta\\phi$ ($\\pi$)',size=10,labelpad = -1.5)\n",
    "\n",
    "ax4 = fig.add_subplot(gs[3*y_len+3*bot_space:4*y_len+3*bot_space,right_space:])\n",
    "plotColorizedHist(se2011[1],colors)\n",
    "plotColorizedHist(se2011[0],colors)\n",
    "plt.yticks([0,3,6], ([0,3,6]))\n",
    "plt.xlim(-42,-10)\n",
    "plt.ylim(0,8)\n",
    "plt.xlabel('$V_p$ (mV)',size=10,labelpad = -2)\n",
    "plt.xticks([-40,-30,-20,-10])"
   ]
  },
  {
   "cell_type": "code",
   "execution_count": 73,
   "metadata": {
    "collapsed": true
   },
   "outputs": [],
   "source": [
    "fig.savefig('Hist v1',dpi=1200)"
   ]
  },
  {
   "cell_type": "code",
   "execution_count": 7,
   "metadata": {},
   "outputs": [
    {
     "data": {
      "text/plain": [
       "<matplotlib.text.Text at 0x1fb7c470>"
      ]
     },
     "execution_count": 7,
     "metadata": {},
     "output_type": "execute_result"
    }
   ],
   "source": [
    "#Version 2-1\n",
    "gs = GridSpec(1000,1000)\n",
    "\n",
    "bins = np.arange(0,2.0,.03)\n",
    "pi = list(se52[1][:,2])\n",
    "pi.extend(list(se2011[1][:,2]))\n",
    "q = list(se52[0][:,2])\n",
    "q.extend(list(se2011[0][:,2]))\n",
    "\n",
    "pihist, pibins = np.histogram(pi,np.arange(0.81,1.23,.03))\n",
    "qhist, qbins = np.histogram(q,np.arange(0.24,0.39,.03))\n",
    "\n",
    "mpl.rcParams.update({'font.size': 8})\n",
    "fig = plt.figure(figsize=[4.6,4.6/4*3])\n",
    "right_space = 50\n",
    "bot_space = 120\n",
    "y_len = (1000-1*bot_space)/2\n",
    "\n",
    "ax1 = fig.add_subplot(gs[:y_len,right_space:])\n",
    "ax1.bar(pibins[:-1], pihist, width=0.03, color=colorsp, alpha=0.8)\n",
    "ax1.bar(qbins[:-1], qhist, width=0.03, color=colorsq, alpha=0.8)\n",
    "plt.ylim(0,15)\n",
    "plt.yticks([0,5,10,15])\n",
    "plt.xlim(0,2)\n",
    "plt.xlabel('$\\Delta\\phi$ ($\\pi$)',size=10,labelpad = -1.5)\n",
    "\n",
    "ax2 = fig.add_subplot(gs[y_len+bot_space:2*y_len+bot_space,right_space:])\n",
    "\n",
    "plotColorizedHist(np.vstack((np.vstack((se52[1],se2011[1])),np.vstack((se52[0],se2011[0])))),colors)\n",
    "\n",
    "plt.ylim(0,8)\n",
    "plt.yticks([0,3,6])\n",
    "plt.ylabel('Count',size=10)\n",
    "plt.xlim(-42,-5)\n",
    "plt.xticks([-40,-30,-20,-10])\n",
    "ax2.yaxis.set_label_coords(-0.07, 1.15)\n",
    "plt.xlabel('$V_p$ (mV)',size=10,labelpad = -2)\n",
    "\n",
    "\n"
   ]
  },
  {
   "cell_type": "code",
   "execution_count": 123,
   "metadata": {
    "collapsed": true
   },
   "outputs": [],
   "source": [
    "fig.savefig('Hist v2-1',dpi=1200)"
   ]
  },
  {
   "cell_type": "code",
   "execution_count": 150,
   "metadata": {},
   "outputs": [
    {
     "data": {
      "text/plain": [
       "([<matplotlib.axis.XTick at 0xb5e5ecf8>,\n",
       "  <matplotlib.axis.XTick at 0xb5e5ec18>,\n",
       "  <matplotlib.axis.XTick at 0xb75e38d0>,\n",
       "  <matplotlib.axis.XTick at 0xb75e3f60>],\n",
       " <a list of 4 Text xticklabel objects>)"
      ]
     },
     "execution_count": 150,
     "metadata": {},
     "output_type": "execute_result"
    }
   ],
   "source": [
    "#Version 2\n",
    "gs = GridSpec(1000,1000)\n",
    "\n",
    "bins = np.arange(0,2.0,.03)\n",
    "pi14 = list(se52[1][:,2])\n",
    "pi11 = list(se2011[1][:,2])\n",
    "q14 = list(se52[0][:,2])\n",
    "q11 = list(se2011[0][:,2])\n",
    "\n",
    "pihist11, pibins11 = np.histogram(pi11,np.arange(0.81,1.23,.03))\n",
    "qhist11, qbins11 = np.histogram(q11,np.arange(0.24,0.39,.03))\n",
    "pihist14, pibins14 = np.histogram(pi14,np.arange(0.81,1.23,.03))\n",
    "qhist14, qbins14 = np.histogram(q14,np.arange(0.24,0.39,.03))\n",
    "\n",
    "mpl.rcParams.update({'font.size': 8})\n",
    "fig = plt.figure(figsize=[4.6,4.6])\n",
    "right_space = 50\n",
    "bot_space = 90\n",
    "y_len = (1000-int(1.4*bot_space))/4\n",
    "#use half bot_space between same axes\n",
    "\n",
    "ax1 = fig.add_subplot(gs[:y_len,right_space:])\n",
    "ax1.bar(pibins14[:-1], pihist14, width=0.03, color=colorsp, alpha=0.8)\n",
    "ax1.bar(qbins14[:-1], qhist14, width=0.03, color=colorsq, alpha=0.8)\n",
    "plt.ylim(0,7)\n",
    "plt.yticks([0,3,6], ([0,3,6]))\n",
    "plt.xlim(0,2)\n",
    "plt.tick_params(axis='x',labelbottom='off')\n",
    "\n",
    "ax2 = fig.add_subplot(gs[y_len+int(0.20*bot_space):2*y_len+int(0.20*bot_space),right_space:])\n",
    "ax2.bar(pibins11[:-1], pihist11, width=0.03, color=colorsp, alpha=0.8)\n",
    "ax2.bar(qbins11[:-1], qhist11, width=0.03, color=colorsq, alpha=0.8)\n",
    "plt.ylim(0,11)\n",
    "plt.yticks([0,5,10], ([0,5,10]))\n",
    "plt.xlim(0,2)\n",
    "plt.xlabel('$\\Delta\\phi$ ($\\pi$)',size=10,labelpad = -1.0)\n",
    "\n",
    "\n",
    "\n",
    "ax3 = fig.add_subplot(gs[2*y_len+int(1.20*bot_space):3*y_len+int(1.20*bot_space),right_space:])\n",
    "plotColorizedHist(se52[1],colors)\n",
    "plotColorizedHist(se52[0],colors)\n",
    "plt.xlim(-42,-5)\n",
    "plt.ylim(0,6)\n",
    "plt.yticks([0,2,4], ([0,2,4]))\n",
    "plt.ylabel('Count',size=10)\n",
    "ax3.yaxis.set_label_coords(-0.07, 1.25)\n",
    "plt.xticks([-40,-30,-20,-10])\n",
    "plt.tick_params(axis='x',labelbottom='off')\n",
    "\n",
    "\n",
    "\n",
    "ax4 = fig.add_subplot(gs[3*y_len+int(1.4*bot_space):4*y_len+int(1.4*bot_space),right_space:])\n",
    "plotColorizedHist(se2011[1],colors)\n",
    "plotColorizedHist(se2011[0],colors)\n",
    "plt.yticks([0,3,6], ([0,3,6]))\n",
    "plt.xlim(-42,-5)\n",
    "plt.ylim(0,8)\n",
    "plt.xlabel('$V_p$ (mV)',size=10,labelpad = -2)\n",
    "plt.xticks([-40,-30,-20,-10])"
   ]
  },
  {
   "cell_type": "code",
   "execution_count": 151,
   "metadata": {
    "collapsed": true
   },
   "outputs": [],
   "source": [
    "fig.savefig('Hist v2',dpi=1200)"
   ]
  },
  {
   "cell_type": "code",
   "execution_count": 154,
   "metadata": {},
   "outputs": [
    {
     "data": {
      "text/plain": [
       "([<matplotlib.axis.XTick at 0xbc05c128>,\n",
       "  <matplotlib.axis.XTick at 0xbbff3358>,\n",
       "  <matplotlib.axis.XTick at 0xbd7619e8>,\n",
       "  <matplotlib.axis.XTick at 0xbd76f0b8>],\n",
       " <a list of 4 Text xticklabel objects>)"
      ]
     },
     "execution_count": 154,
     "metadata": {},
     "output_type": "execute_result"
    }
   ],
   "source": [
    "#Version 3\n",
    "gs = GridSpec(1000,1000)\n",
    "#Data---------------------------------------------------------------------------------\n",
    "bins = np.arange(0,2.0,.03)\n",
    "pi14 = list(se52[1][:,2])\n",
    "pi11 = list(se2011[1][:,2])\n",
    "q14 = list(se52[0][:,2])\n",
    "q11 = list(se2011[0][:,2])\n",
    "\n",
    "pihist11, pibins11 = np.histogram(pi11,np.arange(0.81,1.23,.03))\n",
    "qhist11, qbins11 = np.histogram(q11,np.arange(0.24,0.39,.03))\n",
    "pihist14, pibins14 = np.histogram(pi14,np.arange(0.81,1.23,.03))\n",
    "qhist14, qbins14 = np.histogram(q14,np.arange(0.24,0.39,.03))\n",
    "\n",
    "\n",
    "pi = list(se52[1][:,2])\n",
    "pi.extend(list(se2011[1][:,2]))\n",
    "q = list(se52[0][:,2])\n",
    "q.extend(list(se2011[0][:,2]))\n",
    "\n",
    "pihist, pibins = np.histogram(pi,np.arange(0.81,1.23,.03))\n",
    "qhist, qbins = np.histogram(q,np.arange(0.24,0.39,.03))\n",
    "#-------------------------------------------------------------------------------------\n",
    "\n",
    "\n",
    "mpl.rcParams.update({'font.size': 8})\n",
    "fig = plt.figure(figsize=[4.6,4.6*1.2])\n",
    "right_space = 50\n",
    "bot_space = 90\n",
    "bot_fraction = 1.0/8\n",
    "y_len = (1000-int((1+3*bot_fraction)*bot_space))/5\n",
    "#use half bot_space between same axes\n",
    "\n",
    "ax1 = fig.add_subplot(gs[:y_len,right_space:])\n",
    "ax1.bar(pibins14[:-1], pihist14, width=0.03, color=colorsp, alpha=0.8)\n",
    "ax1.bar(qbins14[:-1], qhist14, width=0.03, color=colorsq, alpha=0.8)\n",
    "plt.ylim(0,7)\n",
    "plt.yticks([0,3,6], ([0,3,6]))\n",
    "plt.xlim(0,2)\n",
    "plt.tick_params(axis='x',labelbottom='off')\n",
    "\n",
    "ax2 = fig.add_subplot(gs[y_len+int(bot_fraction*bot_space):2*y_len+int(bot_fraction*bot_space),right_space:])\n",
    "ax2.bar(pibins11[:-1], pihist11, width=0.03, color=colorsp, alpha=0.8)\n",
    "ax2.bar(qbins11[:-1], qhist11, width=0.03, color=colorsq, alpha=0.8)\n",
    "plt.ylim(0,11)\n",
    "plt.yticks([0,5,10], ([0,5,10]))\n",
    "plt.xlim(0,2)\n",
    "plt.tick_params(axis='x',labelbottom='off')\n",
    "\n",
    "\n",
    "ax3 = fig.add_subplot(gs[2*y_len+int(2*bot_fraction*bot_space):3*y_len+int(2*bot_fraction*bot_space),right_space:])\n",
    "ax3.bar(pibins[:-1], pihist, width=0.03, color=colorsp, alpha=0.8)\n",
    "ax3.bar(qbins[:-1], qhist, width=0.03, color=colorsq, alpha=0.8)\n",
    "plt.ylim(0,15)\n",
    "plt.yticks([0,7,14])\n",
    "plt.xlim(0,2)\n",
    "plt.xlabel('$\\Delta\\phi$ ($\\pi$)',size=10,labelpad = -1.5)\n",
    "plt.ylabel('Count',size=10)\n",
    "#ax3.yaxis.set_label_coords(-0.07, 1.25)\n",
    "\n",
    "\n",
    "\n",
    "ax4 = fig.add_subplot(gs[3*y_len+int((1+2*bot_fraction)*bot_space):4*y_len+int((1+2*bot_fraction)*bot_space),right_space:])\n",
    "plotColorizedHist(se52[1],colors)\n",
    "plotColorizedHist(se52[0],colors)\n",
    "plt.xlim(-42,-5)\n",
    "plt.ylim(0,6)\n",
    "plt.yticks([0,2,4], ([0,2,4]))\n",
    "plt.xticks([-40,-30,-20,-10])\n",
    "plt.tick_params(axis='x',labelbottom='off')\n",
    "\n",
    "\n",
    "\n",
    "ax5 = fig.add_subplot(gs[4*y_len+int((1+3*bot_fraction)*bot_space):5*y_len+int((1+3*bot_fraction)*bot_space),right_space:])\n",
    "plotColorizedHist(se2011[1],colors)\n",
    "plotColorizedHist(se2011[0],colors)\n",
    "plt.yticks([0,3,6], ([0,3,6]))\n",
    "plt.xlim(-42,-5)\n",
    "plt.ylim(0,8)\n",
    "plt.xlabel('$V_p$ (mV)',size=10,labelpad = -2)\n",
    "plt.xticks([-40,-30,-20,-10])"
   ]
  },
  {
   "cell_type": "code",
   "execution_count": 149,
   "metadata": {
    "collapsed": true
   },
   "outputs": [],
   "source": [
    "fig.savefig('Hist v3',dpi=1200)"
   ]
  },
  {
   "cell_type": "code",
   "execution_count": 158,
   "metadata": {},
   "outputs": [
    {
     "data": {
      "text/plain": [
       "([<matplotlib.axis.XTick at 0xc4b1cdd8>,\n",
       "  <matplotlib.axis.XTick at 0xc4b1c8d0>,\n",
       "  <matplotlib.axis.XTick at 0xc62beb00>,\n",
       "  <matplotlib.axis.XTick at 0xc62ca1d0>],\n",
       " <a list of 4 Text xticklabel objects>)"
      ]
     },
     "execution_count": 158,
     "metadata": {},
     "output_type": "execute_result"
    }
   ],
   "source": [
    "#Version 4\n",
    "gs = GridSpec(1000,1000)\n",
    "\n",
    "bins = np.arange(0,2.0,.03)\n",
    "pi = list(se52[1][:,2])\n",
    "pi.extend(list(se2011[1][:,2]))\n",
    "q = list(se52[0][:,2])\n",
    "q.extend(list(se2011[0][:,2]))\n",
    "\n",
    "pihist, pibins = np.histogram(pi,np.arange(0.81,1.23,.03))\n",
    "qhist, qbins = np.histogram(q,np.arange(0.24,0.39,.03))\n",
    "\n",
    "mpl.rcParams.update({'font.size': 8})\n",
    "fig = plt.figure(figsize=[4.6,4.6/4*3])\n",
    "right_space = 50\n",
    "bot_space = 120\n",
    "bot_fraction = 1.0/8\n",
    "y_len = (1000-int((1+bot_fraction)*bot_space))/3\n",
    "\n",
    "ax1 = fig.add_subplot(gs[:y_len,right_space:])\n",
    "ax1.bar(pibins[:-1], pihist, width=0.03, color=colorsp, alpha=0.8)\n",
    "ax1.bar(qbins[:-1], qhist, width=0.03, color=colorsq, alpha=0.8)\n",
    "plt.ylim(0,15)\n",
    "plt.yticks([0,7,14])\n",
    "plt.xlim(0,2)\n",
    "plt.xlabel('$\\Delta\\phi$ ($\\pi$)',size=10,labelpad = -1.0)\n",
    "\n",
    "ax2 = fig.add_subplot(gs[y_len+bot_space:2*y_len+bot_space,right_space:])\n",
    "plotColorizedHist(se52[1],colors)\n",
    "plotColorizedHist(se52[0],colors)\n",
    "plt.xlim(-42,-5)\n",
    "plt.ylim(0,6)\n",
    "plt.yticks([0,2,4], ([0,2,4]))\n",
    "plt.ylabel('Count',size=10)\n",
    "plt.xticks([-40,-30,-20,-10])\n",
    "plt.tick_params(axis='x',labelbottom='off')\n",
    "\n",
    "\n",
    "\n",
    "ax3 = fig.add_subplot(gs[2*y_len+int((1+bot_fraction)*bot_space):3*y_len+int((1+bot_fraction)*bot_space),right_space:])\n",
    "plotColorizedHist(se2011[1],colors)\n",
    "plotColorizedHist(se2011[0],colors)\n",
    "plt.yticks([0,3,6], ([0,3,6]))\n",
    "plt.xlim(-42,-5)\n",
    "plt.ylim(0,8)\n",
    "plt.xlabel('$V_p$ (mV)',size=10,labelpad = -2)\n",
    "plt.xticks([-40,-30,-20,-10])\n"
   ]
  },
  {
   "cell_type": "code",
   "execution_count": 159,
   "metadata": {
    "collapsed": true
   },
   "outputs": [],
   "source": [
    "fig.savefig('Hist v4',dpi=1200)"
   ]
  },
  {
   "cell_type": "code",
   "execution_count": 9,
   "metadata": {},
   "outputs": [
    {
     "data": {
      "text/plain": [
       "9.8532"
      ]
     },
     "execution_count": 9,
     "metadata": {},
     "output_type": "execute_result"
    }
   ],
   "source": [
    "#Fig height:\n",
    "height = 6 * nice_height\n",
    "bot = 4.6*1.2*90/1000*1.5\n",
    "height += bot\n",
    "height\n"
   ]
  },
  {
   "cell_type": "code",
   "execution_count": 51,
   "metadata": {},
   "outputs": [
    {
     "data": {
      "text/plain": [
       "<matplotlib.text.Text at 0xae218940>"
      ]
     },
     "execution_count": 51,
     "metadata": {},
     "output_type": "execute_result"
    }
   ],
   "source": [
    "#Version 5\n",
    "gs = GridSpec(1000,1000)\n",
    "#Data---------------------------------------------------------------------------------\n",
    "bins = np.arange(0,2.0,.03)\n",
    "pi14 = list(se52[1][:,2])\n",
    "pi11 = list(se2011[1][:,2])\n",
    "q14 = list(se52[0][:,2])\n",
    "q11 = list(se2011[0][:,2])\n",
    "\n",
    "pihist11, pibins11 = np.histogram(pi11,np.arange(0.81,1.23,.03))\n",
    "qhist11, qbins11 = np.histogram(q11,np.arange(0.24,0.39,.03))\n",
    "pihist14, pibins14 = np.histogram(pi14,np.arange(0.81,1.23,.03))\n",
    "qhist14, qbins14 = np.histogram(q14,np.arange(0.24,0.39,.03))\n",
    "\n",
    "\n",
    "pi = list(se52[1][:,2])\n",
    "pi.extend(list(se2011[1][:,2]))\n",
    "q = list(se52[0][:,2])\n",
    "q.extend(list(se2011[0][:,2]))\n",
    "\n",
    "pihist, pibins = np.histogram(pi,np.arange(0.81,1.23,.03))\n",
    "qhist, qbins = np.histogram(q,np.arange(0.24,0.39,.03))\n",
    "#-------------------------------------------------------------------------------------\n",
    "\n",
    "\n",
    "mpl.rcParams.update({'font.size': 8})\n",
    "fig = plt.figure(figsize=[4.6,height])\n",
    "right_space = 50\n",
    "bot_space = int(4.6*1.2*90/9.86)\n",
    "bot_fraction = 1.0/8\n",
    "y_len = int(nice_height/height*1000)\n",
    "#use half bot_space between same axes\n",
    "\n",
    "ax1 = fig.add_subplot(gs[:y_len,right_space:])\n",
    "ax1.bar(pibins14[:-1], pihist14, width=0.03, color=colorsp, alpha=0.8)\n",
    "ax1.bar(qbins14[:-1], qhist14, width=0.03, color=colorsq, alpha=0.8)\n",
    "plt.ylim(0,7)\n",
    "plt.yticks([0,5])\n",
    "plt.xlim(0,2)\n",
    "plt.tick_params(axis='x',labelbottom='off')\n",
    "\n",
    "ax2 = fig.add_subplot(gs[y_len+int(bot_fraction*bot_space):2*y_len+int(bot_fraction*bot_space),right_space:])\n",
    "ax2.bar(pibins11[:-1], pihist11, width=0.03, color=colorsp, alpha=0.8)\n",
    "ax2.bar(qbins11[:-1], qhist11, width=0.03, color=colorsq, alpha=0.8)\n",
    "plt.ylim(0,11)\n",
    "plt.yticks([0,10])\n",
    "plt.xlim(0,2)\n",
    "plt.tick_params(axis='x',labelbottom='off')\n",
    "\n",
    "\n",
    "ax3 = fig.add_subplot(gs[2*y_len+int(2*bot_fraction*bot_space):3*y_len+int(2*bot_fraction*bot_space),right_space:])\n",
    "ax3.bar(pibins[:-1], pihist, width=0.03, color=colorsp, alpha=0.8)\n",
    "ax3.bar(qbins[:-1], qhist, width=0.03, color=colorsq, alpha=0.8)\n",
    "plt.ylim(0,17)\n",
    "plt.yticks([0,15])\n",
    "plt.xlim(0,2)\n",
    "plt.xlabel('$\\Delta\\phi$ ($\\pi$)',size=12,labelpad = 0)\n",
    "ax3.yaxis.set_label_coords(-0.08, -.18)\n",
    "plt.ylabel('Count',size=12)\n",
    "\n",
    "\n",
    "\n",
    "\n",
    "ax4 = fig.add_subplot(gs[3*y_len+int((1+2*bot_fraction)*bot_space):4*y_len+int((1+2*bot_fraction)*bot_space),right_space:])\n",
    "plotColorizedHist(se52[1],colors)\n",
    "plotColorizedHist(se52[0],colors)\n",
    "plt.xlim(-42,-5)\n",
    "plt.ylim(0,6)\n",
    "plt.yticks([0,5])\n",
    "plt.xticks([-40,-30,-20,-10])\n",
    "plt.tick_params(axis='x',labelbottom='off')\n",
    "\n",
    "\n",
    "\n",
    "ax5 = fig.add_subplot(gs[4*y_len+int((1+3*bot_fraction)*bot_space):5*y_len+int((1+3*bot_fraction)*bot_space),right_space:])\n",
    "plotColorizedHist(se2011[1],colors)\n",
    "plotColorizedHist(se2011[0],colors)\n",
    "plt.yticks([0,5])\n",
    "plt.xlim(-42,-5)\n",
    "plt.ylim(0,8)\n",
    "plt.xticks([-40,-30,-20,-10])\n",
    "\n",
    "ax6 = fig.add_subplot(gs[5*y_len+int((1+4*bot_fraction)*bot_space):6*y_len+int((1+4*bot_fraction)*bot_space),right_space:])\n",
    "\n",
    "plotColorizedHist(np.vstack((np.vstack((se52[1],se2011[1])),np.vstack((se52[0],se2011[0])))),colors)\n",
    "plt.ylim(0,8)\n",
    "plt.yticks([0,5])\n",
    "plt.xlim(-42,-5)\n",
    "plt.xticks([-40,-30,-20,-10])\n",
    "plt.xlabel('$V_p$ (mV)',size=12,labelpad = 0)\n"
   ]
  },
  {
   "cell_type": "code",
   "execution_count": 52,
   "metadata": {
    "collapsed": true
   },
   "outputs": [],
   "source": [
    "fig.savefig('Hist v5',dpi=1200)"
   ]
  },
  {
   "cell_type": "code",
   "execution_count": 53,
   "metadata": {},
   "outputs": [
    {
     "data": {
      "text/plain": [
       "<matplotlib.text.Text at 0xb2dcbef0>"
      ]
     },
     "execution_count": 53,
     "metadata": {},
     "output_type": "execute_result"
    }
   ],
   "source": [
    "#Version 5-1\n",
    "gs = GridSpec(1000,1000)\n",
    "#Data---------------------------------------------------------------------------------\n",
    "bins = np.arange(0,2.0,.03)\n",
    "pi14 = list(se52[1][:,2])\n",
    "pi11 = list(se2011[1][:,2])\n",
    "q14 = list(se52[0][:,2])\n",
    "q11 = list(se2011[0][:,2])\n",
    "\n",
    "pihist11, pibins11 = np.histogram(pi11,np.arange(0.81,1.23,.03))\n",
    "qhist11, qbins11 = np.histogram(q11,np.arange(0.24,0.39,.03))\n",
    "pihist14, pibins14 = np.histogram(pi14,np.arange(0.81,1.23,.03))\n",
    "qhist14, qbins14 = np.histogram(q14,np.arange(0.24,0.39,.03))\n",
    "\n",
    "\n",
    "pi = list(se52[1][:,2])\n",
    "pi.extend(list(se2011[1][:,2]))\n",
    "q = list(se52[0][:,2])\n",
    "q.extend(list(se2011[0][:,2]))\n",
    "\n",
    "pihist, pibins = np.histogram(pi,np.arange(0.81,1.23,.03))\n",
    "qhist, qbins = np.histogram(q,np.arange(0.24,0.39,.03))\n",
    "#-------------------------------------------------------------------------------------\n",
    "\n",
    "\n",
    "mpl.rcParams.update({'font.size': 8})\n",
    "fig = plt.figure(figsize=[4.6,height])\n",
    "right_space = 50\n",
    "bot_space = int(4.6*1.2*90/9.86)\n",
    "bot_fraction = 1.0/8\n",
    "y_len = int(nice_height/height*1000)\n",
    "#use half bot_space between same axes\n",
    "\n",
    "ax1 = fig.add_subplot(gs[:y_len,right_space:])\n",
    "ax1.bar(pibins14[:-1], pihist14, width=0.03, color=colorsp, alpha=0.8)\n",
    "ax1.bar(qbins14[:-1], qhist14, width=0.03, color=colorsq, alpha=0.8)\n",
    "plt.ylim(0,17)\n",
    "plt.yticks([0,15])\n",
    "plt.xlim(0,2)\n",
    "plt.tick_params(axis='x',labelbottom='off')\n",
    "\n",
    "ax2 = fig.add_subplot(gs[y_len+int(bot_fraction*bot_space):2*y_len+int(bot_fraction*bot_space),right_space:])\n",
    "ax2.bar(pibins11[:-1], pihist11, width=0.03, color=colorsp, alpha=0.8)\n",
    "ax2.bar(qbins11[:-1], qhist11, width=0.03, color=colorsq, alpha=0.8)\n",
    "plt.ylim(0,17)\n",
    "plt.yticks([0,15])\n",
    "plt.xlim(0,2)\n",
    "plt.tick_params(axis='x',labelbottom='off')\n",
    "\n",
    "\n",
    "ax3 = fig.add_subplot(gs[2*y_len+int(2*bot_fraction*bot_space):3*y_len+int(2*bot_fraction*bot_space),right_space:])\n",
    "ax3.bar(pibins[:-1], pihist, width=0.03, color=colorsp, alpha=0.8)\n",
    "ax3.bar(qbins[:-1], qhist, width=0.03, color=colorsq, alpha=0.8)\n",
    "plt.ylim(0,17)\n",
    "plt.yticks([0,15])\n",
    "plt.xlim(0,2)\n",
    "plt.xlabel('$\\Delta\\phi$ ($\\pi$)',size=12,labelpad = 0)\n",
    "ax3.yaxis.set_label_coords(-0.08, -.18)\n",
    "plt.ylabel('Count',size=12)\n",
    "\n",
    "\n",
    "\n",
    "\n",
    "ax4 = fig.add_subplot(gs[3*y_len+int((1+2*bot_fraction)*bot_space):4*y_len+int((1+2*bot_fraction)*bot_space),right_space:])\n",
    "plotColorizedHist(se52[1],colors)\n",
    "plotColorizedHist(se52[0],colors)\n",
    "plt.xlim(-42,-5)\n",
    "plt.ylim(0,8)\n",
    "plt.yticks([0,5])\n",
    "plt.xticks([-40,-30,-20,-10])\n",
    "plt.tick_params(axis='x',labelbottom='off')\n",
    "\n",
    "\n",
    "\n",
    "ax5 = fig.add_subplot(gs[4*y_len+int((1+3*bot_fraction)*bot_space):5*y_len+int((1+3*bot_fraction)*bot_space),right_space:])\n",
    "plotColorizedHist(se2011[1],colors)\n",
    "plotColorizedHist(se2011[0],colors)\n",
    "plt.yticks([0,5])\n",
    "plt.xlim(-42,-5)\n",
    "plt.ylim(0,8)\n",
    "plt.xticks([-40,-30,-20,-10])\n",
    "\n",
    "ax6 = fig.add_subplot(gs[5*y_len+int((1+4*bot_fraction)*bot_space):6*y_len+int((1+4*bot_fraction)*bot_space),right_space:])\n",
    "\n",
    "plotColorizedHist(np.vstack((np.vstack((se52[1],se2011[1])),np.vstack((se52[0],se2011[0])))),colors)\n",
    "plt.ylim(0,8)\n",
    "plt.yticks([0,5])\n",
    "plt.xlim(-42,-5)\n",
    "plt.xticks([-40,-30,-20,-10])\n",
    "plt.xlabel('$V_p$ (mV)',size=12,labelpad = 0)\n"
   ]
  },
  {
   "cell_type": "code",
   "execution_count": 54,
   "metadata": {
    "collapsed": true
   },
   "outputs": [],
   "source": [
    "fig.savefig('Hist v5-1',dpi=1200)"
   ]
  },
  {
   "cell_type": "code",
   "execution_count": 11,
   "metadata": {},
   "outputs": [
    {
     "data": {
      "text/plain": [
       "<matplotlib.text.Text at 0x290d87b8>"
      ]
     },
     "execution_count": 11,
     "metadata": {},
     "output_type": "execute_result"
    }
   ],
   "source": [
    "#Version 6\n",
    "gs = GridSpec(1000,1000)\n",
    "#Data---------------------------------------------------------------------------------\n",
    "bins = np.arange(0,2.0,.03)\n",
    "pi14 = list(se52[1][:,2])\n",
    "pi11 = list(se2011[1][:,2])\n",
    "q14 = list(se52[0][:,2])\n",
    "q11 = list(se2011[0][:,2])\n",
    "\n",
    "pihist11, pibins11 = np.histogram(pi11,np.arange(0.81,1.23,.03))\n",
    "qhist11, qbins11 = np.histogram(q11,np.arange(0.24,0.39,.03))\n",
    "pihist14, pibins14 = np.histogram(pi14,np.arange(0.81,1.23,.03))\n",
    "qhist14, qbins14 = np.histogram(q14,np.arange(0.24,0.39,.03))\n",
    "\n",
    "\n",
    "pi = list(se52[1][:,2])\n",
    "pi.extend(list(se2011[1][:,2]))\n",
    "q = list(se52[0][:,2])\n",
    "q.extend(list(se2011[0][:,2]))\n",
    "\n",
    "pihist, pibins = np.histogram(pi,np.arange(0.81,1.23,.03))\n",
    "qhist, qbins = np.histogram(q,np.arange(0.24,0.39,.03))\n",
    "#-------------------------------------------------------------------------------------\n",
    "\n",
    "\n",
    "mpl.rcParams.update({'font.size': 8})\n",
    "fig = plt.figure(figsize=[4.6,height])\n",
    "right_space = 50\n",
    "bot_space = int(4.6*1.2*90/9.86)\n",
    "bot_fraction = 1.0/8\n",
    "y_len = int(nice_height/height*1000)\n",
    "#use half bot_space between same axes\n",
    "\n",
    "ax1 = fig.add_subplot(gs[:y_len,right_space:])\n",
    "ax1.bar(pibins14[:-1], pihist14, width=0.03, color=colorsp, alpha=0.8)\n",
    "ax1.bar(qbins14[:-1], qhist14, width=0.03, color=colorsq, alpha=0.8)\n",
    "plt.ylim(0,11)\n",
    "plt.yticks([0,10])\n",
    "plt.xlim(0,2)\n",
    "plt.tick_params(axis='x',labelbottom='off')\n",
    "\n",
    "ax2 = fig.add_subplot(gs[y_len+int(bot_fraction*bot_space):2*y_len+int(bot_fraction*bot_space),right_space:])\n",
    "ax2.bar(pibins11[:-1], pihist11, width=0.03, color=colorsp, alpha=0.8)\n",
    "ax2.bar(qbins11[:-1], qhist11, width=0.03, color=colorsq, alpha=0.8)\n",
    "plt.ylim(0,14)\n",
    "plt.yticks([0,10])\n",
    "plt.xlim(0,2)\n",
    "plt.tick_params(axis='x',labelbottom='off')\n",
    "\n",
    "\n",
    "ax3 = fig.add_subplot(gs[2*y_len+int(2*bot_fraction*bot_space):3*y_len+int(2*bot_fraction*bot_space),right_space:])\n",
    "ax3.bar(pibins[:-1], pihist, width=0.03, color=colorsp, alpha=0.8)\n",
    "ax3.bar(qbins[:-1], qhist, width=0.03, color=colorsq, alpha=0.8)\n",
    "plt.ylim(0,17)\n",
    "plt.yticks([0,15])\n",
    "plt.xlim(0,2)\n",
    "plt.xlabel('$\\Delta\\phi$ ($\\pi$)',size=12,labelpad = 0)\n",
    "ax3.yaxis.set_label_coords(-0.08, -.18)\n",
    "plt.ylabel('Count',size=12)\n",
    "\n",
    "\n",
    "\n",
    "\n",
    "ax4 = fig.add_subplot(gs[3*y_len+int((1+2*bot_fraction)*bot_space):4*y_len+int((1+2*bot_fraction)*bot_space),right_space:])\n",
    "plotColorizedHist(se52[1],colors)\n",
    "plotColorizedHist(se52[0],colors)\n",
    "plt.xlim(-42,-5)\n",
    "plt.ylim(0,9)\n",
    "plt.yticks([0,5])\n",
    "plt.xticks([-40,-30,-20,-10])\n",
    "plt.tick_params(axis='x',labelbottom='off')\n",
    "\n",
    "\n",
    "\n",
    "ax5 = fig.add_subplot(gs[4*y_len+int((1+3*bot_fraction)*bot_space):5*y_len+int((1+3*bot_fraction)*bot_space),right_space:])\n",
    "plotColorizedHist(se2011[1],colors)\n",
    "plotColorizedHist(se2011[0],colors)\n",
    "plt.yticks([0,5])\n",
    "plt.xlim(-42,-5)\n",
    "plt.ylim(0,9)\n",
    "plt.xticks([-40,-30,-20,-10])\n",
    "\n",
    "ax6 = fig.add_subplot(gs[5*y_len+int((1+4*bot_fraction)*bot_space):6*y_len+int((1+4*bot_fraction)*bot_space),right_space:])\n",
    "\n",
    "plotColorizedHist(np.vstack((np.vstack((se52[1],se2011[1])),np.vstack((se52[0],se2011[0])))),colors)\n",
    "plt.ylim(0,9)\n",
    "plt.yticks([0,5])\n",
    "plt.xlim(-42,-5)\n",
    "plt.xticks([-40,-30,-20,-10])\n",
    "plt.xlabel('$V_p$ (mV)',size=12,labelpad = 0)\n"
   ]
  },
  {
   "cell_type": "code",
   "execution_count": 12,
   "metadata": {
    "collapsed": true
   },
   "outputs": [],
   "source": [
    "fig.savefig('Hist v6',dpi = 1200)"
   ]
  },
  {
   "cell_type": "code",
   "execution_count": 27,
   "metadata": {},
   "outputs": [],
   "source": [
    "class Location(object):\n",
    "    def __init__(self, x, y):\n",
    "        self.x = x\n",
    "        self.y = y\n",
    "    def move(self, deltaX, deltaY):\n",
    "        return Location(self.x + deltaX, self.y + deltaY)\n",
    "    def getX(self):\n",
    "        return self.x\n",
    "    def getY(self):\n",
    "        return self.y\n",
    "    def dist_from(self, other):\n",
    "        xDist = self.x - other.x\n",
    "        yDist = self.y - other.y\n",
    "        return (xDist**2 + yDist**2)**0.5\n",
    "    def __eq__(self, other):\n",
    "        return (self.x == other.x and self.y == other.y)\n",
    "    def __str__(self):\n",
    "        return '<' + str(self.x) + ',' + str(self.y) + '>'"
   ]
  },
  {
   "cell_type": "code",
   "execution_count": 30,
   "metadata": {
    "collapsed": true
   },
   "outputs": [],
   "source": [
    "a = Location(1,2)\n",
    "b = Location(3,4)\n",
    "c = [b,a]"
   ]
  },
  {
   "cell_type": "code",
   "execution_count": 44,
   "metadata": {},
   "outputs": [],
   "source": [
    "d = sorted(c, key = lambda q: q.x)"
   ]
  },
  {
   "cell_type": "code",
   "execution_count": 49,
   "metadata": {
    "collapsed": true
   },
   "outputs": [],
   "source": [
    "c.sort(key = lambda x: x.getX())"
   ]
  },
  {
   "cell_type": "code",
   "execution_count": 51,
   "metadata": {},
   "outputs": [
    {
     "name": "stdout",
     "output_type": "stream",
     "text": [
      "<1,2>\n",
      "<3,4>\n"
     ]
    }
   ],
   "source": [
    "for i in c:\n",
    "    print(str(i))"
   ]
  },
  {
   "cell_type": "code",
   "execution_count": 48,
   "metadata": {},
   "outputs": [
    {
     "data": {
      "text/plain": [
       "<__main__.Location at 0x24c00ef0>"
      ]
     },
     "execution_count": 48,
     "metadata": {},
     "output_type": "execute_result"
    }
   ],
   "source": [
    "a"
   ]
  },
  {
   "cell_type": "code",
   "execution_count": null,
   "metadata": {
    "collapsed": true
   },
   "outputs": [],
   "source": []
  }
 ],
 "metadata": {
  "kernelspec": {
   "display_name": "Python 2",
   "language": "python",
   "name": "python2"
  },
  "language_info": {
   "codemirror_mode": {
    "name": "ipython",
    "version": 2
   },
   "file_extension": ".py",
   "mimetype": "text/x-python",
   "name": "python",
   "nbconvert_exporter": "python",
   "pygments_lexer": "ipython2",
   "version": "2.7.10"
  }
 },
 "nbformat": 4,
 "nbformat_minor": 2
}

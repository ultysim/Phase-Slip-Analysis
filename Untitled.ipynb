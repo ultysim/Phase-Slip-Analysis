{
 "cells": [
  {
   "cell_type": "code",
   "execution_count": 1,
   "metadata": {
    "collapsed": true
   },
   "outputs": [],
   "source": [
    "a = [[1, 2, 3],\n",
    "     [4, 5, 6],\n",
    "     [7, 8, 9]]"
   ]
  },
  {
   "cell_type": "code",
   "execution_count": 7,
   "metadata": {},
   "outputs": [
    {
     "data": {
      "text/plain": [
       "[(7, 4, 1), (8, 5, 2), (9, 6, 3)]"
      ]
     },
     "execution_count": 7,
     "metadata": {},
     "output_type": "execute_result"
    }
   ],
   "source": [
    "zip(*a[::-1])"
   ]
  },
  {
   "cell_type": "code",
   "execution_count": 8,
   "metadata": {},
   "outputs": [
    {
     "data": {
      "text/plain": [
       "[[7, 8, 9], [4, 5, 6], [1, 2, 3]]"
      ]
     },
     "execution_count": 8,
     "metadata": {},
     "output_type": "execute_result"
    }
   ],
   "source": [
    "a[::-1]"
   ]
  },
  {
   "cell_type": "code",
   "execution_count": 10,
   "metadata": {},
   "outputs": [
    {
     "data": {
      "text/plain": [
       "4"
      ]
     },
     "execution_count": 10,
     "metadata": {},
     "output_type": "execute_result"
    }
   ],
   "source": [
    "len(set([1,2,3,4,4]))"
   ]
  },
  {
   "cell_type": "code",
   "execution_count": 11,
   "metadata": {},
   "outputs": [
    {
     "data": {
      "text/plain": [
       "[0, 3, 6]"
      ]
     },
     "execution_count": 11,
     "metadata": {},
     "output_type": "execute_result"
    }
   ],
   "source": [
    "range(0,9,3)"
   ]
  },
  {
   "cell_type": "code",
   "execution_count": 12,
   "metadata": {
    "collapsed": true
   },
   "outputs": [],
   "source": [
    "grid = [[\".\",\"4\",\".\",\".\",\".\",\".\",\".\",\".\",\".\"], \n",
    "         [\".\",\".\",\"4\",\".\",\".\",\".\",\".\",\".\",\".\"], \n",
    "         [\".\",\".\",\".\",\"1\",\".\",\".\",\"7\",\".\",\".\"], \n",
    "         [\".\",\".\",\".\",\".\",\".\",\".\",\".\",\".\",\".\"], \n",
    "         [\".\",\".\",\".\",\"3\",\".\",\".\",\".\",\"6\",\".\"], \n",
    "         [\".\",\".\",\".\",\".\",\".\",\"6\",\".\",\"9\",\".\"], \n",
    "         [\".\",\".\",\".\",\".\",\"1\",\".\",\".\",\".\",\".\"], \n",
    "         [\".\",\".\",\".\",\".\",\".\",\".\",\"2\",\".\",\".\"], \n",
    "         [\".\",\".\",\".\",\"8\",\".\",\".\",\".\",\".\",\".\"]]"
   ]
  },
  {
   "cell_type": "code",
   "execution_count": 13,
   "metadata": {},
   "outputs": [
    {
     "data": {
      "text/plain": [
       "[('.', '.', '.', '.', '.', '.', '.', '.', '.'),\n",
       " ('4', '.', '.', '.', '.', '.', '.', '.', '.'),\n",
       " ('.', '4', '.', '.', '.', '.', '.', '.', '.'),\n",
       " ('.', '.', '1', '.', '3', '.', '.', '.', '8'),\n",
       " ('.', '.', '.', '.', '.', '.', '1', '.', '.'),\n",
       " ('.', '.', '.', '.', '.', '6', '.', '.', '.'),\n",
       " ('.', '.', '7', '.', '.', '.', '.', '2', '.'),\n",
       " ('.', '.', '.', '.', '6', '9', '.', '.', '.'),\n",
       " ('.', '.', '.', '.', '.', '.', '.', '.', '.')]"
      ]
     },
     "execution_count": 13,
     "metadata": {},
     "output_type": "execute_result"
    }
   ],
   "source": [
    "zip(*grid)"
   ]
  },
  {
   "cell_type": "code",
   "execution_count": 14,
   "metadata": {
    "collapsed": true
   },
   "outputs": [],
   "source": [
    "solution = [['O', '1'],\n",
    "            ['T', '0'],\n",
    "            ['W', '9'],\n",
    "            ['E', '5'],\n",
    "            ['N', '4']]"
   ]
  },
  {
   "cell_type": "code",
   "execution_count": 15,
   "metadata": {},
   "outputs": [
    {
     "data": {
      "text/plain": [
       "{'E': '5', 'N': '4', 'O': '1', 'T': '0', 'W': '9'}"
      ]
     },
     "execution_count": 15,
     "metadata": {},
     "output_type": "execute_result"
    }
   ],
   "source": [
    "dict(solution)"
   ]
  },
  {
   "cell_type": "code",
   "execution_count": 17,
   "metadata": {},
   "outputs": [
    {
     "data": {
      "text/plain": [
       "False"
      ]
     },
     "execution_count": 17,
     "metadata": {},
     "output_type": "execute_result"
    }
   ],
   "source": [
    "1 == 1 == 1 == 2"
   ]
  },
  {
   "cell_type": "code",
   "execution_count": null,
   "metadata": {
    "collapsed": true
   },
   "outputs": [],
   "source": []
  }
 ],
 "metadata": {
  "kernelspec": {
   "display_name": "Python 2",
   "language": "python",
   "name": "python2"
  },
  "language_info": {
   "codemirror_mode": {
    "name": "ipython",
    "version": 2
   },
   "file_extension": ".py",
   "mimetype": "text/x-python",
   "name": "python",
   "nbconvert_exporter": "python",
   "pygments_lexer": "ipython2",
   "version": "2.7.10"
  }
 },
 "nbformat": 4,
 "nbformat_minor": 2
}

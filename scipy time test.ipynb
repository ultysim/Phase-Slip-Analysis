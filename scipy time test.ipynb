{
 "cells": [
  {
   "cell_type": "code",
   "execution_count": 4,
   "metadata": {},
   "outputs": [
    {
     "name": "stdout",
     "output_type": "stream",
     "text": [
      "Using matplotlib backend: TkAgg\n"
     ]
    }
   ],
   "source": [
    "import lmfit\n",
    "from lmfit import minimize, Parameters, fit_report\n",
    "import numpy as np\n",
    "import matplotlib as mpl\n",
    "from matplotlib import pyplot as plt\n",
    "import Analysis\n",
    "from scipy.optimize import least_squares\n",
    "%matplotlib"
   ]
  },
  {
   "cell_type": "code",
   "execution_count": 241,
   "metadata": {
    "collapsed": true
   },
   "outputs": [],
   "source": [
    "def sigmoid(x,v0):\n",
    "    return 1.0 / (1 + np.exp(np.array((-x+v0)/0.1,dtype='float')))\n",
    "\n",
    "\n",
    "def residual(params, x, y, v0, eps_data):\n",
    "\n",
    "    model_r = params[0] + params[1] * np.sin(x*params[2] + (params[3]+params[4]*np.pi)) + params[5] * (x - v0)\n",
    "    model_l = params[0] + params[1] * np.sin(x*params[2] + params[3]) + params[5] * (x - v0)\n",
    "    \n",
    "    out_r = (y-model_r)*sigmoid(x,v0)\n",
    "    out_l = (y-model_l)*(1.0-sigmoid(x,v0))\n",
    "    \n",
    "    return (out_r+out_l)/eps_data\n",
    "\n"
   ]
  },
  {
   "cell_type": "code",
   "execution_count": 5,
   "metadata": {
    "collapsed": true
   },
   "outputs": [],
   "source": [
    "def search(seq, t):  \n",
    "    min = 0\n",
    "    max = len(seq) - 1\n",
    "    while True:        \n",
    "        m = (min + max) // 2\n",
    "        if max <= min:\n",
    "            if np.abs(t-seq[m]) < np.abs(t-seq[m-1]):          \n",
    "                return m\n",
    "            else:\n",
    "                return m-1        \n",
    "        if seq[m] < t:\n",
    "            min = m + 1\n",
    "        elif seq[m] > t:\n",
    "            max = m - 1\n",
    "        else:\n",
    "            return m"
   ]
  },
  {
   "cell_type": "code",
   "execution_count": 243,
   "metadata": {
    "collapsed": true
   },
   "outputs": [],
   "source": [
    "def regression(x_min, x_max, data, loss = 'linear', eps = 0.1, plot=False, x_scale = 1.0):\n",
    "    \n",
    "    i_min = search(data.x,x_min)\n",
    "    i_max = search(data.x,x_max)+1\n",
    "    \n",
    "    if i_min < 0:\n",
    "        i_min = 0\n",
    "    if i_max > len(data.x):\n",
    "        i_max = len(data.x)\n",
    "    \n",
    "    x = data.x[i_min:i_max]\n",
    "    y = data.y[i_min:i_max]\n",
    "    \n",
    "    \n",
    "    \n",
    "    a = (np.percentile(y,99)-np.percentile(y,1))/2.0\n",
    "    \n",
    "    params = []\n",
    "    bounds = ([],[])\n",
    "    \n",
    "    h = np.mean(y)\n",
    "    params.append(h) #height\n",
    "    bounds[0].append(h*0.99)\n",
    "    bounds[1].append(h*1.01)\n",
    "    \n",
    "    params.append(a) #amplitude\n",
    "    bounds[0].append(a*0.8)\n",
    "    bounds[1].append(a*1.2)\n",
    "    \n",
    "    params.append(0.63) #frequency\n",
    "    bounds[0].append(0.6)\n",
    "    bounds[1].append(0.77)\n",
    "    \n",
    "    params.append(0.0) #phase\n",
    "    bounds[0].append(0.0)\n",
    "    bounds[1].append(2*np.pi)\n",
    "    \n",
    "    params.append(np.random.uniform(0.1,1.9)) #delta phase\n",
    "    bounds[0].append(0.0)\n",
    "    bounds[1].append(2)\n",
    "    \n",
    "    params.append(0.0) #slope\n",
    "    bounds[0].append(-0.02)\n",
    "    bounds[1].append(0.02)\n",
    "    \n",
    "    v0 = (x_min+x_max)/2.0\n",
    "    \n",
    "    out = least_squares(residual, x0 = params, bounds=bounds, loss=loss, x_scale = x_scale, args=(x , y, v0, eps))\n",
    "    \n",
    "    if plot:\n",
    "        params = out['x']\n",
    "        model_r = params[0] + params[1] * np.sin(x*params[2] + (params[3]+params[4]*np.pi)) + params[5] * (x - v0)\n",
    "        model_l = params[0] + params[1] * np.sin(x*params[2] + params[3]) + params[5] * (x - v0)\n",
    "        plt.plot(x,y)\n",
    "        plt.plot(x,model_r,c='r')\n",
    "        plt.plot(x,model_l,c='k')\n",
    "    \n",
    "    return out    "
   ]
  },
  {
   "cell_type": "code",
   "execution_count": 339,
   "metadata": {
    "collapsed": true
   },
   "outputs": [],
   "source": [
    "def multi_reg_param_ci(data, x_min, x_max, result, eps): \n",
    "    i_min = search(data.x,x_min)\n",
    "    i_max = search(data.x,x_max)+1\n",
    "\n",
    "    if i_min < 0:\n",
    "        i_min = 0\n",
    "    if i_max > len(data.x):\n",
    "        i_max = len(data.x)\n",
    "\n",
    "    N = float(i_max - i_min)\n",
    "    k = len(result.x)\n",
    "\n",
    "    x = data.x[i_min:i_max]\n",
    "    y = data.y[i_min:i_max]\n",
    "\n",
    "    v0 = (x_min+x_max)/2.0\n",
    "\n",
    "    res = result.fun*eps\n",
    "\n",
    "    sigma_r = 1/(N-k)*np.sum(res**2)\n",
    "    \n",
    "    inv_j = np.linalg.inv(np.dot(result.jac.transpose(),result.jac))\n",
    "\n",
    "    cov = sigma_r*inv_j\n",
    "    \n",
    "    return np.sqrt(np.diag(cov))"
   ]
  },
  {
   "cell_type": "code",
   "execution_count": 244,
   "metadata": {
    "collapsed": true
   },
   "outputs": [],
   "source": [
    "def multi_regression(x_min, x_max, data, n = 20, loss = 'linear', eps = 0.1, x_scale = 1.0, plot=False):\n",
    "    cost = np.inf\n",
    "    result_hold = None\n",
    "    for _ in range(n):\n",
    "        result = regression(x_min, x_max, data, loss = loss, eps = eps)\n",
    "        if result.success:\n",
    "            \n",
    "            \n",
    "            \n",
    "            \n",
    "            \n",
    "            \n",
    "            \n",
    "            \n",
    "            \n",
    "            \n",
    "            if result.cost < cost:\n",
    "                cost = result.cost\n",
    "                result_hold = result\n",
    "                \n",
    "    if plot:\n",
    "        plt.figure()\n",
    "        \n",
    "        i_min = search(data.x,x_min)\n",
    "        i_max = search(data.x,x_max)+1\n",
    "    \n",
    "        x = data.x[i_min:i_max]\n",
    "        y = data.y[i_min:i_max]\n",
    "        \n",
    "        v0 = (x_min+x_max)/2.0\n",
    "        \n",
    "        params = result_hold.x\n",
    "        model_r = params[0] + params[1] * np.sin(x*params[2] + (params[3]+params[4]*np.pi)) + params[5] * (x - v0)\n",
    "        model_l = params[0] + params[1] * np.sin(x*params[2] + params[3]) + params[5] * (x - v0)\n",
    "        plt.plot(x,y)\n",
    "        plt.plot(x,model_r,c='r')\n",
    "        plt.plot(x,model_l,c='k')\n",
    "    return result_hold"
   ]
  },
  {
   "cell_type": "code",
   "execution_count": 335,
   "metadata": {
    "collapsed": true
   },
   "outputs": [],
   "source": [
    "def sweep_regression(data, d = 6.0, c = 20, n = 20, loss = 'linear', eps = 0.1, x_scale = 1.0, plot=False):\n",
    "    out = list()\n",
    "    x_max = max(data.x)\n",
    "    x_min = min(data.x)\n",
    "    step = (x_max-x_min-2*d)/c\n",
    "    for i in range(c):\n",
    "        center = x_min + d +  i*step\n",
    "        low = center - d\n",
    "        high = center + d\n",
    "        result = multi_regression(low, high, data, n, loss = loss, eps = eps, x_scale = x_scale, plot = plot)\n",
    "        \n",
    "        res_dict = {'result':result, 'x_min':low, 'x_max':high, 'eps':eps}\n",
    "        r_2 = r_squared(data,res_dict)\n",
    "        res_dict['r_2'] = r_2\n",
    "        \n",
    "        out.append(res_dict)\n",
    "    return out\n",
    "    "
   ]
  },
  {
   "cell_type": "code",
   "execution_count": 103,
   "metadata": {
    "collapsed": true
   },
   "outputs": [],
   "source": [
    "def run_regression(data, d = 6.0, c = 20, n = 20, loss = 'linear', eps = 0.01, x_scale = 1.0, plot=False):\n",
    "    count = 0\n",
    "    out = []\n",
    "    for i in data:\n",
    "        print('Running sweep ' + str(count))\n",
    "        out.append(sweep_regression(i, d = d, c = c, n=n, eps = eps, x_scale = x_scale, loss = loss, plot = plot))\n",
    "        count += 1\n",
    "    return out"
   ]
  },
  {
   "cell_type": "code",
   "execution_count": 337,
   "metadata": {
    "collapsed": true
   },
   "outputs": [],
   "source": [
    "def param_ci(data,result):\n",
    "    x_min = result['x_min']\n",
    "    x_max = result['x_max']\n",
    "    i_min = search(data.x,x_min)\n",
    "    i_max = search(data.x,x_max)+1\n",
    "\n",
    "    if i_min < 0:\n",
    "        i_min = 0\n",
    "    if i_max > len(data.x):\n",
    "        i_max = len(data.x)\n",
    "\n",
    "    N = float(i_max - i_min)\n",
    "    k = len(result['result'].x)\n",
    "\n",
    "    x = data.x[i_min:i_max]\n",
    "    y = data.y[i_min:i_max]\n",
    "\n",
    "    v0 = (x_min+x_max)/2.0\n",
    "\n",
    "    res = result['result'].fun*result['eps']\n",
    "\n",
    "    sigma_r = 1/(N-k)*np.sum(res**2)\n",
    "    \n",
    "    inv_j = np.linalg.inv(np.dot(result['result'].jac.transpose(),result['result'].jac))\n",
    "\n",
    "    cov = sigma_r*inv_j\n",
    "    \n",
    "    return np.sqrt(np.diag(cov))\n",
    "    \n"
   ]
  },
  {
   "cell_type": "code",
   "execution_count": 245,
   "metadata": {
    "collapsed": true
   },
   "outputs": [],
   "source": [
    "def plot(data,result):\n",
    "    x_min = result['x_min']\n",
    "    x_max = result['x_max']\n",
    "    i_min = search(data.x,x_min)\n",
    "    i_max = search(data.x,x_max)+1\n",
    "\n",
    "    x = data.x[i_min:i_max]\n",
    "    y = data.y[i_min:i_max]\n",
    "\n",
    "    v0 = (x_min+x_max)/2.0\n",
    "\n",
    "    params = result['result'].x\n",
    "    model_r = params[0] + params[1] * np.sin(x*params[2] + (params[3]+params[4]*np.pi)) + params[5] * (x - v0)\n",
    "    model_l = params[0] + params[1] * np.sin(x*params[2] + params[3]) + params[5] * (x - v0)\n",
    "    plt.plot(x,y)\n",
    "    plt.plot(x,model_r,c='r')\n",
    "    plt.plot(x,model_l,c='k')"
   ]
  },
  {
   "cell_type": "code",
   "execution_count": 336,
   "metadata": {
    "collapsed": true
   },
   "outputs": [],
   "source": [
    "def r_squared(data,result):\n",
    "    x_min = result['x_min']\n",
    "    x_max = result['x_max']\n",
    "    i_min = search(data.x,x_min)\n",
    "    i_max = search(data.x,x_max)+1\n",
    "    \n",
    "    if i_min < 0:\n",
    "        i_min = 0\n",
    "    if i_max > len(data.x):\n",
    "        i_max = len(data.x)\n",
    "\n",
    "    x = data.x[i_min:i_max]\n",
    "    y = data.y[i_min:i_max]\n",
    "\n",
    "    v0 = (x_min+x_max)/2.0\n",
    "    \n",
    "    res = result['result'].fun*result['eps']\n",
    "    SSres = np.sum(res*res)\n",
    "    \n",
    "    ybar = np.mean(y)\n",
    "    \n",
    "    SStot = np.sum((y-ybar)**2)\n",
    "\n",
    "    return 1 - SSres/SStot"
   ]
  },
  {
   "cell_type": "code",
   "execution_count": 11,
   "metadata": {
    "collapsed": true
   },
   "outputs": [],
   "source": [
    "run = Analysis.generate_2014()"
   ]
  },
  {
   "cell_type": "code",
   "execution_count": 24,
   "metadata": {},
   "outputs": [],
   "source": [
    "test = regression(-19.5464, -8.39718,run.prune_data[0],eps = 1.0, plot = True)"
   ]
  },
  {
   "cell_type": "code",
   "execution_count": 64,
   "metadata": {},
   "outputs": [],
   "source": [
    "test_multi = multi_regression(-19.5464, -8.39718, run.prune_data[0], eps = 0.01, plot = True, x_scale = [10.0,0.1,0.1,1.0,1.0,1.0], loss = 'huber')"
   ]
  },
  {
   "cell_type": "code",
   "execution_count": 117,
   "metadata": {},
   "outputs": [],
   "source": [
    "test_sweep_reg = sweep_regression(run.prune_data[0], d = 4.5, c = 50, eps = 0.01, x_scale = [10.0,0.1,0.1,1.0,1.0,1.0], loss = 'huber')"
   ]
  },
  {
   "cell_type": "code",
   "execution_count": 246,
   "metadata": {},
   "outputs": [
    {
     "name": "stdout",
     "output_type": "stream",
     "text": [
      "Running sweep 0\n",
      "Running sweep 1\n",
      "Running sweep 2\n",
      "Running sweep 3\n",
      "Running sweep 4\n",
      "Running sweep 5\n",
      "Running sweep 6\n",
      "Running sweep 7\n",
      "Running sweep 8\n",
      "Running sweep 9\n",
      "Running sweep 10\n",
      "Running sweep 11\n",
      "Running sweep 12\n",
      "Running sweep 13\n",
      "Running sweep 14\n"
     ]
    }
   ],
   "source": [
    "test_run_reg = run_regression(run.prune_data, d = 4.5, c = 50, eps = 0.01, x_scale = [10.0,0.1,0.1,1.0,1.0,1.0], loss = 'huber')"
   ]
  },
  {
   "cell_type": "code",
   "execution_count": 247,
   "metadata": {},
   "outputs": [],
   "source": [
    "filenum = 0\n",
    "t = test_run_reg[filenum]\n",
    "count = 0\n",
    "for i in t:\n",
    "    if i['r_2'] > 0.80 and 0.1 < i['result'].x[4] < 1.9:\n",
    "        plt.figure()\n",
    "        plot(run.prune_data[filenum],i)\n",
    "        plt.title(str(count) + ', '+ str(i['r_2']) + ', '+ str(i['result'].x[4]))\n",
    "    count += 1"
   ]
  },
  {
   "cell_type": "code",
   "execution_count": 236,
   "metadata": {
    "collapsed": true
   },
   "outputs": [],
   "source": [
    "test_sweep_reg = sweep_regression(run.prune_data[filenum], d = 2.5, c = 50, eps = 0.01, x_scale = [10.0,0.1,0.1,1.0,1.0,1.0], loss = 'huber')"
   ]
  },
  {
   "cell_type": "code",
   "execution_count": 237,
   "metadata": {
    "collapsed": true
   },
   "outputs": [],
   "source": [
    "count = 0\n",
    "for i in test_sweep_reg:\n",
    "    if i['r_2'] > 0.80 and 0.1 < i['result'].x[4] < 1.9:\n",
    "        plt.figure()\n",
    "        plot(run.prune_data[filenum],i)\n",
    "        plt.title(str(count) + ', '+ str(i['r_2']) + ', '+ str(i['result'].x[4]))\n",
    "    count += 1"
   ]
  },
  {
   "cell_type": "code",
   "execution_count": 150,
   "metadata": {
    "collapsed": true
   },
   "outputs": [],
   "source": [
    "for i in test_sweep_reg:\n",
    "\n",
    "    plt.figure()\n",
    "    plot(run.prune_data[filenum],i)"
   ]
  },
  {
   "cell_type": "code",
   "execution_count": 215,
   "metadata": {},
   "outputs": [
    {
     "name": "stdout",
     "output_type": "stream",
     "text": [
      "0.647814567513\n",
      "0.422638938379\n",
      "0.76976327421\n",
      "0.759036992857\n",
      "0.797299671867\n"
     ]
    }
   ],
   "source": [
    "for i in test_sweep_reg[45:]:\n",
    "    print(i['r_2'])\n",
    "    plt.figure()\n",
    "    plot(run.prune_data[filenum],i)\n",
    "    "
   ]
  },
  {
   "cell_type": "code",
   "execution_count": 228,
   "metadata": {},
   "outputs": [],
   "source": [
    "filenum = 4\n",
    "t = test_run_reg[filenum]\n",
    "count = 0\n",
    "for i in t:\n",
    "    if i['r_2'] > 0.90 and 0.1 < i['result'].x[4] < 1.9:\n",
    "        plt.figure()\n",
    "        plot(run.prune_data[filenum],i)\n",
    "        plt.title(str(count) + ', '+ str(i['r_2']) + ', '+ str(i['result'].x[4]))\n",
    "    count += 1"
   ]
  },
  {
   "cell_type": "code",
   "execution_count": 235,
   "metadata": {},
   "outputs": [
    {
     "name": "stdout",
     "output_type": "stream",
     "text": [
      "0.928063299689\n",
      "0.823118878632\n"
     ]
    }
   ],
   "source": [
    "for i in [t[12],t[34]]:\n",
    "    print(i['r_2'])\n",
    "    plt.figure()\n",
    "    plot(run.prune_data[filenum],i)\n",
    "    "
   ]
  },
  {
   "cell_type": "code",
   "execution_count": 230,
   "metadata": {},
   "outputs": [],
   "source": [
    "plot(run.prune_data[filenum],t[34])"
   ]
  },
  {
   "cell_type": "code",
   "execution_count": 300,
   "metadata": {},
   "outputs": [
    {
     "data": {
      "text/plain": [
       "{'r_2': 0.76307924499903679,\n",
       " 'result':  active_mask: array([-1,  0,  1,  0,  0,  0])\n",
       "        cost: 12233.957680301193\n",
       "         fun: array([-11.75794639, -11.07212278, -12.70640812, ...,  -3.05563954,\n",
       "        -3.21033859,  -3.13840104])\n",
       "        grad: array([  3.46181664e+04,  -1.55140544e-04,  -1.82060641e+04,\n",
       "         2.28175949e-04,   5.86811776e-04,  -8.40815619e-04])\n",
       "         jac: array([[ -1.49011612e-06,  -8.85021834e-08,   7.20922468e-06,\n",
       "         -3.57261787e-07,   0.00000000e+00,   6.70622704e-06],\n",
       "       [ -1.49011612e-06,  -9.05522768e-08,   7.20798727e-06,\n",
       "         -3.57232132e-07,   0.00000000e+00,   6.70355966e-06],\n",
       "       [ -1.49011612e-06,  -9.22701915e-08,   7.20693976e-06,\n",
       "         -3.57206755e-07,   0.00000000e+00,   6.70132447e-06],\n",
       "       ..., \n",
       "       [ -1.49011612e-06,  -7.69185604e-08,  -3.99636626e-06,\n",
       "          3.57416450e-07,   1.12285683e-06,  -6.70161420e-06],\n",
       "       [ -1.49011612e-06,  -7.53029639e-08,  -3.99608417e-06,\n",
       "          3.57436259e-07,   1.12291918e-06,  -6.70371527e-06],\n",
       "       [ -1.49011612e-06,  -7.31368743e-08,  -3.99569871e-06,\n",
       "          3.57462281e-07,   1.12300071e-06,  -6.70653169e-06]])\n",
       "     message: '`ftol` termination condition is satisfied.'\n",
       "        nfev: 14\n",
       "        njev: 14\n",
       "  optimality: 0.00069159488508304973\n",
       "      status: 2\n",
       "     success: True\n",
       "           x: array([ 11.40374688,   0.24017831,   0.77      ,   3.03097188,\n",
       "         0.7592848 ,  -0.01595755]),\n",
       " 'x_max': -11.178637199999999,\n",
       " 'x_min': -20.178637199999997}"
      ]
     },
     "execution_count": 300,
     "metadata": {},
     "output_type": "execute_result"
    }
   ],
   "source": [
    "t[30]"
   ]
  },
  {
   "cell_type": "code",
   "execution_count": 281,
   "metadata": {},
   "outputs": [],
   "source": [
    "inv_j = np.linalg.inv(np.dot(t[32]['result'].jac.transpose(),t[32]['result'].jac))"
   ]
  },
  {
   "cell_type": "code",
   "execution_count": 267,
   "metadata": {},
   "outputs": [
    {
     "data": {
      "text/plain": [
       "array([[  1.14659368e+01],\n",
       "       [  2.17644378e-01],\n",
       "       [  7.25759100e-01],\n",
       "       [  2.61975696e+00],\n",
       "       [  8.99411725e-01],\n",
       "       [ -6.36545487e-03]])"
      ]
     },
     "execution_count": 267,
     "metadata": {},
     "output_type": "execute_result"
    }
   ],
   "source": [
    "t[32]['result'].x.reshape(-1,1)"
   ]
  },
  {
   "cell_type": "code",
   "execution_count": 323,
   "metadata": {},
   "outputs": [
    {
     "data": {
      "text/plain": [
       "[<matplotlib.lines.Line2D at 0x2863deb8>]"
      ]
     },
     "execution_count": 323,
     "metadata": {},
     "output_type": "execute_result"
    }
   ],
   "source": [
    "hold = list()\n",
    "for i in t:\n",
    "    hold.append(param_ci(run.prune_data[filenum],i))\n",
    "    \n",
    "hold = np.array(hold)\n",
    "plt.plot(hold[:,4])"
   ]
  },
  {
   "cell_type": "code",
   "execution_count": 331,
   "metadata": {},
   "outputs": [],
   "source": [
    "plot(run.prune_data[0],t[32])"
   ]
  },
  {
   "cell_type": "code",
   "execution_count": 328,
   "metadata": {},
   "outputs": [],
   "source": [
    "data = run.prune_data[filenum]\n",
    "result = t[32]\n",
    "\n",
    "x_min = result['x_min']\n",
    "x_max = result['x_max']\n",
    "i_min = search(data.x,x_min)\n",
    "i_max = search(data.x,x_max)+1\n",
    "\n",
    "x = data.x[i_min:i_max]\n",
    "y = data.y[i_min:i_max]"
   ]
  },
  {
   "cell_type": "code",
   "execution_count": 329,
   "metadata": {},
   "outputs": [
    {
     "data": {
      "text/plain": [
       "[<matplotlib.lines.Line2D at 0x268c8f28>]"
      ]
     },
     "execution_count": 329,
     "metadata": {},
     "output_type": "execute_result"
    }
   ],
   "source": [
    "plt.plot(x,y-result['result'].fun)"
   ]
  },
  {
   "cell_type": "code",
   "execution_count": 327,
   "metadata": {},
   "outputs": [
    {
     "data": {
      "text/plain": [
       "<matplotlib.figure.Figure at 0x28b53710>"
      ]
     },
     "execution_count": 327,
     "metadata": {},
     "output_type": "execute_result"
    }
   ],
   "source": [
    "plt.figure()"
   ]
  },
  {
   "cell_type": "code",
   "execution_count": 334,
   "metadata": {},
   "outputs": [
    {
     "data": {
      "text/plain": [
       "[<matplotlib.lines.Line2D at 0x2f1cf390>]"
      ]
     },
     "execution_count": 334,
     "metadata": {},
     "output_type": "execute_result"
    }
   ],
   "source": [
    "plt.plot(x,result['result'].fun*0.01)"
   ]
  },
  {
   "cell_type": "code",
   "execution_count": null,
   "metadata": {
    "collapsed": true
   },
   "outputs": [],
   "source": []
  }
 ],
 "metadata": {
  "kernelspec": {
   "display_name": "Python 2",
   "language": "python",
   "name": "python2"
  },
  "language_info": {
   "codemirror_mode": {
    "name": "ipython",
    "version": 2
   },
   "file_extension": ".py",
   "mimetype": "text/x-python",
   "name": "python",
   "nbconvert_exporter": "python",
   "pygments_lexer": "ipython2",
   "version": "2.7.10"
  }
 },
 "nbformat": 4,
 "nbformat_minor": 2
}

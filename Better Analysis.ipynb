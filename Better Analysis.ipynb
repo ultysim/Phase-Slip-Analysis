{
 "cells": [
  {
   "cell_type": "code",
   "execution_count": 2,
   "metadata": {
    "collapsed": false
   },
   "outputs": [],
   "source": [
    "import numpy as np\n",
    "import CompleteHist as ch\n",
    "import matplotlib as mpl\n",
    "from matplotlib import pyplot as plt\n",
    "from scipy.optimize import leastsq\n",
    "from sklearn.cross_validation import KFold\n",
    "from sklearn import cross_validation\n",
    "%matplotlib inline"
   ]
  },
  {
   "cell_type": "code",
   "execution_count": 3,
   "metadata": {
    "collapsed": false
   },
   "outputs": [],
   "source": [
    "ch.parseData()\n",
    "ch.parsePrune('soft')"
   ]
  },
  {
   "cell_type": "code",
   "execution_count": 4,
   "metadata": {
    "collapsed": false
   },
   "outputs": [],
   "source": [
    "prune = ch.getPrune()\n",
    "raw = ch.getData()"
   ]
  },
  {
   "cell_type": "code",
   "execution_count": 5,
   "metadata": {
    "collapsed": true
   },
   "outputs": [],
   "source": [
    "def smooth(data,const=0.04,n=25):\n",
    "    out = list()\n",
    "    for i in range(n,len(data[1])-n):\n",
    "        temp = list()\n",
    "        y = data[1][i]\n",
    "        for j in data[1][i-n:i+n]:\n",
    "            if np.abs(j-y) < const:\n",
    "                temp.append(j)\n",
    "        if len(temp) > 0:\n",
    "            out.append(np.mean(temp))\n",
    "    return np.array([np.array(data[0][n:len(data[0])-n]),np.array(out)])"
   ]
  },
  {
   "cell_type": "code",
   "execution_count": 6,
   "metadata": {
    "collapsed": true
   },
   "outputs": [],
   "source": [
    "def clean(data):\n",
    "    left = min(data[0])\n",
    "    right = max(data[0])\n",
    "    left += 0.1\n",
    "    right -= 0.1\n",
    "    left = ch.search(data,left)\n",
    "    right = ch.search(data,right)\n",
    "    return np.array([np.array(data[0][left:right]),np.array(data[1][left:right])])"
   ]
  },
  {
   "cell_type": "code",
   "execution_count": 7,
   "metadata": {
    "collapsed": true
   },
   "outputs": [],
   "source": [
    "def nospike(data,const=0.03,n=4):\n",
    "    outy = list()\n",
    "    outx = list()\n",
    "    for i in range(n,len(data[1])-n):\n",
    "        temp = list()\n",
    "        y = data[1][i]\n",
    "        x = data[0][i]\n",
    "        for j in data[1][i-n:i+n]:\n",
    "            if not j==y:\n",
    "                temp.append(j)\n",
    "        avg = np.mean(temp)\n",
    "        if np.abs(y-avg) < const:\n",
    "            outy.append(y)\n",
    "            outx.append(x)\n",
    "    return np.array([np.array(outx),np.array(outy)])"
   ]
  },
  {
   "cell_type": "code",
   "execution_count": 8,
   "metadata": {
    "collapsed": true
   },
   "outputs": [],
   "source": [
    "def cutData(data,points):\n",
    "    outx = list()\n",
    "    outy = list()\n",
    "    for i in points:\n",
    "        l = ch.search(data,i[0])\n",
    "        r = ch.search(data,i[1]) + 1\n",
    "        outx.extend(data[0][l:r])\n",
    "        outy.extend(data[1][l:r])\n",
    "    return np.array([np.array(outx),np.array(outy)])"
   ]
  },
  {
   "cell_type": "code",
   "execution_count": 9,
   "metadata": {
    "collapsed": false
   },
   "outputs": [],
   "source": [
    "def val(data):\n",
    "    h = np.mean(data[1]) + np.random.rand()\n",
    "    a = (np.std(data[1]) + np.random.rand())/10.0\n",
    "    f = 2*np.pi/7.0\n",
    "    val = [h,a,f,np.random.rand(),np.random.rand()+1.33]\n",
    "    return val"
   ]
  },
  {
   "cell_type": "code",
   "execution_count": 10,
   "metadata": {
    "collapsed": false
   },
   "outputs": [],
   "source": [
    "def zeromean(data):\n",
    "    out = np.array(data[1]-np.mean(data[1]))\n",
    "    return np.array([data[0],out])"
   ]
  },
  {
   "cell_type": "code",
   "execution_count": 11,
   "metadata": {
    "collapsed": false
   },
   "outputs": [],
   "source": [
    "def plotFig(data,fitbit,left=0,right=0):\n",
    "    xa = fitbit\n",
    "    freq = xa[2]\n",
    "    amp = xa[1] \n",
    "    phasel = xa[3]*np.pi\n",
    "    phaser = xa[4]*np.pi\n",
    "    height =  xa[0]\n",
    "    if left == 0:\n",
    "        posleft = data[0][0]\n",
    "    else:\n",
    "        posleft = left\n",
    "    if right == 0:\n",
    "        posright = data[0][-1]\n",
    "    else:\n",
    "        posright = right\n",
    "    xpos = np.linspace(posleft,posright,10000)\n",
    "    ytargl = height + amp*np.sin(freq*xpos + phasel)\n",
    "    ytargr = height + amp*np.sin(freq*xpos + phaser)\n",
    "    plt.plot(data[0],data[1])\n",
    "    plt.plot(xpos,ytargl,'k',linewidth=2)\n",
    "    if phaser != 0:\n",
    "        plt.plot(xpos,ytargr,'r',linewidth=2)"
   ]
  },
  {
   "cell_type": "code",
   "execution_count": 12,
   "metadata": {
    "collapsed": true
   },
   "outputs": [],
   "source": [
    "def fit(data):\n",
    "    c = clean(data)\n",
    "    s = smooth(c)\n",
    "    zm = zeromean(s)\n",
    "    v = val(zm)\n",
    "    def f(vars,data):\n",
    "        x = np.array(data[0])\n",
    "        yaxis = np.array(data[1])       \n",
    "        a = vars[0]\n",
    "        f = vars[1]\n",
    "        pl = vars[2]\n",
    "        pr = vars[3]\n",
    "        midpoint = len(x)/2\n",
    "        ol = int(len(x)*0.10)\n",
    "        lw = np.zeros(len(x))\n",
    "        lw[:midpoint] = 1.0\n",
    "        lw[midpoint:midpoint+ol] = np.arange(0,1,1.0/(ol))[::-1]\n",
    "        rw = np.zeros(len(x))\n",
    "        rw[midpoint:] = 1.0\n",
    "        rw[midpoint-ol:midpoint] = np.arange(0,1,1.0/(ol))\n",
    "        model = (a*lw*np.sin(f*x+pl*np.pi)+a*rw*np.sin(f*x+pr*np.pi))\n",
    "        return (yaxis-model)\n",
    "    result = leastsq(f, v, args=(test))\n",
    "    print result[1]\n",
    "    a = result[0]\n",
    "    return a"
   ]
  },
  {
   "cell_type": "code",
   "execution_count": 13,
   "metadata": {
    "collapsed": false
   },
   "outputs": [],
   "source": [
    "def minfit(data,i=0.13):\n",
    "    def f(vars,data,i):\n",
    "        x = np.array(data[0])\n",
    "        yaxis = np.array(data[1])\n",
    "        h = vars[0]\n",
    "        a = vars[1]\n",
    "        f = vars[2]\n",
    "        pl = vars[3]\n",
    "        pr = vars[4]\n",
    "        midpoint = len(x)/2\n",
    "        ol = int(len(x)*i)\n",
    "        lw = np.zeros(len(x))\n",
    "        lw[:midpoint] = 1.0\n",
    "        for j in range(ol):\n",
    "            lw[midpoint+j] = 1.0-float(j/ol)\n",
    "        rw = np.zeros(len(x))\n",
    "        rw[midpoint:] = 1.0\n",
    "        for j in range(ol):\n",
    "            rw[midpoint-j] = 1.0-float(j/ol)\n",
    "        model = (h + a*lw*np.sin(f*x+pl*np.pi)+a*rw*np.sin(f*x+(pr)*np.pi))\n",
    "        return sum(((yaxis-model))**2)\n",
    "    hold = list()\n",
    "    cost = 10000\n",
    "    for j in range(1,10):\n",
    "        v = val(data)\n",
    "        result = minimize(f, v, args=(data,i),method='nelder-mead',options={'xtol': 1e-9})\n",
    "        if result['fun'] < cost:\n",
    "            hold = result['x']\n",
    "            cost = result['fun']\n",
    "        print \"Subrun: \" + str(j)\n",
    "    return hold,cost"
   ]
  },
  {
   "cell_type": "code",
   "execution_count": 14,
   "metadata": {
    "collapsed": true
   },
   "outputs": [],
   "source": [
    "def sectiondata(data,dV=7.0,n=20):\n",
    "    zm = zeromean(smooth(clean(data)))\n",
    "    xmin = zm[0][0]\n",
    "    xmax = zm[0][-1]\n",
    "    step = (xmax-xmin)/n\n",
    "    cstep = xmin\n",
    "    out = list()\n",
    "    while cstep<xmax:\n",
    "        if cstep-dV/2.0 < xmin:\n",
    "            xl = xmin\n",
    "        else:\n",
    "            xl = cstep-dV/2.0\n",
    "        if cstep+dV/2.0 > xmax:\n",
    "            xr = xmax\n",
    "        else:\n",
    "            xr = cstep+dV/2.0\n",
    "        li = ch.search(zm,xl)\n",
    "        ri = ch.search(zm,xr)\n",
    "        out.append([xl,xr,np.array(zm[:,li:ri])])\n",
    "        cstep += step\n",
    "    return out"
   ]
  },
  {
   "cell_type": "code",
   "execution_count": 16,
   "metadata": {
    "collapsed": false
   },
   "outputs": [],
   "source": [
    "def plotFit(data,mf):\n",
    "    data = zeromean(smooth(clean(data)))\n",
    "    plotFig(data,mf[2],mf[0],mf[1])"
   ]
  },
  {
   "cell_type": "code",
   "execution_count": 17,
   "metadata": {
    "collapsed": false
   },
   "outputs": [],
   "source": [
    "def findedge(data,d=0.04,n=5):\n",
    "    out = list()\n",
    "    y = data[1]\n",
    "    for i in range(n,len(y)-n):\n",
    "        if np.abs(np.mean(y[i-n:i+1])-np.mean(y[i+1:i+n+1]))>d:\n",
    "            out.append(i)\n",
    "    return out\n",
    "def pickedge(data,d=0.04,n=5):\n",
    "    fe = findedge(data,d,n)\n",
    "    out = list()\n",
    "    y = data[1]\n",
    "    x = data[0]\n",
    "    i = 0\n",
    "    while i < len(fe):\n",
    "        temp = list()\n",
    "        temp.append(fe[i])\n",
    "        j = 1\n",
    "        while True:\n",
    "            if (i+j) >= len(fe):\n",
    "                if len(temp)==1:\n",
    "                    out.append(temp[len(temp)/2])\n",
    "                    break\n",
    "                else:\n",
    "                    out.append(temp[len(temp)/2])\n",
    "                    break\n",
    "            if np.abs(y[fe[i]]-y[fe[i+j]])<0.06 and np.abs(x[fe[i]]-x[fe[i+j]])<0.03:\n",
    "                temp.append(fe[i+j])\n",
    "                j += 1\n",
    "            else:\n",
    "                if len(temp)==1:\n",
    "                    out.append(temp[0])\n",
    "                    break\n",
    "                else:\n",
    "                    out.append(temp[len(temp)/2])\n",
    "                    break\n",
    "        i += j\n",
    "    return out\n",
    "def selectedge(data,d=0.04,n=5):\n",
    "    pe = pickedge(data,d,n)\n",
    "    y = data[1]\n",
    "    x = data[0]\n",
    "    out = list()\n",
    "    out.append([0,pe[0]])\n",
    "    for i in range(len(pe)-1):\n",
    "        if np.abs(y[pe[i]+1]-y[pe[i+1]-1]) < 0.06:\n",
    "            out.append([pe[i],pe[i+1]])\n",
    "    return out\n",
    "def smoothedge(data,d=0.04,n=5):\n",
    "    se = selectedge(data,d,n)\n",
    "    out = np.array(data)\n",
    "    for i in se:\n",
    "        if i[1]-i[0]>10:\n",
    "            clip = data[1][i[0]:i[1]]\n",
    "            hold = list()\n",
    "            for j in range(len(clip)):\n",
    "                if j > 5 and j < len(clip)-5:\n",
    "                    hold.append(np.mean(clip[j-5:j+6]))\n",
    "                elif j <= 5:\n",
    "                    hold.append(np.mean(clip[j:j+6]))\n",
    "                elif j >= len(clip)-5:\n",
    "                    hold.append(np.mean(clip[j-5:j+1]))\n",
    "            out[1][i[0]:i[1]] = np.array(hold)\n",
    "    return out"
   ]
  },
  {
   "cell_type": "code",
   "execution_count": 20,
   "metadata": {
    "collapsed": false
   },
   "outputs": [],
   "source": [
    "c = clean(prune[0])\n",
    "fe = findedge(c,d=0.09)\n",
    "pe = pickedge(c)\n",
    "xx = [c[0,i] for i in fe]\n",
    "yx = [c[1,i] for i in fe]\n",
    "xxx = [c[0,i] for i in pe]\n",
    "yxx = [c[1,i] for i in pe]"
   ]
  },
  {
   "cell_type": "code",
   "execution_count": 21,
   "metadata": {
    "collapsed": false
   },
   "outputs": [],
   "source": [
    "se = selectedge(c)"
   ]
  },
  {
   "cell_type": "code",
   "execution_count": 22,
   "metadata": {
    "collapsed": false
   },
   "outputs": [],
   "source": [
    "se = smoothedge(prune[0])"
   ]
  },
  {
   "cell_type": "code",
   "execution_count": 18,
   "metadata": {
    "collapsed": false
   },
   "outputs": [],
   "source": [
    "def normdata(data):\n",
    "    data = np.array(data)\n",
    "    mu = np.mean(data[1])\n",
    "    data[1] -= mu\n",
    "    sigma = np.std(data[1])\n",
    "    data[1] /= sigma\n",
    "    return data, mu, sigma"
   ]
  },
  {
   "cell_type": "code",
   "execution_count": 19,
   "metadata": {
    "collapsed": false
   },
   "outputs": [],
   "source": [
    "def step(data,direction):\n",
    "    l = len(data[0])\n",
    "    out = list()\n",
    "    mid = data[0][l/2]\n",
    "    if direction == 'left':\n",
    "        for x in data[0]:\n",
    "            if x > mid: \n",
    "                if np.exp((mid-x)/.5) > 0.10:\n",
    "                    out.append(np.exp((mid-x)/.5))\n",
    "                else:\n",
    "                    out.append(0.0)\n",
    "            else:\n",
    "                out.append(1.0)\n",
    "    else:\n",
    "        for x in data[0]:\n",
    "            if x < mid:\n",
    "                if np.exp((x-mid)/.5) > 0.10:\n",
    "                    out.append(np.exp((x-mid)/.5))\n",
    "                else:\n",
    "                    out.append(0.0)\n",
    "            else:\n",
    "                out.append(1.0)\n",
    "    return np.array(out)"
   ]
  },
  {
   "cell_type": "code",
   "execution_count": 20,
   "metadata": {
    "collapsed": false
   },
   "outputs": [],
   "source": [
    "def gradientdesc(data,val,left,right,alpha=0.1,lam=1.0):\n",
    "    y = np.array(data[1])\n",
    "    x = np.array(data[0])\n",
    "    l = float(len(data[1]))\n",
    "    h = val[0]\n",
    "    a = val[1]\n",
    "    f = val[2]\n",
    "    pl = val[3]\n",
    "    pr = val[4]\n",
    "    funl = (h+a*np.sin(f*x+pl*np.pi))\n",
    "    funr = (h+a*np.sin(f*x+pr*np.pi))\n",
    "    dh = lam*1.0/l*np.sum((-y+funl)*left+(funr-y)*right)\n",
    "    da = lam*1.0/l*np.sum(((-y+funl)*left+(funr-y)*right)*(np.sin(f*x+pl*np.pi)*left+np.sin(f*x+pr*np.pi)*right))+alpha/l*a\n",
    "    df = lam*1.0/l*np.sum(((-y+funl)*left+(funr-y)*right)*(a*np.cos(f*x+pl*np.pi)*x*left+a*np.cos(f*x+pr*np.pi)*x*right))+alpha/l*f\n",
    "    dpl = lam*1.0/l*np.sum(((-y+funl)*left+(funr-y)*right)*(a*np.cos(f*x+pl*np.pi)*np.pi*left))+alpha/l*pl\n",
    "    dpr = lam*1.0/l*np.sum(((-y+funl)*left+(funr-y)*right)*(a*np.cos(f*x+pr*np.pi)*np.pi*right))+alpha/l*pr\n",
    "    h -= dh\n",
    "    a -= da\n",
    "    f -= df\n",
    "    pl -= dpl\n",
    "    pr -= dpr\n",
    "    return [h,a,f,pl,pr]"
   ]
  },
  {
   "cell_type": "code",
   "execution_count": 21,
   "metadata": {
    "collapsed": true
   },
   "outputs": [],
   "source": [
    "def fitval(data,n=200,alpha=1.0,lam=1.0):\n",
    "    v = val(data)\n",
    "    left = step(data,'left')\n",
    "    right = step(data,'right')\n",
    "    for i in range(n):\n",
    "        v = gradientdesc(data,v,left,right,alpha,lam)\n",
    "    return v"
   ]
  },
  {
   "cell_type": "code",
   "execution_count": 22,
   "metadata": {
    "collapsed": true
   },
   "outputs": [],
   "source": [
    "def crossval(data,n=200,alpha=0.5,lam=1.0,k=10):\n",
    "    kf = KFold(len(data[0]),n_folds=k)\n",
    "    cost = list()\n",
    "    for train, test in kf:\n",
    "        train, test = data[:,train], data[:,test]\n",
    "        val = fitval(train,n,alpha,lam)\n",
    "        left = step(test,'left')\n",
    "        right = step(test,'right')\n",
    "        y = np.array(test[1])\n",
    "        x = np.array(test[0])\n",
    "        h = val[0]\n",
    "        a = val[1]\n",
    "        f = val[2]\n",
    "        pl = val[3]\n",
    "        pr = val[4]\n",
    "        cost.append(np.sum((y-(h+a*np.sin(f*x+pl*np.pi))*left-(h+a*np.sin(f*x+pr*np.pi))*right)**2))\n",
    "    return val,np.mean(cost)"
   ]
  },
  {
   "cell_type": "code",
   "execution_count": 23,
   "metadata": {
    "collapsed": false
   },
   "outputs": [],
   "source": [
    "def shuffsplit(data,n=200,alpha=0.5,lam=1.0,k=10):\n",
    "    kf = cross_validation.ShuffleSplit(len(data[1]), n_iter=10,test_size=.35)\n",
    "    cost = list()\n",
    "    for train, test in kf:\n",
    "        train, test = data[:,train], data[:,test]\n",
    "        val = fitval(train,n,alpha,lam)\n",
    "        left = step(test,'left')\n",
    "        right = step(test,'right')\n",
    "        y = np.array(test[1])\n",
    "        x = np.array(test[0])\n",
    "        h = val[0]\n",
    "        a = val[1]\n",
    "        f = val[2]\n",
    "        pl = val[3]\n",
    "        pr = val[4]\n",
    "        cost.append(np.sum((y-(h+a*np.sin(f*x+pl*np.pi))*left-(h+a*np.sin(f*x+pr*np.pi))*right)**2))\n",
    "    return val,np.mean(cost)"
   ]
  },
  {
   "cell_type": "code",
   "execution_count": 85,
   "metadata": {
    "collapsed": false
   },
   "outputs": [
    {
     "name": "stdout",
     "output_type": "stream",
     "text": [
      "Running\n",
      "Running\n",
      "Running\n",
      "Running\n",
      "Running\n",
      "Running\n",
      "Running\n",
      "Running\n",
      "Running\n",
      "Running\n"
     ]
    }
   ],
   "source": [
    "cost = np.inf\n",
    "d = prune[1][:,1294:4552]\n",
    "d,m,s = normdata(d)\n",
    "a = 0\n",
    "lam = 0\n",
    "params = list()\n",
    "for i in [3,1,.3,.1]:\n",
    "    print \"Running\"\n",
    "    for k in [3,1,.3,.1]:\n",
    "        for j in range(10):\n",
    "            v,c = crossval(d,n=130,alpha=i,lam=k)\n",
    "            if c < cost:\n",
    "                cost = c\n",
    "                params = v\n",
    "                a = i\n",
    "                lam = k"
   ]
  },
  {
   "cell_type": "code",
   "execution_count": 139,
   "metadata": {
    "collapsed": false
   },
   "outputs": [
    {
     "name": "stdout",
     "output_type": "stream",
     "text": [
      "Running\n",
      "Running\n",
      "Running\n",
      "Running\n"
     ]
    }
   ],
   "source": [
    "cost = np.inf\n",
    "d = prune[1][:,1000:6700]\n",
    "d,m,s = normdata(d)\n",
    "a = 0\n",
    "lam = 0\n",
    "params = list()\n",
    "for i in [3,1,.3,.1]:\n",
    "    print \"Running\"\n",
    "    for k in [3,1,.3,.1]:\n",
    "        for j in range(10):\n",
    "            v,c = shuffsplit(d,n=200,alpha=i,lam=k)\n",
    "            if c < cost:\n",
    "                cost = c\n",
    "                params = v\n",
    "                a = i\n",
    "                lam = k"
   ]
  },
  {
   "cell_type": "code",
   "execution_count": 106,
   "metadata": {
    "collapsed": false
   },
   "outputs": [],
   "source": [
    "params.append(params[3]-1.33)"
   ]
  },
  {
   "cell_type": "code",
   "execution_count": 140,
   "metadata": {
    "collapsed": false
   },
   "outputs": [],
   "source": [
    "plotFig(d,params)"
   ]
  },
  {
   "cell_type": "code",
   "execution_count": 133,
   "metadata": {
    "collapsed": false
   },
   "outputs": [
    {
     "name": "stdout",
     "output_type": "stream",
     "text": [
      "0.01 0.01\n"
     ]
    }
   ],
   "source": [
    "print a,lam"
   ]
  },
  {
   "cell_type": "code",
   "execution_count": 63,
   "metadata": {
    "collapsed": false
   },
   "outputs": [
    {
     "name": "stdout",
     "output_type": "stream",
     "text": [
      "15.5595761179\n",
      "14.7427106288\n",
      "16.7408567495\n",
      "16.332516697\n",
      "14.4020503676\n",
      "17.18169557\n",
      "15.0826430392\n"
     ]
    }
   ],
   "source": [
    "d = prune[1][:,3294:6552]\n",
    "cost = np.inf\n",
    "left = step(d,'left')\n",
    "right = step(d,'right')\n",
    "best = list()\n",
    "for k in [1,.5,.1,.05,.01,.005,.001]:\n",
    "    v = val(d)\n",
    "    for i in range(2000):\n",
    "        v = gradientdesc(d,v,left,right,alpha=k)\n",
    "    h = v[0]\n",
    "    a = v[1]\n",
    "    f = v[2]\n",
    "    pl = v[3]\n",
    "    pr = v[4]\n",
    "    x = d[0]\n",
    "    y = d[1]\n",
    "    c = np.sum(((y-(h+a*np.sin(f*x+pl*np.pi)))*left)**2+((y-(h+a*np.sin(f*x+pr*np.pi)))*right)**2)\n",
    "    print c\n",
    "    if cost > c:\n",
    "        cost = c\n",
    "        best = [v,k]"
   ]
  },
  {
   "cell_type": "code",
   "execution_count": 64,
   "metadata": {
    "collapsed": false
   },
   "outputs": [
    {
     "data": {
      "image/png": "[encoded data removed]",
      "text/plain": [
       "<matplotlib.figure.Figure at 0x21e53b70>"
      ]
     },
     "metadata": {},
     "output_type": "display_data"
    }
   ],
   "source": [
    "plotFig(d,best[0])"
   ]
  },
  {
   "cell_type": "code",
   "execution_count": 62,
   "metadata": {
    "collapsed": false
   },
   "outputs": [
    {
     "data": {
      "text/plain": [
       "0.001"
      ]
     },
     "execution_count": 62,
     "metadata": {},
     "output_type": "execute_result"
    }
   ],
   "source": [
    "best[1]"
   ]
  },
  {
   "cell_type": "code",
   "execution_count": 28,
   "metadata": {
    "collapsed": false
   },
   "outputs": [
    {
     "data": {
      "text/plain": [
       "0.1"
      ]
     },
     "execution_count": 28,
     "metadata": {},
     "output_type": "execute_result"
    }
   ],
   "source": [
    "best"
   ]
  },
  {
   "cell_type": "code",
   "execution_count": 49,
   "metadata": {
    "collapsed": false
   },
   "outputs": [],
   "source": [
    "d = smooth(prune[1][:,2500:6600])\n",
    "left = step(d,'left')\n",
    "right = step(d,'right')\n",
    "costs = list()\n",
    "best = np.inf\n",
    "paramhold = list()\n",
    "for k in [.5,.1,.05,.01,.005,.001,0.0005,.0001]:\n",
    "    cost = list()\n",
    "    v = val(d)\n",
    "    for i in range(1000):\n",
    "        v = gradientdesc(d,v,left,right,alpha=k)\n",
    "        h = v[0]\n",
    "        a = v[1]\n",
    "        f = v[2]\n",
    "        pl = v[3]\n",
    "        pr = v[4]\n",
    "        x = d[0]\n",
    "        y = d[1]\n",
    "        c = np.sum((y-(h+a*np.sin(f*x+pl*np.pi))*left-(h+a*np.sin(f*x+pr*np.pi))*right)**2/y)\n",
    "        cost.append(c)\n",
    "    costs.append(cost)\n",
    "    if cost[-1] < best:\n",
    "        paramhold = [v,k]\n",
    "        best = cost[-1]"
   ]
  },
  {
   "cell_type": "code",
   "execution_count": 50,
   "metadata": {
    "collapsed": false
   },
   "outputs": [
    {
     "data": {
      "text/plain": [
       "[[12.144266237496247,\n",
       "  -0.079520499760741034,\n",
       "  0.83420820552611397,\n",
       "  0.22263097722227229,\n",
       "  -0.022056269109833014],\n",
       " 0.05]"
      ]
     },
     "execution_count": 50,
     "metadata": {},
     "output_type": "execute_result"
    }
   ],
   "source": [
    "paramhold"
   ]
  },
  {
   "cell_type": "code",
   "execution_count": 51,
   "metadata": {
    "collapsed": false
   },
   "outputs": [
    {
     "data": {
      "text/plain": [
       "[<matplotlib.lines.Line2D at 0x21975dd8>]"
      ]
     },
     "execution_count": 51,
     "metadata": {},
     "output_type": "execute_result"
    },
    {
     "data": {
      "image/png": "[encoded data removed]",
      "text/plain": [
       "<matplotlib.figure.Figure at 0x215c49e8>"
      ]
     },
     "metadata": {},
     "output_type": "display_data"
    }
   ],
   "source": [
    "plt.plot(costs[2])"
   ]
  },
  {
   "cell_type": "code",
   "execution_count": 52,
   "metadata": {
    "collapsed": false
   },
   "outputs": [
    {
     "data": {
      "image/png": "[encoded data removed]",
      "text/plain": [
       "<matplotlib.figure.Figure at 0x218fb240>"
      ]
     },
     "metadata": {},
     "output_type": "display_data"
    }
   ],
   "source": [
    "plotFig(d,paramhold[0])"
   ]
  },
  {
   "cell_type": "code",
   "execution_count": 358,
   "metadata": {
    "collapsed": false
   },
   "outputs": [
    {
     "data": {
      "text/plain": [
       "[[12.145795150270027,\n",
       "  -0.084669132525197643,\n",
       "  0.8388087210861449,\n",
       "  0.36216320623211373,\n",
       "  0],\n",
       " 0.0001]"
      ]
     },
     "execution_count": 358,
     "metadata": {},
     "output_type": "execute_result"
    }
   ],
   "source": [
    "hold"
   ]
  },
  {
   "cell_type": "code",
   "execution_count": 305,
   "metadata": {
    "collapsed": false
   },
   "outputs": [],
   "source": [
    "def gradientdesc(data,val,alpha=0.1,lam=1.0):\n",
    "    y = np.array(data[1])\n",
    "    x = np.array(data[0])\n",
    "    l = float(len(data[1]))\n",
    "    h = val[0]\n",
    "    a = val[1]\n",
    "    f = val[2]\n",
    "    pl = val[3]\n",
    "    pr = 0\n",
    "    funl = (h+a*np.sin(f*x+pl*np.pi))\n",
    "    dh = lam*1.0/l*np.sum(-y+funl*left)\n",
    "    da = lam*1.0/l*np.sum((-y+funl*left)*(np.sin(f*x+pl*np.pi)))+alpha/l*a\n",
    "    df = lam*1.0/l*np.sum((-y+funl*left)*(a*np.cos(f*x+pl*np.pi)*x))+alpha/l*f\n",
    "    dpl = lam*1.0/l*np.sum((-y+funl*left)*(a*np.cos(f*x+pl*np.pi)*np.pi))+alpha/l*pl\n",
    "    h -= dh\n",
    "    a -= da\n",
    "    f -= df\n",
    "    pl -= dpl\n",
    "    return [h,a,f,pl,pr]"
   ]
  },
  {
   "cell_type": "code",
   "execution_count": 359,
   "metadata": {
    "collapsed": false
   },
   "outputs": [],
   "source": [
    "A = np.linspace(0,2*paramhold[0][1],1000)\n",
    "F = np.linspace(0,2*paramhold[0][2],1000)"
   ]
  },
  {
   "cell_type": "code",
   "execution_count": 294,
   "metadata": {
    "collapsed": false
   },
   "outputs": [
    {
     "data": {
      "text/plain": [
       "0.6981317007977318"
      ]
     },
     "execution_count": 294,
     "metadata": {},
     "output_type": "execute_result"
    }
   ],
   "source": [
    "2*np.pi/9.0"
   ]
  },
  {
   "cell_type": "code",
   "execution_count": 360,
   "metadata": {
    "collapsed": false
   },
   "outputs": [],
   "source": [
    "darray = list()\n",
    "for i in A:\n",
    "    hold = list()\n",
    "    for j in F:\n",
    "        hold.append(np.sum((y-(h+i*np.sin(j*x+pl*np.pi)))**2/y))\n",
    "    darray.append(np.array(hold))\n",
    "darray = np.array(darray)"
   ]
  },
  {
   "cell_type": "code",
   "execution_count": 346,
   "metadata": {
    "collapsed": true
   },
   "outputs": [],
   "source": [
    "CS = plt.contour(A, F, darray, 15, linewidths=0.5, colors='k')"
   ]
  },
  {
   "cell_type": "code",
   "execution_count": 68,
   "metadata": {
    "collapsed": false
   },
   "outputs": [
    {
     "data": {
      "text/plain": [
       "4398"
      ]
     },
     "execution_count": 68,
     "metadata": {},
     "output_type": "execute_result"
    }
   ],
   "source": [
    "ch.search(prune[1],-27)\n",
    "ch.search(prune[1],-20)"
   ]
  },
  {
   "cell_type": "code",
   "execution_count": 422,
   "metadata": {
    "collapsed": false
   },
   "outputs": [],
   "source": [
    "out=list()\n",
    "sd = sectiondata(prune[0],n=100)\n",
    "for i in sd:\n",
    "    d = i[2]\n",
    "    left = step(d,'left')\n",
    "    right = step(d,'right')\n",
    "    v = val(d)\n",
    "    for i in range(100):\n",
    "        v = gradientdesc(d,v,left,right,alpha=0.001)\n",
    "    out.append(v)"
   ]
  },
  {
   "cell_type": "code",
   "execution_count": 309,
   "metadata": {
    "collapsed": false
   },
   "outputs": [],
   "source": [
    "ind = 0"
   ]
  },
  {
   "cell_type": "code",
   "execution_count": 421,
   "metadata": {
    "collapsed": false
   },
   "outputs": [
    {
     "ename": "IndexError",
     "evalue": "list index out of range",
     "traceback": [
      "\u001b[1;31m---------------------------------------------------------------------------\u001b[0m",
      "\u001b[1;31mIndexError\u001b[0m                                Traceback (most recent call last)",
      "\u001b[1;32m<ipython-input-421-716950cd285c>\u001b[0m in \u001b[0;36m<module>\u001b[1;34m()\u001b[0m\n\u001b[0;32m      1\u001b[0m \u001b[0mind\u001b[0m \u001b[1;33m+=\u001b[0m \u001b[1;36m1\u001b[0m\u001b[1;33m\u001b[0m\u001b[0m\n\u001b[1;32m----> 2\u001b[1;33m \u001b[0mplotFig\u001b[0m\u001b[1;33m(\u001b[0m\u001b[0msd\u001b[0m\u001b[1;33m[\u001b[0m\u001b[0mind\u001b[0m\u001b[1;33m]\u001b[0m\u001b[1;33m[\u001b[0m\u001b[1;36m2\u001b[0m\u001b[1;33m]\u001b[0m\u001b[1;33m,\u001b[0m\u001b[0mout\u001b[0m\u001b[1;33m[\u001b[0m\u001b[0mind\u001b[0m\u001b[1;33m]\u001b[0m\u001b[1;33m)\u001b[0m\u001b[1;33m\u001b[0m\u001b[0m\n\u001b[0m",
      "\u001b[1;31mIndexError\u001b[0m: list index out of range"
     ],
     "output_type": "error"
    }
   ],
   "source": [
    "ind += 1\n",
    "plotFig(sd[ind][2],out[ind])"
   ]
  },
  {
   "cell_type": "code",
   "execution_count": 339,
   "metadata": {
    "collapsed": false
   },
   "outputs": [],
   "source": [
    "def multirun(d,alpha=1.0):\n",
    "    cost = np.inf\n",
    "    out = list()\n",
    "    left = step(d,'left')\n",
    "    right = step(d,'right')\n",
    "    x = np.array(d[0])\n",
    "    y = np.array(d[1])\n",
    "    for i in range(20):\n",
    "        v = val(d)\n",
    "        for i in range(100):\n",
    "            v = gradientdesc(d,v,left,right,alpha)\n",
    "        c = np.sum(((y - (v[0] + v[1] * np.sin(v[2] * x + v[3] * np.pi)))*left) ** 2\n",
    "                                   + ((y - (v[0] + v[1] * np.sin(v[2] * x + v[4] * np.pi)))*right) ** 2)\n",
    "        if c < cost:\n",
    "            cost = c\n",
    "            out = v\n",
    "    return out"
   ]
  },
  {
   "cell_type": "code",
   "execution_count": 331,
   "metadata": {
    "collapsed": false
   },
   "outputs": [
    {
     "data": {
      "text/plain": [
       "21"
      ]
     },
     "execution_count": 331,
     "metadata": {},
     "output_type": "execute_result"
    }
   ],
   "source": [
    "ind"
   ]
  },
  {
   "cell_type": "code",
   "execution_count": 361,
   "metadata": {
    "collapsed": false
   },
   "outputs": [
    {
     "data": {
      "text/plain": [
       "[-0.023574622441194713,\n",
       " -0.097878493451213563,\n",
       " 1.0930941586277065,\n",
       " -0.1154783943383466,\n",
       " 1.0460170637906732]"
      ]
     },
     "execution_count": 361,
     "metadata": {},
     "output_type": "execute_result"
    }
   ],
   "source": [
    "out[ind]"
   ]
  },
  {
   "cell_type": "code",
   "execution_count": 308,
   "metadata": {
    "collapsed": false
   },
   "outputs": [],
   "source": [
    "out=list()\n",
    "for i in sectiondata(prune[1],n=100):\n",
    "    d = i[2]\n",
    "    out.append(multirun(d,0.001))"
   ]
  },
  {
   "cell_type": "code",
   "execution_count": 363,
   "metadata": {
    "collapsed": false
   },
   "outputs": [
    {
     "data": {
      "text/plain": [
       "1.1614954581290198"
      ]
     },
     "execution_count": 363,
     "metadata": {},
     "output_type": "execute_result"
    }
   ],
   "source": [
    "(out[ind][4]-out[ind][3])%2"
   ]
  },
  {
   "cell_type": "code",
   "execution_count": 337,
   "metadata": {
    "collapsed": false
   },
   "outputs": [
    {
     "data": {
      "image/png": "[encoded data removed]",
      "text/plain": [
       "<matplotlib.figure.Figure at 0x229e8b38>"
      ]
     },
     "metadata": {},
     "output_type": "display_data"
    }
   ],
   "source": [
    "plotFig(sd[ind][2],out[ind])"
   ]
  },
  {
   "cell_type": "code",
   "execution_count": null,
   "metadata": {
    "collapsed": true
   },
   "outputs": [],
   "source": [
    ""
   ]
  }
 ],
 "metadata": {
  "kernelspec": {
   "display_name": "Python 2",
   "language": "python",
   "name": "python2"
  },
  "language_info": {
   "codemirror_mode": {
    "name": "ipython",
    "version": 2.0
   },
   "file_extension": ".py",
   "mimetype": "text/x-python",
   "name": "python",
   "nbconvert_exporter": "python",
   "pygments_lexer": "ipython2",
   "version": "2.7.10"
  }
 },
 "nbformat": 4,
 "nbformat_minor": 0
}
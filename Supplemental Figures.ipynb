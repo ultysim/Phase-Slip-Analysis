{
 "cells": [
  {
   "cell_type": "code",
   "execution_count": 1,
   "metadata": {},
   "outputs": [
    {
     "name": "stdout",
     "output_type": "stream",
     "text": [
      "Using matplotlib backend: TkAgg\n"
     ]
    }
   ],
   "source": [
    "import Analysis\n",
    "import matplotlib as mpl\n",
    "from matplotlib import pyplot as plt\n",
    "import numpy as np\n",
    "%matplotlib"
   ]
  },
  {
   "cell_type": "code",
   "execution_count": 54,
   "metadata": {
    "collapsed": true
   },
   "outputs": [],
   "source": [
    "def search(data, t):\n",
    "    seq = data\n",
    "    min = 0\n",
    "    max = len(seq) - 1\n",
    "    while True:        \n",
    "        m = (min + max) // 2\n",
    "        if max < min:\n",
    "            if np.abs(t-seq[m]) < np.abs(t-seq[m-1]):          \n",
    "                return m\n",
    "            else:\n",
    "                return m-1        \n",
    "        if seq[m] < t:\n",
    "            min = m + 1\n",
    "        elif seq[m] > t:\n",
    "            max = m - 1\n",
    "        else:\n",
    "            return m"
   ]
  },
  {
   "cell_type": "code",
   "execution_count": 2,
   "metadata": {
    "collapsed": true
   },
   "outputs": [],
   "source": [
    "from matplotlib.gridspec import GridSpec\n",
    "mpl.rcParams.update({'font.size': 8})\n",
    "gs = GridSpec(1000,1000)"
   ]
  },
  {
   "cell_type": "code",
   "execution_count": 3,
   "metadata": {
    "collapsed": true
   },
   "outputs": [],
   "source": [
    "def t(min,max):\n",
    "    diff = max-min\n",
    "    p = diff*.3\n",
    "    return min-p,max+p"
   ]
  },
  {
   "cell_type": "code",
   "execution_count": 665,
   "metadata": {
    "collapsed": true
   },
   "outputs": [],
   "source": [
    "run_2014 = Analysis.generate_2014()"
   ]
  },
  {
   "cell_type": "code",
   "execution_count": 234,
   "metadata": {},
   "outputs": [
    {
     "data": {
      "text/plain": [
       "<matplotlib.text.Text at 0x397ccef0>"
      ]
     },
     "execution_count": 234,
     "metadata": {},
     "output_type": "execute_result"
    }
   ],
   "source": [
    "#Plot filenum 9, B = 5.5800 T\n",
    "\n",
    "fig = plt.figure(figsize = [7, 2.5])\n",
    "ax1 = plt.subplot(gs[:900,:])\n",
    "run_2014.prune_data[9].plot()\n",
    "run_2014.prune_data[9].fits[0].plot_select('l','k',2,-18.6613,-13.8051)\n",
    "run_2014.prune_data[9].fits[0].plot_select('l','k--',2,-13.8051,-7.2823)\n",
    "\n",
    "run_2014.prune_data[9].fits[0].plot_select('l','k',2,-7.2823,-5.9637)\n",
    "\n",
    "run_2014.prune_data[9].fits[0].plot_select('r','r--',2,-18.6613,-13.8051)\n",
    "run_2014.prune_data[9].fits[0].plot_select('r','r',2,-13.8051,-5.9637)\n",
    "\n",
    "run_2014.prune_data[9].fits[2].plot_select('l','k',2,-20.4724,-20.3559)\n",
    "run_2014.prune_data[9].fits[2].plot_select('r','r--',2,-20.4724,-20.3559)\n",
    "\n",
    "run_2014.prune_data[9].fits[2].plot_select('l','k--',2,-20.3559,-24.3259)\n",
    "run_2014.prune_data[9].fits[2].plot_select('r','r',2,-20.3559,-24.3259)\n",
    "\n",
    "run_2014.prune_data[9].fits[2].plot_select('l','k',2,-24.3259,-24.4258)\n",
    "run_2014.prune_data[9].fits[2].plot_select('r','r--',2,-24.3259,-24.4258)\n",
    "\n",
    "run_2014.prune_data[9].fits[2].plot_select('l','k--',2,-24.4258,-25.0974)\n",
    "run_2014.prune_data[9].fits[2].plot_select('r','r',2,-24.4258,-25.0974)\n",
    "\n",
    "run_2014.prune_data[9].fits[2].plot_select('l','k',2,-25.0974,-25.2132)\n",
    "run_2014.prune_data[9].fits[2].plot_select('r','r--',2,-25.0974,-25.2132)\n",
    "\n",
    "\n",
    "run_2014.prune_data[9].fits[2].plot_select('r','r',2,-25.2132,-30)\n",
    "run_2014.prune_data[9].fits[2].plot_select('l','k--',2,-25.2132,-30)\n",
    "\n",
    "plt.xlim([-30,-4.1])\n",
    "\n",
    "plt.ylabel('R$_{D}$ (k$\\Omega$)',size=12)\n",
    "plt.xlabel('V$_{P}$ (mV)',size=12)\n"
   ]
  },
  {
   "cell_type": "code",
   "execution_count": 235,
   "metadata": {
    "collapsed": true
   },
   "outputs": [],
   "source": [
    "plt.savefig('9 - 5580',dpi=1200)"
   ]
  },
  {
   "cell_type": "code",
   "execution_count": 57,
   "metadata": {
    "collapsed": true
   },
   "outputs": [],
   "source": [
    "from scipy.optimize import curve_fit"
   ]
  },
  {
   "cell_type": "code",
   "execution_count": 67,
   "metadata": {
    "collapsed": true
   },
   "outputs": [],
   "source": [
    "def func(x,freq,amp,phase_l,height,slope,v0):\n",
    "    return height + amp * np.sin(freq * x + phase_l) + slope * (x - v0)\n",
    "    "
   ]
  },
  {
   "cell_type": "code",
   "execution_count": 104,
   "metadata": {
    "collapsed": true
   },
   "outputs": [],
   "source": [
    "def gen_func(fit):\n",
    "    def fitting_func(x, phase_r):\n",
    "        return func(x,fit[0],fit[1],phase_r,fit[3],fit[4],fit[5])\n",
    "    return fitting_func"
   ]
  },
  {
   "cell_type": "code",
   "execution_count": 144,
   "metadata": {
    "collapsed": true
   },
   "outputs": [],
   "source": [
    "def make_fit(popt,popt2,left,right):\n",
    "    d_phi = ((popt2[0] - popt[2])/np.pi)%2\n",
    "    return Analysis.Fit([popt[0],popt[1],popt2[0],popt[2],popt[3],popt[4],1,left,right,d_phi,1,popt[5]])"
   ]
  },
  {
   "cell_type": "code",
   "execution_count": 567,
   "metadata": {
    "collapsed": true
   },
   "outputs": [],
   "source": [
    "def make_fit_array(popt,popt2,left,right):\n",
    "    d_phi = ((popt2[0] - popt[2])/np.pi)%2\n",
    "    return np.array([popt[0],popt[1],popt2[0],popt[2],popt[3],popt[4],1,left,right,d_phi,1,popt[5]])"
   ]
  },
  {
   "cell_type": "code",
   "execution_count": 1,
   "metadata": {
    "collapsed": true
   },
   "outputs": [],
   "source": [
    "def data_partition(data_x,data_y,sections):\n",
    "    x = list()\n",
    "    y = list()\n",
    "    for i in sections:\n",
    "        i_min = search(data_x,i[0])\n",
    "        i_max = search(data_x,i[1])+1\n",
    "        x.extend(data_x[i_min:i_max])\n",
    "        y.extend(data_y[i_min:i_max])\n",
    "    return np.array(x), np.array(y)"
   ]
  },
  {
   "cell_type": "code",
   "execution_count": 340,
   "metadata": {
    "collapsed": true
   },
   "outputs": [],
   "source": [
    "filenum = 7\n",
    "\n",
    "x_temp, y_temp = data_partition(run_2014.prune_data[filenum].x,run_2014.prune_data[filenum].y,[[-30.3898,-21.95],[-21.0302,-19.93]])\n",
    "\n",
    "popt, pcov = curve_fit(func, x_temp, y_temp)\n",
    "\n",
    "slip_func = gen_func(popt)"
   ]
  },
  {
   "cell_type": "code",
   "execution_count": 341,
   "metadata": {},
   "outputs": [
    {
     "data": {
      "text/plain": [
       "[<matplotlib.lines.Line2D at 0x4b50bef0>]"
      ]
     },
     "execution_count": 341,
     "metadata": {},
     "output_type": "execute_result"
    }
   ],
   "source": [
    "run_2014.prune_data[7].plot()\n",
    "plt.plot(run_2014.prune_data[filenum].x[i_min:i_max+1000],func(run_2014.prune_data[filenum].x[i_min:i_max+1000],*popt),linewidth = 3, color = 'r')"
   ]
  },
  {
   "cell_type": "code",
   "execution_count": 330,
   "metadata": {
    "collapsed": true
   },
   "outputs": [],
   "source": [
    "i_min = search(run_2014.prune_data[filenum].x,-21.9504)\n",
    "i_max = search(run_2014.prune_data[filenum].x,-21.0615)+1\n",
    "\n",
    "temp = (popt[2]%(2*np.pi))\n",
    "guess = temp - 0.25 * np.pi\n",
    "popt2, pcov2 = curve_fit(slip_func, run_2014.prune_data[filenum].x[i_min:i_max], run_2014.prune_data[filenum].y[i_min:i_max],p0=[guess],bounds = ([-2*np.pi],[2*np.pi]))"
   ]
  },
  {
   "cell_type": "code",
   "execution_count": 331,
   "metadata": {},
   "outputs": [
    {
     "data": {
      "text/plain": [
       "[<matplotlib.lines.Line2D at 0x49c354e0>]"
      ]
     },
     "execution_count": 331,
     "metadata": {},
     "output_type": "execute_result"
    }
   ],
   "source": [
    "run_2014.prune_data[7].plot()\n",
    "plt.plot(run_2014.prune_data[filenum].x[i_min:i_max],slip_func(run_2014.prune_data[filenum].x[i_min:i_max],*popt2),linewidth = 3, color = 'r')"
   ]
  },
  {
   "cell_type": "code",
   "execution_count": 346,
   "metadata": {
    "collapsed": true
   },
   "outputs": [],
   "source": [
    "new_fit = make_fit(popt,popt2,-30.3898,-19.93)"
   ]
  },
  {
   "cell_type": "code",
   "execution_count": 353,
   "metadata": {
    "collapsed": true
   },
   "outputs": [],
   "source": [
    "run_2014.prune_data[7].plot()\n",
    "new_fit.plot(False)"
   ]
  },
  {
   "cell_type": "code",
   "execution_count": 454,
   "metadata": {},
   "outputs": [
    {
     "data": {
      "text/plain": [
       "(-30.41, -4.077)"
      ]
     },
     "execution_count": 454,
     "metadata": {},
     "output_type": "execute_result"
    }
   ],
   "source": [
    "#Plot filenum 7, B = 5.581 T\n",
    "\n",
    "filenum = 7\n",
    "fig = plt.figure(figsize = [7, 2.5])\n",
    "ax1 = plt.subplot(gs[:900,:])\n",
    "\n",
    "plt.ylabel('R$_{D}$ (k$\\Omega$)',size=12)\n",
    "plt.xlabel('V$_{P}$ (mV)',size=12)\n",
    "\n",
    "\n",
    "run_2014.prune_data[filenum].plot()\n",
    "\n",
    "run_2014.prune_data[filenum].fits[3].plot_select('l','k--',2,-30.3754,-21.9616)\n",
    "run_2014.prune_data[filenum].fits[3].plot_select('r','r',2,-30.3754,-21.9616)\n",
    "\n",
    "run_2014.prune_data[filenum].fits[3].plot_select('l','k',2,-21.9616,-21.0567)\n",
    "run_2014.prune_data[filenum].fits[3].plot_select('r','r--',2,-21.9616,-21.0567)\n",
    "\n",
    "run_2014.prune_data[filenum].fits[3].plot_select('l','k--',2,-21.0567,-20.205)\n",
    "run_2014.prune_data[filenum].fits[3].plot_select('r','r',2,-21.0567,-20.205)\n",
    "\n",
    "run_2014.prune_data[filenum].fits[3].plot_select('l','k--',2,-21.0567,-20.205)\n",
    "run_2014.prune_data[filenum].fits[3].plot_select('r','r',2,-21.0567,-20.205)\n",
    "\n",
    "run_2014.prune_data[filenum].fits[0].plot_select('l','k',2,-19.0995,-13.9972)\n",
    "run_2014.prune_data[filenum].fits[0].plot_select('r','r--',2,-19.0995,-13.9972)\n",
    "\n",
    "run_2014.prune_data[filenum].fits[0].plot_select('l','k--',2,-13.9972,-12.5438)\n",
    "run_2014.prune_data[filenum].fits[0].plot_select('r','r',2,-13.9972,-12.5438)\n",
    "\n",
    "run_2014.prune_data[filenum].fits[0].plot_select('l','k',2,-12.5438,-12.4247)\n",
    "run_2014.prune_data[filenum].fits[0].plot_select('r','r--',2,-12.5438,-12.4247)\n",
    "\n",
    "run_2014.prune_data[filenum].fits[0].plot_select('l','k--',2,-12.4247,-8.2276)\n",
    "run_2014.prune_data[filenum].fits[0].plot_select('r','r',2,-12.4247,-4)\n",
    "\n",
    "run_2014.prune_data[filenum].fits[0].plot_select('l','k',2,-8.2276,-6.713)\n",
    "\n",
    "plt.xlim(-30.41,-4.077)"
   ]
  },
  {
   "cell_type": "code",
   "execution_count": 455,
   "metadata": {
    "collapsed": true
   },
   "outputs": [],
   "source": [
    "plt.savefig('7 - 5581',dpi=1200)"
   ]
  },
  {
   "cell_type": "code",
   "execution_count": 460,
   "metadata": {},
   "outputs": [
    {
     "data": {
      "text/plain": [
       "(-30.41, -4.077)"
      ]
     },
     "execution_count": 460,
     "metadata": {},
     "output_type": "execute_result"
    }
   ],
   "source": [
    "#Plot filenum 7, B = 5.581 T version 2\n",
    "\n",
    "filenum = 7\n",
    "fig = plt.figure(figsize = [7, 2.5])\n",
    "ax1 = plt.subplot(gs[:900,:])\n",
    "\n",
    "plt.ylabel('R$_{D}$ (k$\\Omega$)',size=12)\n",
    "plt.xlabel('V$_{P}$ (mV)',size=12)\n",
    "\n",
    "\n",
    "run_2014.prune_data[filenum].plot()\n",
    "\n",
    "run_2014.prune_data[filenum].fits[3].plot_select('r','k',2,-30.3754,-21.9616)\n",
    "run_2014.prune_data[filenum].fits[3].plot_select('l','r--',2,-30.3754,-21.9616)\n",
    "\n",
    "run_2014.prune_data[filenum].fits[3].plot_select('r','k--',2,-21.9616,-21.0567)\n",
    "run_2014.prune_data[filenum].fits[3].plot_select('l','r',2,-21.9616,-21.0567)\n",
    "\n",
    "run_2014.prune_data[filenum].fits[3].plot_select('r','k',2,-21.0567,-20.205)\n",
    "run_2014.prune_data[filenum].fits[3].plot_select('l','r--',2,-21.0567,-20.205)\n",
    "\n",
    "run_2014.prune_data[filenum].fits[3].plot_select('r','k',2,-21.0567,-20.205)\n",
    "run_2014.prune_data[filenum].fits[3].plot_select('l','r--',2,-21.0567,-20.205)\n",
    "\n",
    "run_2014.prune_data[filenum].fits[0].plot_select('l','k',2,-19.0995,-13.9972)\n",
    "run_2014.prune_data[filenum].fits[0].plot_select('r','r--',2,-19.0995,-13.9972)\n",
    "\n",
    "run_2014.prune_data[filenum].fits[0].plot_select('l','k--',2,-13.9972,-12.5438)\n",
    "run_2014.prune_data[filenum].fits[0].plot_select('r','r',2,-13.9972,-12.5438)\n",
    "\n",
    "run_2014.prune_data[filenum].fits[0].plot_select('l','k',2,-12.5438,-12.4247)\n",
    "run_2014.prune_data[filenum].fits[0].plot_select('r','r--',2,-12.5438,-12.4247)\n",
    "\n",
    "run_2014.prune_data[filenum].fits[0].plot_select('l','k--',2,-12.4247,-8.2276)\n",
    "run_2014.prune_data[filenum].fits[0].plot_select('r','r',2,-12.4247,-4)\n",
    "\n",
    "run_2014.prune_data[filenum].fits[0].plot_select('l','k',2,-8.2276,-6.715)\n",
    "\n",
    "plt.xlim(-30.41,-4.077)"
   ]
  },
  {
   "cell_type": "code",
   "execution_count": 458,
   "metadata": {
    "collapsed": true
   },
   "outputs": [],
   "source": [
    "plt.savefig('7 - 55815 v2',dpi=1200)"
   ]
  },
  {
   "cell_type": "code",
   "execution_count": 393,
   "metadata": {
    "collapsed": true
   },
   "outputs": [],
   "source": [
    "filenum = 7\n",
    "\n",
    "x_temp, y_temp = data_partition(run_2014.prune_data[filenum].x,run_2014.prune_data[filenum].y,[[-21.9616,-21.0567],[-19.8056,-13.9972],[-12.5438,-12.4247],[-8.07224,-7.9235],[-7.5887,-7.457]])\n",
    "\n",
    "guess = [run_2014.prune_data[filenum].fits[0].freq,run_2014.prune_data[filenum].fits[0].amp,run_2014.prune_data[filenum].fits[0].phase_l,run_2014.prune_data[filenum].fits[0].height,run_2014.prune_data[filenum].fits[0].slope,run_2014.prune_data[filenum].fits[0].v0]\n",
    "\n",
    "popt, pcov = curve_fit(func, x_temp, y_temp, p0 = guess)\n",
    "\n",
    "slip_func = gen_func(popt)"
   ]
  },
  {
   "cell_type": "code",
   "execution_count": 394,
   "metadata": {},
   "outputs": [
    {
     "data": {
      "text/plain": [
       "[<matplotlib.lines.Line2D at 0x5456d470>]"
      ]
     },
     "execution_count": 394,
     "metadata": {},
     "output_type": "execute_result"
    }
   ],
   "source": [
    "run_2014.prune_data[filenum].plot()\n",
    "plt.plot(run_2014.prune_data[filenum].x,func(run_2014.prune_data[filenum].x,*popt),linewidth = 3, color = 'r')"
   ]
  },
  {
   "cell_type": "code",
   "execution_count": 395,
   "metadata": {
    "collapsed": true
   },
   "outputs": [],
   "source": [
    "x_temp, y_temp = data_partition(run_2014.prune_data[filenum].x,run_2014.prune_data[filenum].y,[[-13.8291,-12.559],[-12.4051,-8.254],[-7.8757,-7.7331],[-7.3923,-7.2712]])\n",
    "\n",
    "temp = (popt[2]%(2*np.pi))\n",
    "guess = temp - 0.25 * np.pi\n",
    "popt2, pcov2 = curve_fit(slip_func, x_temp, y_temp,p0=[guess],bounds = ([-2*np.pi],[2*np.pi]))"
   ]
  },
  {
   "cell_type": "code",
   "execution_count": 397,
   "metadata": {},
   "outputs": [
    {
     "data": {
      "text/plain": [
       "[<matplotlib.lines.Line2D at 0x520ca1d0>]"
      ]
     },
     "execution_count": 397,
     "metadata": {},
     "output_type": "execute_result"
    }
   ],
   "source": [
    "run_2014.prune_data[filenum].plot()\n",
    "plt.plot(run_2014.prune_data[filenum].x,slip_func(run_2014.prune_data[filenum].x,*popt2),linewidth = 3, color = 'r')"
   ]
  },
  {
   "cell_type": "code",
   "execution_count": 414,
   "metadata": {
    "collapsed": true
   },
   "outputs": [],
   "source": [
    "new_fit = make_fit(popt,popt2,-21.96,-5.15)"
   ]
  },
  {
   "cell_type": "code",
   "execution_count": 415,
   "metadata": {
    "collapsed": true
   },
   "outputs": [],
   "source": [
    "new_fit.phase_r, new_fit.phase_l = new_fit.phase_l, new_fit.phase_r"
   ]
  },
  {
   "cell_type": "code",
   "execution_count": 492,
   "metadata": {},
   "outputs": [
    {
     "data": {
      "text/plain": [
       "(-30.41, -4.077)"
      ]
     },
     "execution_count": 492,
     "metadata": {},
     "output_type": "execute_result"
    }
   ],
   "source": [
    "#Plot filenum 7, B = 5.5815 T version 3\n",
    "\n",
    "filenum = 7\n",
    "fig = plt.figure(figsize = [7, 2.5])\n",
    "ax1 = plt.subplot(gs[:900,:])\n",
    "\n",
    "plt.ylabel('R$_{D}$ (k$\\Omega$)',size=12)\n",
    "plt.xlabel('V$_{P}$ (mV)',size=12)\n",
    "\n",
    "\n",
    "run_2014.prune_data[filenum].plot()\n",
    "\n",
    "run_2014.prune_data[filenum].fits[3].plot_select('r','k',2,-30.3754,-21.9616)\n",
    "run_2014.prune_data[filenum].fits[3].plot_select('l','r--',2,-30.3754,-21.9616)\n",
    "\n",
    "run_2014.prune_data[filenum].fits[3].plot_select('r','k--',2,-21.9616,-21.0567)\n",
    "run_2014.prune_data[filenum].fits[3].plot_select('l','r',2,-21.9616,-21.0567)\n",
    "\n",
    "run_2014.prune_data[filenum].fits[3].plot_select('r','k',2,-21.0567,-20.205)\n",
    "run_2014.prune_data[filenum].fits[3].plot_select('l','r--',2,-21.0567,-20.205)\n",
    "\n",
    "run_2014.prune_data[filenum].fits[3].plot_select('r','k',2,-21.0567,-20.205)\n",
    "run_2014.prune_data[filenum].fits[3].plot_select('l','r--',2,-21.0567,-20.205)\n",
    "\n",
    "new_fit.plot_select('l','k',2,-19.0995,-13.9972)\n",
    "new_fit.plot_select('r','r--',2,-19.0995,-13.9972)\n",
    "\n",
    "new_fit.plot_select('l','k--',2,-13.9972,-12.5438)\n",
    "new_fit.plot_select('r','r',2,-13.9972,-12.5438)\n",
    "\n",
    "new_fit.plot_select('l','k',2,-12.5438,-12.4247)\n",
    "new_fit.plot_select('r','r--',2,-12.5438,-12.4247)\n",
    "\n",
    "new_fit.plot_select('l','k--',2,-12.4247,-8.2276)\n",
    "new_fit.plot_select('r','r',2,-12.4247,-4)\n",
    "\n",
    "new_fit.plot_select('l','k',2,-8.2276,-6.)\n",
    "\n",
    "plt.xlim(-30.41,-4.077)"
   ]
  },
  {
   "cell_type": "code",
   "execution_count": 493,
   "metadata": {
    "collapsed": true
   },
   "outputs": [],
   "source": [
    "plt.savefig('7 - 5581 v3',dpi=1200)"
   ]
  },
  {
   "cell_type": "code",
   "execution_count": 605,
   "metadata": {},
   "outputs": [
    {
     "data": {
      "text/plain": [
       "(-31.03, -4.0177)"
      ]
     },
     "execution_count": 605,
     "metadata": {},
     "output_type": "execute_result"
    }
   ],
   "source": [
    "#Plot filenum 4, B = 5.5825 T\n",
    "\n",
    "filenum = 4\n",
    "fig = plt.figure(figsize = [7, 2.5])\n",
    "ax1 = plt.subplot(gs[:900,:])\n",
    "\n",
    "plt.ylabel('R$_{D}$ (k$\\Omega$)',size=12)\n",
    "plt.xlabel('V$_{P}$ (mV)',size=12)\n",
    "\n",
    "\n",
    "run_2014.prune_data[filenum].plot()\n",
    "\n",
    "run_2014.prune_data[filenum].fits[3].plot_select('l','r--',2,-4.9934,-3.9992)\n",
    "run_2014.prune_data[filenum].fits[3].plot_select('r','k',2,-4.9934,-3.9992)\n",
    "\n",
    "run_2014.prune_data[filenum].fits[3].plot_select('l','r',2,-5.307,-4.9934)\n",
    "run_2014.prune_data[filenum].fits[3].plot_select('r','k--',2,-5.307,-4.9934)\n",
    "\n",
    "run_2014.prune_data[filenum].fits[3].plot_select('l','r--',2,-7.1903,-5.307)\n",
    "run_2014.prune_data[filenum].fits[3].plot_select('r','k',2,-7.1903,-5.307)\n",
    "\n",
    "run_2014.prune_data[filenum].fits[0].plot_select('l','k--',2,-14.3759,-7.1903)\n",
    "run_2014.prune_data[filenum].fits[0].plot_select('r','r',2,-14.3759,-7.1903)\n",
    "\n",
    "run_2014.prune_data[filenum].fits[0].plot_select('l','k',2,-20.4899,-14.3759)\n",
    "run_2014.prune_data[filenum].fits[0].plot_select('r','r--',2,-20.4899,-14.3759)\n",
    "\n",
    "\n",
    "\n",
    "plt.xlim(-31.03,-4.0177)"
   ]
  },
  {
   "cell_type": "code",
   "execution_count": 606,
   "metadata": {
    "collapsed": true
   },
   "outputs": [],
   "source": [
    "plt.savefig('4 - 55825',dpi=1200)"
   ]
  },
  {
   "cell_type": "code",
   "execution_count": 675,
   "metadata": {},
   "outputs": [
    {
     "data": {
      "text/plain": [
       "(-31.016, -4.9)"
      ]
     },
     "execution_count": 675,
     "metadata": {},
     "output_type": "execute_result"
    }
   ],
   "source": [
    "#Plot filenum 0, B = 5.5845 T\n",
    "\n",
    "filenum = 0\n",
    "fig = plt.figure(figsize = [7, 2.5])\n",
    "ax1 = plt.subplot(gs[:900,:])\n",
    "\n",
    "plt.ylabel('R$_{D}$ (k$\\Omega$)',size=12)\n",
    "plt.xlabel('V$_{P}$ (mV)',size=12)\n",
    "\n",
    "\n",
    "run_2014.prune_data[filenum].plot()\n",
    "\n",
    "run_2014.prune_data[filenum].fits[1].plot_select('l','r',2,-22.151,-19.4295)\n",
    "run_2014.prune_data[filenum].fits[1].plot_select('r','k--',2,-22.151,-19.4295)\n",
    "\n",
    "run_2014.prune_data[filenum].fits[0].plot_select('l','k',2,-19.4295,-14.8558)\n",
    "run_2014.prune_data[filenum].fits[0].plot_select('r','r--',2,-19.4295,-14.8558)\n",
    "\n",
    "run_2014.prune_data[filenum].fits[0].plot_select('l','k--',2,-14.8558,-8.458)\n",
    "run_2014.prune_data[filenum].fits[0].plot_select('r','r',2,-14.8558,-8.458)\n",
    "\n",
    "plt.xlim(-31.016,-4.9)"
   ]
  },
  {
   "cell_type": "code",
   "execution_count": 671,
   "metadata": {
    "collapsed": true
   },
   "outputs": [],
   "source": [
    "plt.savefig('0 - 55845',dpi=1200)"
   ]
  }
 ],
 "metadata": {
  "kernelspec": {
   "display_name": "Python 2",
   "language": "python",
   "name": "python2"
  },
  "language_info": {
   "codemirror_mode": {
    "name": "ipython",
    "version": 2
   },
   "file_extension": ".py",
   "mimetype": "text/x-python",
   "name": "python",
   "nbconvert_exporter": "python",
   "pygments_lexer": "ipython2",
   "version": "2.7.10"
  }
 },
 "nbformat": 4,
 "nbformat_minor": 2
}
